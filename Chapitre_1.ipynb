{
  "nbformat": 4,
  "nbformat_minor": 0,
  "metadata": {
    "colab": {
      "name": "Chapter 1.ipynb",
      "provenance": [],
      "collapsed_sections": [],
      "authorship_tag": "ABX9TyPkXKxyQLw00pQU4KbDkpDF",
      "include_colab_link": true
    },
    "kernelspec": {
      "name": "python3",
      "display_name": "Python 3"
    }
  },
  "cells": [
    {
      "cell_type": "markdown",
      "metadata": {
        "id": "view-in-github",
        "colab_type": "text"
      },
      "source": [
        "<a href=\"https://colab.research.google.com/github/andersknudby/Teledetection/blob/master/Chapitre_1.ipynb\" target=\"_parent\"><img src=\"https://colab.research.google.com/assets/colab-badge.svg\" alt=\"Open In Colab\"/></a>"
      ]
    },
    {
      "cell_type": "markdown",
      "metadata": {
        "id": "jv7dvT-f2nvH"
      },
      "source": [
        "#Chapitre 1 - Introduction\n",
        "\n",
        "##Programmation Python basée sur les processus\n",
        "\n",
        "Nous allons nous concentrer sur le langage de programmation appelé **Python**, et il y a plusieurs bonnes raisons à cela. Python est ce qu'on appelle un \"langage de haut niveau\", ce qui signifie en gros que le code que vous écrivez est raisonnablement interprétable par un être humain (techniquement, cela signifie que le langage a un haut niveau d'abstraction, ce qui signifie qu'il vous cache beaucoup de choses très informatiques, comme la gestion d'emplacements mémoire spécifiques dans l'ordinateur). Python a été conçu pour être particulièrement interprétable, et un bon code (appelé code \"pythonique\" dans la communauté) est considéré comme un code clair et facilement interprétable, plutôt que de produire nécessairement l'exécution la plus rapide possible. Python dispose également d'une très large communauté d'utilisateurs et d'une immense quantité d'aide et d'exemples de code en ligne, ce qui en fait un langage relativement facile à apprendre. Si vous souhaitez en faire plus que ce qui est inclus dans ces notes, une introduction très appréciée et disponible en ligne est le livre intitulé [Learn Python the hard way](https://learnpythonthehardway.org/book/).\n",
        "\n",
        "Nous nous concentrerons également sur ce que j'appelle la programmation par processus (ce n'est pas un terme officiel), dans laquelle l'interaction de l'utilisateur n'a pas lieu (ou n'est utilisée que pour initialiser le programme). Pensez au fichier .exe/.dmg que vous utilisez pour installer un logiciel sur votre machine Windows/OSX. Vous pouvez spécifier quelques éléments pour commencer, mais après cela, le programme s'exécute simplement, fait son travail et se termine. Le même type d'exécution caractérise un outil exécuté dans un progiciel géospatial, comme l'un des outils que vous pouvez utiliser dans ArcGIS. Vous spécifiez certains paramètres (appelés \"arguments\" lorsqu'ils sont transmis à l'outil), et lorsque vous cliquez sur \"Ok\", l'outil s'exécute sans autre interaction de votre part. Le produit de ce type de programme est généralement un ou plusieurs fichiers.\n",
        "\n",
        "L'alternative à la \"programmation par processus\" est ce que j'appelle la \"programmation par état\", dans laquelle un logiciel a un certain état et l'entrée de l'utilisateur modifie cet état. Imaginez qu'ArcGIS soit ouvert et qu'un ensemble de données soit chargé. ArcGIS se trouve dans un certain état, qui est défini par les couches affichées, le niveau de zoom, votre choix d'options de géotraitement, etc. C'est cet état que vous enregistrez dans le fichier .mxd lorsque vous sauvegardez votre projet ArcGIS. Rien dans cet état ne change avec le temps, sauf lorsque vous faites quelque chose. Cliquez sur le bouton \"zoom avant\", par exemple, et l'état change. Ajoutez une couche de données, et l'état change à nouveau. Mais si vous quittez l'ordinateur et allez prendre un café, rien ne change entre-temps (espérons-le !). Bien que la programmation basée sur l'état soit très courante et très utile, spécifiquement pour le traitement des données géospatiales, la plupart de ce que nous voulons faire est une programmation de processus. Et si nous voulons intégrer notre code dans un environnement basé sur l'état, nous pouvons créer un outil à partir de celui-ci et l'utiliser dans un logiciel existant qui le permet.\n",
        "\n"
      ]
    },
    {
      "cell_type": "markdown",
      "metadata": {
        "id": "89vgEe-T74OV"
      },
      "source": [
        "##Écrire du code Python - utiliser un IDE (en Anglais: Integrated Development Environment)\n",
        "Le code Python est le plus souvent stocké dans des fichiers .py, qui ne sont en fait que des fichiers texte dotés d'une extension spéciale pour que nous sachions de quoi il s'agit. Comme il s'agit de fichiers texte, vous pouvez les créer et les modifier dans n'importe quel logiciel de manipulation de texte, comme Notepad, WordPad, etc. (n'utilisez pas Word, les fichiers .docx ne sont pas de purs fichiers texte !) Cependant, lorsque vous commencez à écrire beaucoup de code et que vous essayez d'accomplir des tâches difficiles avec Python, un environnement de développement intégré (IDE) vous donne un tas d'outils pour vous aider à comprendre ce qui se passe réellement à chaque étape du code, et où les choses se passent mal (et c'est toujours le cas, un IDE est donc utile car il vous aide à les réparer). J'utilise personnellement PyCharm Community Edition comme IDE, qui est gratuit et que vous pouvez télécharger [ici](https://www.jetbrains.com/pycharm/download/). Les ordinateurs de laboratoire de l'Université d'Ottawa sont également équipés d'autres IDE, comme PyScripter et Spyder. Il y a des similitudes et des différences entre les différents IDE (essayez de chercher sur Google \"le meilleur IDE pour python\" pour trouver de nombreuses contributions très argumentées sur les raisons de choisir un IDE plutôt qu'un autre). En fin de compte, le choix d'un IDE est surtout une question de préférence. Un autre outil extrêmement utile pour la programmation Python est Anaconda, qui peut vous aider à gérer plusieurs environnements Python différents, des projets et leur code associé. De nombreuses personnes utilisent également Jupyter Notebooks. Si vous êtes intéressé, vous devriez explorer toutes ces options, qui sont toutes gratuites.\n",
        "\n",
        "Si vous lisez ceci, vous savez déjà que dans ce cours, nous allons utiliser l'IDE Python en ligne appelé Google Colab. Cet environnement est basé sur des \"notebooks\" (vous en lisez un en ce moment même), qui agissent comme des fichiers pour votre code Python et peuvent simultanément montrer des visualisations de vos données et résultats. Les notebooks sont également faciles à partager en ligne et à travailler en collaboration, ce qui les rend très utiles. Ce n'est pas vraiment mon outil préféré pour écrire, tester et déboguer du code, mais tout compte fait, je pense que c'est le meilleur choix pour un cours comme celui-ci.\n",
        "\n"
      ]
    },
    {
      "cell_type": "markdown",
      "metadata": {
        "id": "FJka9Y5KscJC"
      },
      "source": [
        "#####Afin de nous assurer que nous commençons par le début, veuillez suivre les étapes suivantes pour vous assurer que vous apprenez les bases de la colab:\n",
        "1\\) Trouvez Google Colab [ici](http://colab.research.google.com)\n",
        "\n",
        "2\\) Explorez le page [Welcome To Colaboratory](https://colab.research.google.com/notebooks/intro.ipynb#), Il contient toutes les informations de base sur le fonctionnement des carnets Colab.\n",
        "\n",
        "3\\) Veillez également à descendre sur cette page et à explorer, au minimum, les pages appelées:\n",
        "\n",
        ">a\\) [Guide to Markdown](https://colab.research.google.com/notebooks/markdown_guide.ipynb#)\n",
        "\n",
        ">b\\) [Importing libraries and installing dependencies](https://colab.research.google.com/notebooks/snippets/importing_libraries.ipynb)\n",
        "\n",
        ">c\\) [Loading data: Drive, Sheets, and Google Cloud Storage](https://colab.research.google.com/notebooks/io.ipynb)\n",
        "\n",
        "4\\)\tMaintenant, faites un bref test pour voir si tout fonctionne. Dans la tradition des programmeurs depuis, eh bien, le début de la programmation, nous allons commencer par écrire le programme classique \"Hello World\", juste pour vérifier que les choses fonctionnent à un niveau de base.:\n",
        "\n",
        ">a\\) Créer un nouveau cahier Colab (File – New notebook)\n",
        "\n",
        ">b\\) Renommez-le. Pour renommer le bloc-notes, il suffit de cliquer sur son nom dans le coin supérieur gauche de votre navigateur et de le modifier. Veillez à conserver l'extension .ipynb.\n",
        "\n",
        ">c\\) Dans le premier (et seul) bloc de code, tapez le code suivant :\n",
        "> print(\"Hello World\")\n",
        "\n",
        ">d\\) Appuyez sur Ctrl+Enter pour exécuter votre code. Il devrait maintenant ressembler à ceci:\n"
      ]
    },
    {
      "cell_type": "code",
      "metadata": {
        "id": "znBTLdJzt9TK"
      },
      "source": [
        "print(\"Hello World\")"
      ],
      "execution_count": null,
      "outputs": []
    },
    {
      "cell_type": "markdown",
      "metadata": {
        "id": "owUbKV3xuI7a"
      },
      "source": [
        ">e\\) Très simplement, la commande print prend ce qui se trouve entre les parenthèses - dans le cas présent le texte \"Hello World\" - et l'imprime à l'écran juste en dessous du bloc de code."
      ]
    },
    {
      "cell_type": "markdown",
      "metadata": {
        "id": "eTw2FOgUuZKo"
      },
      "source": [
        "##Comment écrire du meilleur code\n",
        "Il est bon de fournir quelques commentaires explicatifs avec votre code, comme par exemple qui a écrit le code, quand et dans quel but. En Python normal, le moyen d'y parvenir est d'utiliser le caractère '#'. En Python, toutes les lignes qui commencent par '#' sont interprétées comme des notes qui n'ont pas de fonction, donc ces lignes sont ignorées lorsque vous exécutez le programme. Leur seule fonction est d'aider les humains comme vous et moi à comprendre ce que le code est censé faire. Vous pouvez donc ajouter autant de commentaires que vous le souhaitez pour aider le futur vous (ou le futur quelqu'un d'autre) à comprendre ce qu'est votre code. Ainsi, par exemple, vous pourriez écrire quelque chose comme ceci (comme la dernière fois, pour voir ce qui se passe lorsque vous exécutez ce code, cliquez sur le bloc de code et appuyez sur Ctrl+Enter) :"
      ]
    },
    {
      "cell_type": "code",
      "metadata": {
        "id": "ZCKnTLAUumAI"
      },
      "source": [
        "# Code écrit par [votre nom], [date d'aujourd'hui].\n",
        "# But du code : apprendre le Python\n",
        "\n",
        "# Vous pouvez mettre les commentaires sur leur propre ligne\n",
        "print(\"Hello World\")  # Vous pouvez également placer des commentaires sur la même ligne que le code réel."
      ],
      "execution_count": null,
      "outputs": []
    },
    {
      "cell_type": "markdown",
      "metadata": {
        "id": "5TP0j7hou7cA"
      },
      "source": [
        "Avec colab, ou d'autres carnets, une bonne alternative est d'écrire vos commentaires en utilisant les blocs de texte, comme je l'ai fait dans ce carnet.\n",
        "\n",
        "Vous pouvez ajouter de nouveaux blocs de code et de nouveaux blocs de texte en utilisant les petits boutons \"+ Code\" et \"+ Text\" en haut à gauche du carnet. Vous pouvez déplacer chaque bloc à l'aide des flèches haut et bas situées dans le coin supérieur droit de chaque bloc. Et vous pouvez supprimer des blocs en utilisant le petit symbole de la poubelle, également situé dans le coin supérieur droit de chaque bloc. Essayez d'ajouter quelques blocs de chaque type à un carnet, déplacez-les un peu, puis supprimez-les à nouveau."
      ]
    },
    {
      "cell_type": "markdown",
      "metadata": {
        "id": "_7pK4rUcwI_T"
      },
      "source": [
        "Il y a des choses plus sophistiquées que vous pouvez faire avec markdown et les carnets de notes bien sûr, comme les télécharger sur github afin de les partager avec le monde entier. Voir [ceci](https://github.com/Tanu-N-Prabhu/Python/blob/master/Pandas/Pandas_DataFrame.ipynb) pour un bon exemple qui vous présente également pandas, une bibliothèque Python très utile. Pour suivre les exemples du reste de ce cours, vous devrez être un minimum familier avec les carnets de notes. Cela vaut donc la peine de jouer un peu avec eux, d'ajouter et de supprimer quelques cellules, d'écrire un peu de code simple (par exemple, des instructions d'impression) et de jouer avec les choses que vous pouvez faire avec markdown.\n",
        "\n",
        "L'écriture d'un bon code ne se limite pas aux commentaires, mais c'est un bon début. Nous y reviendrons dans les prochains chapitres.\n"
      ]
    },
    {
      "cell_type": "markdown",
      "metadata": {
        "id": "GvXO6hFYwl3L"
      },
      "source": [
        "## Variables en Python\n",
        "En dehors des simples instructions d'impression, presque toutes les choses utiles que vous pouvez faire en programmation reposent sur l'utilisation de variables. Vous pouvez considérer les variables comme des boîtes étiquetées ; chaque variable a un nom (l'étiquette) et une valeur (le contenu de la boîte). Le nom ne peut pas changer (disons qu'il est écrit avec un marqueur permanent), mais la valeur peut changer (parce que vous pouvez mettre des choses dans la boîte et en retirer). Les variables sont utiles en programmation car le fait de se référer au nom de la variable vous permet d'utiliser sa valeur. Un exemple permettra d'illustrer l'utilité de ces variables. Imaginons que je crée une variable nommée classSize. À la date d'aujourd'hui, il y a 41 étudiants inscrits dans votre classe, ce sera donc la valeur de cette variable. En pratique, je procède de la manière suivante :"
      ]
    },
    {
      "cell_type": "code",
      "metadata": {
        "id": "ktsEEA2ywp6Z"
      },
      "source": [
        "classSize = 41"
      ],
      "execution_count": null,
      "outputs": []
    },
    {
      "cell_type": "markdown",
      "metadata": {
        "id": "C9I3g_jFwr45"
      },
      "source": [
        "**Notez que les noms de variables ne peuvent pas contenir d'espaces et qu'ils sont sensibles à la casse**, ce qui signifie que la variable \"hat\" est différente de la variable \"Hat\". J'ai tendance à structurer mes noms de variables comme indiqué ci-dessus, en utilisant des lettres majuscules pour indiquer un nouveau mot. Je pense que \"classSize\" est plus facile et plus rapide à lire que \"classsize\". D'autres utilisent des traits de soulignement, le nom serait donc \"class_size\". C'est vous qui décidez, mais assurez-vous d'être cohérent.\n",
        "\n",
        "Si quelqu'un abandonne le cours, je pourrais diminuer la valeur de ma variable avec l'instruction suivante :\n"
      ]
    },
    {
      "cell_type": "code",
      "metadata": {
        "id": "WvPcLJWQwuni"
      },
      "source": [
        "classSize = classSize - 1"
      ],
      "execution_count": null,
      "outputs": []
    },
    {
      "cell_type": "markdown",
      "metadata": {
        "id": "T45qi0m7wyWx"
      },
      "source": [
        "Note that the above also illustrates that Colab remembers variable from one code block to another. This lets you write some code and execute it, then write some more comments, and then keep coding in a different block. Just be careful to execute code blocks in the right order!\n",
        "\n",
        "Python statements like this, using an equal sign, are called **variable assignment**, and they take whatever is on the right side of the equal sign and make it the new value of the variable named on the left side of the equal sign. So, to decipher the above statement, start with what is on the right side of equal sign. There is the variable classSize, whose value is 41, and then there is a mathematical operation that subtracts 1 from that. The result, 40, is then put into the variable named left of the equal sign. The effect of this is to subtract one from the previous value of classSize. The beauty of writing:"
      ]
    },
    {
      "cell_type": "code",
      "metadata": {
        "id": "5ktRrqUhw3YJ"
      },
      "source": [
        "classSize = classSize - 1"
      ],
      "execution_count": null,
      "outputs": []
    },
    {
      "cell_type": "markdown",
      "metadata": {
        "id": "_L7pQ8Ziw5J5"
      },
      "source": [
        "au lieu de"
      ]
    },
    {
      "cell_type": "code",
      "metadata": {
        "id": "dhOr2JH7w7ZJ"
      },
      "source": [
        "classSize = 40"
      ],
      "execution_count": null,
      "outputs": []
    },
    {
      "cell_type": "markdown",
      "metadata": {
        "id": "hXkLHpJWw775"
      },
      "source": [
        "est qu'avec la première expression, je n'ai pas besoin de connaître le nombre d'étudiants inscrits, tout ce dont j'ai besoin est de savoir que quelqu'un a abandonné le cours et Python calcule la nouvelle taille de la classe pour moi."
      ]
    },
    {
      "cell_type": "code",
      "metadata": {
        "id": "TD_feFYSxF5q"
      },
      "source": [
        "print(classSize)"
      ],
      "execution_count": null,
      "outputs": []
    },
    {
      "cell_type": "markdown",
      "metadata": {
        "id": "KEc1znKhxCpJ"
      },
      "source": [
        "Notez que l'instruction print peut être utilisée pour imprimer les valeurs des variables, ce qui est souvent utile pour savoir quelle est la valeur d'une variable donnée à un moment donné de votre code. Notez également que la valeur imprimée de classSize est 40, comme prévu.\n",
        "\n",
        "Python utilise différents types de variables pour contenir différents types de données. L'interpréteur Python attribue automatiquement un type de variable à votre variable en fonction de la première valeur que vous lui donnez. Les types de variables les plus couramment utilisés en Python sont :\n",
        "* **String** : Une séquence de texte. Notez que \"Hello World\" et \"123\" sont tous deux des exemples de chaînes de caractères car ils sont entourés de guillemets.\n",
        "* **Integer** : Un nombre entier, positif ou négatif (c'est-à-dire pas une décimale ou une fraction). Ainsi, 123 est un nombre entier, tandis que \"123\" est une chaîne de caractères.\n",
        "* **Float** : Un nombre décimal, positif ou négatif.\n",
        "* **Array** : Une séquence structurée de nombres (entiers ou flottants, mais pas les deux) dans une ou plusieurs dimensions. Par exemple, (1, 5, 3) est un tableau unidimensionnel de trois nombres, tandis que ((2, 4), (4, 1)) est un tableau bidimensionnel de deux lignes et deux colonnes. Notez que les tableaux peuvent avoir n'importe quel nombre de dimensions autorisé par la mémoire disponible de votre ordinateur - penser aux lignes et aux colonnes est pratique pour un tableau à deux dimensions, mais cela devient beaucoup plus difficile avec des tableaux à plus hautes dimensions. Notez également que l'utilisation des tableaux en Python est basée sur la bibliothèque NumPy ; nous l'aborderons plus en détail dans le prochain chapitre.\n",
        "* **List** : Une séquence unidimensionnelle d'autres variables. Un exemple de liste est [\"Hello World\", 123, 0.5, (1, 6, 13)]. Cette liste contient une variable de chacun des autres types de variables.\n",
        "* **Dictionary** : Comme une liste, mais où chaque élément est nommé. Un exemple est {\"Marque\" : \"Toyota\", \"Model\" : \"Prius\"}\n",
        "\n",
        "Les types de variables sont importants car certaines opérations ne peuvent être effectuées que sur certains types de variables, et certaines opérations fonctionnent différemment sur différents types de variables. Vous devez donc savoir à quel type de variable vous avez affaire. Nous examinerons plus en détail les différents types de variables dans le chapitre suivant.\n",
        "\n",
        "Essayez d'exécuter l'exemple ci-dessous, et expliquez à vous-même ou à la personne assise à côté de vous quelle est la différence entre les deux types d'addition :\n"
      ]
    },
    {
      "cell_type": "code",
      "metadata": {
        "id": "obhmAbr4ywSc"
      },
      "source": [
        "aString = \"2\"\n",
        "anotherString = \"3\"\n",
        "print(aString + anotherString)\n",
        "\n",
        "aNumber = 2\n",
        "anotherNumber = 3\n",
        "print(aNumber + anotherNumber)"
      ],
      "execution_count": null,
      "outputs": []
    },
    {
      "cell_type": "markdown",
      "metadata": {
        "id": "7XQ-hK1LzCR5"
      },
      "source": [
        "Notez que les instructions d'impression ci-dessus fonctionnent car aString et anotherString sont **tous les deux** des chaînes de caractères (une 'string'), et anumber et anotherNumber sont **tous les deux** des nombres. Si vous essayez d'imprimer une 'string' et un nombre ensemble, vous devrez d'abord convertir le nombre en 'string'. Comparez le résultat de l'exécution des deux blocs de code ci-dessous pour comprendre pourquoi."
      ]
    },
    {
      "cell_type": "code",
      "metadata": {
        "id": "hX90DDBL1UC8"
      },
      "source": [
        "print(aString + aNumber)"
      ],
      "execution_count": null,
      "outputs": []
    },
    {
      "cell_type": "code",
      "metadata": {
        "id": "14NZDfnf1UNK"
      },
      "source": [
        "print(aString + str(aNumber))"
      ],
      "execution_count": null,
      "outputs": []
    },
    {
      "cell_type": "markdown",
      "metadata": {
        "id": "ikqpxlBr1bL3"
      },
      "source": [
        "Bien sûr, si vous voulez vraiment faire l'addition correctement, vous devez le faire avec les deux variables étant des **nombres**. Vous devez donc utiliser la fonction 'int' ou la fonction 'float' pour convertir une 'string' de caractères en un nombre :"
      ]
    },
    {
      "cell_type": "code",
      "metadata": {
        "id": "vlO6tq5Q1jx0"
      },
      "source": [
        "aStringAsNumber = int(aString)\n",
        "print(aStringAsNumber + aNumber)"
      ],
      "execution_count": null,
      "outputs": []
    },
    {
      "cell_type": "markdown",
      "metadata": {
        "id": "15XJugDs1Gn2"
      },
      "source": [
        "Si vous avez un doute sur le type d'une variable, vous pouvez utiliser la commande 'type', qui vous donnera un résultat du type : str' (pour string), ou 'int' (pour integer), 'float' (pour float), ou 'list' (pour list), ou 'dict' (pour dictionary). Cela fonctionne comme suit :"
      ]
    },
    {
      "cell_type": "code",
      "metadata": {
        "id": "yC5oJZl4zJoj"
      },
      "source": [
        "type(classSize)"
      ],
      "execution_count": null,
      "outputs": []
    },
    {
      "cell_type": "markdown",
      "metadata": {
        "id": "PcNFXi-Szlj8"
      },
      "source": [
        "*Bon travail* pour avoir terminé le chapitre 1 ! Nous terminerons chaque chapitre par un petit exercice, pour vous aider à renforcer votre apprentissage de la matière.\n",
        "## Exercice\n",
        "1\\) Créez un nouveau cahier avec Colab\n",
        "\n",
        "2\\) Créez un bloc de texte, et déplacez-le en haut du bloc de code.\n",
        "\n",
        "3\\) Écrivez un commentaire dans le bloc de texte et essayez un peu de mise en forme. Pour obtenir quelques exemples de mise en forme de votre texte, vous pouvez relire le [Guide to Markdown](https://colab.research.google.com/notebooks/markdown_guide.ipynb#). Vous pouvez également double-cliquer sur certains des blocs de texte de ce chapitre pour voir comment ils ont été formatés.\n",
        "\n",
        "4\\) Essayez d'écrire du code qui crée les variables 'string' suivantes, puis les imprime :\n",
        "* Votre nom :\n",
        "* Votre date de naissance :\n",
        "* Votre profession :\n",
        "\n",
        "Par exemple, si la variable qui contient votre nom est 'monNom', vous pouvez utiliser des instructions comme print(\"Mon nom est \" + monNom) pour obtenir un résultat un peu plus joli que print(monNom). Voir l'exemple ci-dessous :"
      ]
    },
    {
      "cell_type": "code",
      "metadata": {
        "id": "c_3aHFqWTWDx"
      },
      "source": [
        "myName = \"Anders\"\n",
        "print(\"Mon nom est \" + myName)"
      ],
      "execution_count": null,
      "outputs": []
    }
  ]
}
