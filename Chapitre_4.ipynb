{
  "nbformat": 4,
  "nbformat_minor": 0,
  "metadata": {
    "colab": {
      "name": "Chapter 4.ipynb",
      "provenance": [],
      "collapsed_sections": [],
      "authorship_tag": "ABX9TyOZfa9ZBfAd3PU5l9Bk46sL",
      "include_colab_link": true
    },
    "kernelspec": {
      "name": "python3",
      "display_name": "Python 3"
    }
  },
  "cells": [
    {
      "cell_type": "markdown",
      "metadata": {
        "id": "view-in-github",
        "colab_type": "text"
      },
      "source": [
        "<a href=\"https://colab.research.google.com/github/andersknudby/Teledetection/blob/master/Chapitre_4.ipynb\" target=\"_parent\"><img src=\"https://colab.research.google.com/assets/colab-badge.svg\" alt=\"Open In Colab\"/></a>"
      ]
    },
    {
      "cell_type": "markdown",
      "metadata": {
        "id": "B9cxjWaln-Zq"
      },
      "source": [
        "#Chapitre 4 - Fonctions\n",
        "Lorsque vous commencez à écrire du code plus compliqué, il arrivera souvent que vous ayez besoin de faire la même chose plusieurs fois. Si cette chose est compliquée et nécessite plus de quelques lignes de code, comme la lecture d'une image satellite, la reprojection d'un fichier de forme, ou l'extraction de valeurs d'un raster à l'emplacement de points dans un fichier de forme, votre cerveau exploserait (et votre code serait très difficile à lire et à comprendre) si vous deviez écrire tout le code nécessaire dans votre programme à chaque fois que vous devez faire cette chose compliquée. C'est à cela que servent les fonctions. Les fonctions vous permettent d'écrire une séquence de commandes que vous utiliserez encore et encore, et de les regrouper de telle sorte qu'elles puissent être utilisées avec une seule commande à la place. C'est comme \"mettre son pantalon\", que vous pouvez exprimer par une seule instruction, même si cela nécessite en fait une séquence d'étapes individuelles (trouver son pantalon, saisir la bonne ouverture, mettre une jambe, mettre l'autre jambe, remonter, fermer et/ou boutonner). Les fonctions vous permettent de cacher tous les détails afin que vous n'ayez pas à y penser chaque fois que vous voulez \"mettre votre pantalon\". Les fonctions sont vos amies - apprendre à écrire et à faire bon usage des fonctions sera l'un des éléments les plus importants pour faire de vous un programmeur efficace.\n",
        "\n",
        "Un exemple qui n'a rien à voir avec le pantalon... lorsque vous voulez calculer la moyenne d'un certain nombre de valeurs, vous pouvez utiliser la fonction np.mean, comme suit :"
      ]
    },
    {
      "cell_type": "code",
      "metadata": {
        "id": "iybg3f-qn8lQ"
      },
      "source": [
        "import numpy as np\n",
        "someArray = np.array([1, 2, 3, 4])\n",
        "print(np.mean(someArray))"
      ],
      "execution_count": null,
      "outputs": []
    },
    {
      "cell_type": "markdown",
      "metadata": {
        "id": "1DlTqH4LoR12"
      },
      "source": [
        "Mais comment calculer concrètement la valeur moyenne d'un ensemble de nombres ? La valeur moyenne est définie comme la somme de toutes les valeurs divisée par le nombre de valeurs. Imaginons un instant que les créateurs de NumPy aient oublié d'inclure la fonction np.mean() dans leur dernière mise à jour, et que vous deviez créer la vôtre. Vous pourriez définir votre propre fonction comme ceci :"
      ]
    },
    {
      "cell_type": "code",
      "metadata": {
        "id": "EG2CUNZfoZJF"
      },
      "source": [
        "def myMean(input):\n",
        "  sum = np.sum(input)  # np.sum calculates the sum of a list or an array\n",
        "  number = len(input)  # len returns the number of items in a list or an array\n",
        "  mean = float(sum) / number\n",
        "  return mean"
      ],
      "execution_count": null,
      "outputs": []
    },
    {
      "cell_type": "markdown",
      "metadata": {
        "id": "OW_D5iZXomfk"
      },
      "source": [
        "Quelques éléments à noter dans cette structure, ligne par ligne :\n",
        "\n",
        "* Lorsque vous exécutez le bloc de code ci-dessus, rien ne semble se produire. C'est parce que tout ce que nous faisons, c'est dire à Python que nous voulons qu'il connaisse une nouvelle fonction appelée 'myMean', et nous décrivons ce que cette fonction doit faire. Nous n'utilisons pas encore cette fonction pour calculer une valeur moyenne.\n",
        "* La définition d'une nouvelle fonction utilise le mot-clé \"def\", suivi du nom que vous souhaitez donner à votre fonction (veuillez toujours lui donner un nom significatif !), suivi de la ou des entrées requises entre parenthèses. En langage de programmation, ces entrées sont appelées \"arguments\". Dans la fonction ci-dessus, j'ai appelé l'argument \"entrée\" et non \"tableau\" parce que cette fonction peut calculer la valeur moyenne de tableaux et de listes (en supposant, bien sûr, que les listes sont remplies de chiffres !) Après l'instruction 'def', toutes les lignes qui composent la fonction sont indentées.\n",
        "* np.sum() est utilisé pour calculer la somme des valeurs dans 'input'. Rien d'excitant à voir ici.\n",
        "* len() est utilisé pour calculer le nombre de valeurs dans 'input'. Rien d'excitant non plus, mais très utile !\n",
        "* Lors de la division de la 'somme' par le 'nombre', nous nous assurons de convertir l'un des deux (peu importe lequel) en un flottant, afin d'éviter les problèmes associés à la division en nombres entiers.\n",
        "* Enfin, le mot clé \"return\" est utilisé pour renvoyer un résultat de la fonction, soit pour être imprimé dans la fenêtre de sortie (si la fonction est utilisée directement à partir de l'interpréteur Python), soit pour être placé dans une variable (si elle est exécutée dans un morceau de code). Vous pouvez facilement retourner plus d'une variable à partir d'une fonction (par exemple, écrivez simplement \"return mean, sum\" si vous voulez retourner les deux variables).\n",
        "\n",
        "Une fois que vous avez écrit les lignes ci-dessus dans la fenêtre de l'éditeur de texte, vous devez les exécuter pour que l'interpréteur Python soit au courant de votre nouvelle fonction. Le moyen le plus simple de le faire est de toujours écrire vos fonctions en haut de votre document .py. Lorsque les lignes qui composent la fonction sont exécutées, il ne se passe rien, si ce n'est que l'interpréteur Python apprend comment votre fonction est appelée et ce qu'elle fait. La fonction n'est utilisée que lorsqu'elle est spécifiquement appelée en dehors de l'instruction \"def\".\n",
        "\n",
        "Nous pouvons vérifier que la fonction que nous avons créée ci-dessus fonctionne réellement, en la comparant à np.sum :"
      ]
    },
    {
      "cell_type": "code",
      "metadata": {
        "id": "HNQxyUudpJnW"
      },
      "source": [
        "print(\"Using NumPy: \" + str(np.mean(someArray)))\n",
        "print(\"Using myMean: \" + str(myMean(someArray)))"
      ],
      "execution_count": null,
      "outputs": []
    },
    {
      "cell_type": "markdown",
      "metadata": {
        "id": "FCMakOKBpt4k"
      },
      "source": [
        "Les résultats imprimés des deux fonctions nous donnent le même résultat (correct), ce qui devrait nous donner confiance dans le fait que notre fonction fonctionne réellement.\n",
        "De nombreux autres IDE disposent de ce que l'on appelle le \"pliage du code\", qui vous permet de \"minimiser\" le code contenu dans chaque fonction afin que vous ne voyiez que son nom (sans effacer le code, bien sûr !). Vous pouvez ensuite développer le code de chaque fonction si vous souhaitez l'examiner plus en détail, mais une fois que vous êtes convaincu que cela fonctionne et que vous n'avez pas besoin de voir les détails tout le temps, vous pouvez le transformer en une seule ligne. PyScripter n'a pas de pliage de code, ce qui est un défaut majeur pour l'utiliser pour construire de gros morceaux de code. Ainsi, en utilisant PyScripter, vous aurez toujours vos propres fonctions affichées avec chaque ligne de code en haut de votre fichier .py.\n",
        "\n",
        "C'est vraiment tout ce qu'il y a à faire avec les fonctions. Les bibliothèques Python comme NumPy sont essentiellement une collection de fonctions qui servent un objectif particulier et fonctionnent bien ensemble. Vous reconnaîtrez les fonctions aux parenthèses '()' qui suivent le nom de la fonction, comme dans 'np.mean()', 'len()', ou votre propre 'myMean()'. Notez qu'il est parfaitement possible d'utiliser des fonctions à l'intérieur d'autres fonctions, comme vous l'avez fait vous-même dans myMean(). L'utilisation de fonctions à l'intérieur de fonctions est en fait très utile, car elle vous permet de construire des fonctions plus petites qui font de petites choses génériques (comme le calcul d'une moyenne), puis de les utiliser dans des fonctions plus grandes qui font des choses plus spécifiques (comme le calcul d'une moyenne de valeurs dans un champ d'un fichier de forme)."
      ]
    },
    {
      "cell_type": "markdown",
      "metadata": {
        "id": "4Ka95TcFp8rE"
      },
      "source": [
        "##Exercice\n",
        "Pour jouer avec le fonctionnement des fonctions, **écrivez une fonction qui prend une chaîne en entrée, compte le nombre de majuscules et de minuscules dans cette chaîne et renvoie les valeurs**. Ensuite, nous utiliserons la fonction pour trouver combien de lettres majuscules et minuscules il y a dans la chaîne de caractères \"J'aime apprendre de nouvelles choses, en particulier Python, NumPy et la programmation en général (parce que c'est une compétence transférable importante pour obtenir son diplôme !)\n",
        "\n",
        "Une version du code Python qui peut accomplir cette tâche est donnée à la fin de ce chapitre. N'hésitez pas à y jeter un coup d'œil, un peu ou beaucoup, quand vous en aurez besoin. Mais avant de le faire, voici quelques **conseils** qui pourraient vous être utiles pour réfléchir à la manière de résoudre cet exercice :\n",
        "\n",
        "**Tip 1\\)** Pensez toujours d'abord à la structure générale du programme nécessaire à la réalisation de la tâche. La structure générale de votre programme est à votre discrétion, mais je suggère quelque chose comme ce qui suit :\n",
        "\n",
        ">1\\)\tDéfinissez la fonction.<br>\n",
        "2\\)\tDéfinir la chaîne de caractères.<br>\n",
        "3\\)\tExécutez la fonction avec la chaîne de caractères.<br>\n",
        "4\\)\tImprimer les résultats.<br>\n",
        "\n",
        "Pour la fonction elle-même, je suggère quelque chose comme ce qui suit :\n",
        "\n",
        ">1\\)\tCréez deux variables, une qui compte le nombre de lettres majuscules, et une autre qui compte le nombre de lettres minuscules. Définissez les deux à des valeurs de 0.<br>\n",
        "2\\)\tCréez une boucle for qui parcourt chaque caractère de la chaîne de caractères.<br>\n",
        "3\\)\tDans cette boucle for, vérifiez si le caractère est une majuscule. Si c'est le cas, ajoutez un à la variable qui compte le nombre de lettres majuscules.<br>\n",
        "4\\)\tEnsuite, toujours à l'intérieur de cette boucle for, vérifiez si le caractère est une minuscule. Si c'est le cas, ajoutez un à la variable qui compte le nombre de lettres minuscules.<br>\n",
        "5\\)\tUne fois la boucle for terminée, utilisez le mot-clé 'return' pour retourner les deux variables que vous avez créées à l'étape 1).<br>\n",
        "\n",
        "**Tip 2\\)**\n",
        "Pour parcourir les caractères d'une variable de type chaîne de caractères, vous pouvez utiliser une boucle for, comme suit :"
      ]
    },
    {
      "cell_type": "code",
      "metadata": {
        "id": "jSR8rmTYsAH_"
      },
      "source": [
        "testString = \"blabla\"\n",
        "for character in testString:\n",
        "  print(character, end=\" \")"
      ],
      "execution_count": null,
      "outputs": []
    },
    {
      "cell_type": "markdown",
      "metadata": {
        "id": "tHwbUlzIsJRk"
      },
      "source": [
        "**Tip 3\\)**\n",
        "Pour tester si un caractère est en majuscule, vous pouvez utiliser la fonction str.isupper(). Par exemple, str.isupper('a') va vous donner le résultat 'False'. False \" est ici une valeur booléenne (logique) renvoyée parce que 'a' n'est pas une majuscule. str.islower() devrait être explicite. Pour les essayer :"
      ]
    },
    {
      "cell_type": "code",
      "metadata": {
        "id": "I2P1oVYisUz0"
      },
      "source": [
        "print(str.isupper(\"a\"))\n",
        "print(str.islower(\"a\"))"
      ],
      "execution_count": null,
      "outputs": []
    },
    {
      "cell_type": "markdown",
      "metadata": {
        "id": "LBAL1uW4sX8V"
      },
      "source": [
        "Pour retourner plus d'une valeur à partir d'une fonction, il suffit d'écrire : 'return a, b'.\n",
        "\n",
        "En dehors de la fonction (appelée 'upperlowercounter' ci-dessous), lorsque vous voulez récupérer les deux valeurs, vous pouvez appeler la fonction et définir deux variables pour récupérer le retour, comme ceci :\n",
        "upper, lower = upperlowercounter(\"hsdfhgSERGTSADFGS\")\n",
        "\n",
        "Bon, si vous voulez voir une fonction qui fonctionne comme prévu pour cet exercice, regardez ci-dessous. Tout d'abord, la définition de la fonction :"
      ]
    },
    {
      "cell_type": "code",
      "metadata": {
        "id": "4YTmukSNsmLn"
      },
      "source": [
        "def uppercaseAndLowercase(inputString):\n",
        "    upperCounter = 0\n",
        "    lowerCounter = 0\n",
        "    for c in inputString:\n",
        "        if str.isupper(c) is True:\n",
        "            upperCounter = upperCounter + 1\n",
        "        if str.islower(c) is True:\n",
        "            lowerCounter = lowerCounter + 1\n",
        "    return upperCounter, lowerCounter"
      ],
      "execution_count": null,
      "outputs": []
    },
    {
      "cell_type": "markdown",
      "metadata": {
        "id": "7B6Gdhv_tIqH"
      },
      "source": [
        "Démontrez ensuite que cela fonctionne :"
      ]
    },
    {
      "cell_type": "code",
      "metadata": {
        "id": "i98y6_sOtL89"
      },
      "source": [
        "upper, lower = uppercaseAndLowercase(\"I love to learn new stuff, especially Python, NumPy, and programming in general (because it is an important transferable skill to graduate with!)\")\n",
        "print(\"Number of uppercase letters: \" + str(upper))\n",
        "print(\"Number of lowercase letters: \" + str(lower))"
      ],
      "execution_count": null,
      "outputs": []
    },
    {
      "cell_type": "markdown",
      "metadata": {
        "id": "YkTShPAetSo8"
      },
      "source": [
        "##Encore un exercice - celui-là, vous le rendez comme un exercice de laboratoire !\n",
        "* Ecrivez une fonction qui prend un nombre entier comme argument, et retourne une valeur de 'True' ou 'False' indiquant si c'est un nombre premier ou non.\n",
        "* Expliquez dans vos propres mots comment la fonction fonctionne.\n",
        "* Démontrez avec les nombres 13 et 15 que la fonction fonctionne effectivement.\n",
        "\n",
        "##Remarques sur certaines fonctions non-standard :\n",
        "\n",
        "* Les fonctions ne doivent pas nécessairement inclure une instruction \"return\". Certaines fonctions peuvent, par exemple, créer un fichier et donc être utiles sans renvoyer une valeur quelconque lorsqu'elles ont terminé. Une bonne pratique de programmation consiste toutefois à vérifier que le fichier a été créé correctement et à renvoyer la valeur \"0\" si c'est le cas, ou \"1\" si ce n'est pas le cas (par exemple, il se peut que vous n'ayez plus d'espace disque ou que vous n'ayez pas la permission d'écrire le fichier dans un dossier spécifique, etc.)\n",
        "* Les fonctions ne doivent pas nécessairement utiliser des \"arguments\" (les données fournies entre parenthèses lors de l'exécution de la fonction sont appelées arguments). Des exemples de fonctions qui n'utilisent pas d'arguments pourraient inclure une fonction qui découvre le nombre de cœurs de processeur sur votre machine et renvoie ce nombre, ou une fonction qui découvre le nom d'utilisateur de l'utilisateur actuel et le renvoie. Ces deux exemples n'ont pas besoin d'arguments car il est déjà évident de savoir avec quoi les fonctions doivent travailler (votre CPU et le nom d'utilisateur, respectivement)."
      ]
    }
  ]
}