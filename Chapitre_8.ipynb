{
  "nbformat": 4,
  "nbformat_minor": 0,
  "metadata": {
    "colab": {
      "name": "Chapter 8.ipynb",
      "provenance": [],
      "collapsed_sections": [],
      "authorship_tag": "ABX9TyNtJGxvnkP6XZGufJcke79X",
      "include_colab_link": true
    },
    "kernelspec": {
      "name": "python3",
      "display_name": "Python 3"
    }
  },
  "cells": [
    {
      "cell_type": "markdown",
      "metadata": {
        "id": "view-in-github",
        "colab_type": "text"
      },
      "source": [
        "<a href=\"https://colab.research.google.com/github/andersknudby/Teledetection/blob/master/Chapitre_8.ipynb\" target=\"_parent\"><img src=\"https://colab.research.google.com/assets/colab-badge.svg\" alt=\"Open In Colab\"/></a>"
      ]
    },
    {
      "cell_type": "markdown",
      "metadata": {
        "id": "EPfBNXdEB_W2"
      },
      "source": [
        "#Visualisation des données\n",
        "Une chose vraiment utile à faire en Python est de pouvoir visualiser vos résultats. Ainsi, vous n'avez pas toujours besoin d'exporter des données vers des fichiers et de les ouvrir dans QGIS pour évaluer ce que vous avez fait. Dans ce chapitre, nous verrons comment visualiser des données matricielles et vectorielles, et comment créer des graphiques simples avec ces données."
      ]
    },
    {
      "cell_type": "markdown",
      "metadata": {
        "id": "LrBeRwlt9Vza"
      },
      "source": [
        "##Démarrage\n",
        "Pour commencer, nous allons récupérer l'image, les points et les polygones avec lesquels nous avons travaillé dans les chapitres précédents. Rien de nouveau ici, il s'agit juste de préparer les données pour travailler, à l'exception d'une chose : nous importons la fonction **pyplot** de la bibliothèque **matplotlib**."
      ]
    },
    {
      "cell_type": "code",
      "metadata": {
        "id": "GHfYBT3COBh6"
      },
      "source": [
        "!pip install rasterio\n",
        "!pip install geopandas\n",
        "!pip install rasterstats\n",
        "\n",
        "import rasterio\n",
        "import geopandas as gpd\n",
        "import rasterstats\n",
        "\n",
        "import numpy as np\n",
        "from shapely.geometry import Point\n",
        "from matplotlib import pyplot as plt\n",
        "\n",
        "\n",
        "from google.colab import drive\n",
        "drive.mount('/content/drive')\n",
        "\n",
        "myDir = '/content/drive/My Drive/Python files/'\n",
        "\n",
        "import os\n",
        "if os.path.exists(myDir + 'sfu.tif'):\n",
        "  print(\"Drive mounted and directory found\")\n",
        "else:\n",
        "  print(\"No access to the files\")"
      ],
      "execution_count": null,
      "outputs": []
    },
    {
      "cell_type": "markdown",
      "metadata": {
        "id": "FeB48wsM-R0C"
      },
      "source": [
        "##Traçage de données matricielles\n",
        "Maintenant, lisez l'image. Rappelez-vous que la **bande 1 est la \"bande rouge**\", puis le vert, puis le bleu :"
      ]
    },
    {
      "cell_type": "code",
      "metadata": {
        "id": "-wUgUnEF-UtA"
      },
      "source": [
        "imageFilename = myDir + 'sfu.tif'\n",
        "ds = rasterio.open(imageFilename)  # ds is a commonly used shorthand for 'dataset'\n",
        "\n",
        "red = ds.read(1).astype('uint16')\n",
        "green = ds.read(2).astype('uint16')\n",
        "blue = ds.read(3).astype('uint16')"
      ],
      "execution_count": null,
      "outputs": []
    },
    {
      "cell_type": "markdown",
      "metadata": {
        "id": "Aj9GRGO2_vJ6"
      },
      "source": [
        "Nous pouvons utiliser la fonction pyplot pour afficher facilement une seule bande :"
      ]
    },
    {
      "cell_type": "code",
      "metadata": {
        "id": "w_BJyC-J_zR5"
      },
      "source": [
        "pyplot.imshow(red)\n"
      ],
      "execution_count": null,
      "outputs": []
    },
    {
      "cell_type": "markdown",
      "metadata": {
        "id": "FzNJ0PYgAdga"
      },
      "source": [
        "Les couleurs sont un peu bizarres dans l'image ci-dessus, qui utilise la carte de couleurs par défaut de matplotlib. Elles ne sont pas mauvaises, mais rappelez-vous que nous avons tracé la bande rouge ici, donc les pixels **clairs** sont en fait ceux qui reflètent beaucoup de lumière rouge. Lorsque l'on trace une seule bande, je préfère normalement utiliser une échelle de gris à la place, pour éviter toute indication que l'on regarde des données multispectrales :"
      ]
    },
    {
      "cell_type": "code",
      "metadata": {
        "id": "_zrO6nGTA3W6"
      },
      "source": [
        "pyplot.imshow(red, cmap=\"Greys_r\")"
      ],
      "execution_count": null,
      "outputs": []
    },
    {
      "cell_type": "markdown",
      "metadata": {
        "id": "Sl789-bgBWZK"
      },
      "source": [
        "Cependant, il s'agit en fait d'une image à 3 bandes, donc pour une interprétation visuelle, nous pourrions tout aussi bien tracer les trois bandes dans un composite en couleurs réelles. À cette fin, rasterio dispose d'une fonction spéciale que nous allons importer et utiliser pour produire une image qui a l'air plutôt jolie :"
      ]
    },
    {
      "cell_type": "code",
      "metadata": {
        "id": "ld8HCI5iBdcT"
      },
      "source": [
        "from rasterio.plot import show\n",
        "show(ds)"
      ],
      "execution_count": null,
      "outputs": []
    },
    {
      "cell_type": "markdown",
      "metadata": {
        "id": "DMLX6rXvBzf8"
      },
      "source": [
        "##Plotting points data\n",
        "Passons au traçage des fichiers vectoriels. Nous allons commencer par lire les données **points** :"
      ]
    },
    {
      "cell_type": "code",
      "metadata": {
        "id": "w5F0D7iUCXlt"
      },
      "source": [
        "pointsFilename = myDir + \"points.shp\"\n",
        "pts = gpd.read_file(pointsFilename)\n",
        "pts"
      ],
      "execution_count": null,
      "outputs": []
    },
    {
      "cell_type": "markdown",
      "metadata": {
        "id": "k46f8JoeDWZt"
      },
      "source": [
        "Et de les tracer :"
      ]
    },
    {
      "cell_type": "code",
      "metadata": {
        "id": "fgOQIHCLDX9C"
      },
      "source": [
        "fig, ax = plt.subplots()\n",
        "pts.plot(ax=ax)\n",
        "plt.title(\"Points\")\n",
        "plt.show()"
      ],
      "execution_count": null,
      "outputs": []
    },
    {
      "cell_type": "markdown",
      "metadata": {
        "id": "OvYI5VjhEo61"
      },
      "source": [
        "Il existe de nombreuses options de traçage, par exemple pour modifier la couleur, la taille et la transparence des points :"
      ]
    },
    {
      "cell_type": "code",
      "metadata": {
        "id": "beEBpF_wExOj"
      },
      "source": [
        "fig, ax = plt.subplots()\n",
        "pts.plot(ax=ax, color=\"green\", markersize=100, alpha=0.2)\n",
        "plt.title(\"Points\")\n",
        "plt.show()"
      ],
      "execution_count": null,
      "outputs": []
    },
    {
      "cell_type": "markdown",
      "metadata": {
        "id": "RiI2i8rWEJOy"
      },
      "source": [
        "##Tracer des données de polygones\n",
        "Cela fonctionne de la même manière pour les polygones :"
      ]
    },
    {
      "cell_type": "code",
      "metadata": {
        "id": "TILL3DKdD5uM"
      },
      "source": [
        "polygonsFilename = myDir + \"polygons.shp\"\n",
        "polys = gpd.read_file(polygonsFilename)  # I often use 'pts' as short for 'points' This is fairly common.\n",
        "fig, ax = plt.subplots()\n",
        "polys.plot(ax=ax)\n",
        "plt.title(\"Polygons\")\n",
        "plt.show()"
      ],
      "execution_count": null,
      "outputs": []
    },
    {
      "cell_type": "markdown",
      "metadata": {
        "id": "JeMJoYaBjTcj"
      },
      "source": [
        "Ou, pour tracer les polygones sans remplissage, ce qui est souvent utile si vous voulez voir ce qu'il y a à l'intérieur (cela sera utile plus tard) :"
      ]
    },
    {
      "cell_type": "code",
      "metadata": {
        "id": "wNjGH4O4jLY1"
      },
      "source": [
        "fig, ax = plt.subplots()\n",
        "polys.plot(ax=ax, facecolor=\"none\", edgecolor='blue', lw=0.7)\n",
        "plt.title(\"Polygons\")\n",
        "plt.show()"
      ],
      "execution_count": null,
      "outputs": []
    },
    {
      "cell_type": "markdown",
      "metadata": {
        "id": "cfUIuVxJEQ2E"
      },
      "source": [
        "Il s'agit maintenant d'assembler le tout, afin de voir où se trouvent les points et les polygones par rapport à l'image, et les uns par rapport aux autres :"
      ]
    },
    {
      "cell_type": "code",
      "metadata": {
        "id": "zatmUuyxhP1Y"
      },
      "source": [
        "fig, ax = plt.subplots(1, figsize=(15,15))  # The figsize argument makes the plot a bit bigger, so we can see better\n",
        "show(ds, ax=ax)  # This puts the image in the plot\n",
        "pts.plot(ax=ax, color=\"red\")  # ... and the points\n",
        "polys.plot(ax=ax, facecolor=\"none\", edgecolor='blue', lw=1.2)  # ... and the polygons"
      ],
      "execution_count": null,
      "outputs": []
    },
    {
      "cell_type": "markdown",
      "metadata": {
        "id": "fqlPIRV-j-T3"
      },
      "source": [
        "##Travailler avec des transects\n",
        "Les transects, des lignes qui traversent des gradients, peuvent être utiles pour illustrer des changements graduels ou abrupts dans l'environnement. Ici, nous allons utiliser un transect pour montrer comment les valeurs CCV changent le long de la route qui longe le bord est de l'image.\n",
        "\n",
        "Tout d'abord, nous créons le transect et le traçons pour nous assurer que nous le plaçons au bon endroit :"
      ]
    },
    {
      "cell_type": "code",
      "metadata": {
        "id": "AY88osyGllfF"
      },
      "source": [
        "from shapely.geometry import LineString\n",
        "\n",
        "transect = LineString([(507050, 5458400), (507100, 5458400)])  # Create the geometry\n",
        "gdf = gpd.GeoDataFrame(geometry=[transect])  # Turn it into a geodataframe for plotting\n",
        "\n",
        "# Then plot it with the image\n",
        "fig, ax = plt.subplots(1, figsize=(15,15))\n",
        "show(ds, ax=ax)\n",
        "gdf.plot(ax=ax, color=\"red\")"
      ],
      "execution_count": null,
      "outputs": []
    },
    {
      "cell_type": "markdown",
      "metadata": {
        "id": "huXWhKMKwXYw"
      },
      "source": [
        "Ok, maintenant nous savons que le transect est au bon endroit. Mais il n'y a pas de bonne fonction pour extraire les valeurs de tous les pixels sous une ligne, donc ce que nous allons faire à la place est de **séparer la ligne en points**, et ensuite utiliser la fonction **sample** de **rasterio** (qui est basée sur des points), comme nous l'avons fait dans le chapitre précédent :"
      ]
    },
    {
      "cell_type": "code",
      "metadata": {
        "id": "IqRXOltYxFVP"
      },
      "source": [
        "from shapely.geometry import MultiPoint\n",
        "from shapely.ops import split\n",
        "\n",
        "# The line is 50m long, and the pixels in the image are 10cm across\n",
        "# So if we want to sample every pixel we need to turn the line into 501 points (point at both ends)\n",
        "nPoints = 501\n",
        "\n",
        "# We can use the 'interpolate' function to create a set of evenly spaced points along out transect\n",
        "multiPoint = MultiPoint([transect.interpolate((i/nPoints), normalized=True) for i in range(nPoints)])\n",
        "\n",
        "# Before we can use it with the sample function, we need to turn this MultiPoint object into a list of coordinate pairs\n",
        "pointsAsList = [(p.x, p.y) for p in multiPoint]\n",
        "\n",
        "# And now we can sample the values from the imagery, in the red, green, and blue bands\n",
        "redValues = [x[0] for x in ds.sample(pointsAsList, indexes=1)]\n",
        "greenValues = [x[0] for x in ds.sample(pointsAsList, indexes=2)]\n",
        "blueValues = [x[0] for x in ds.sample(pointsAsList, indexes=3)]\n",
        "\n",
        "# To take a quick look and check that there is indeed 501 numbers here:\n",
        "print(*redValues)"
      ],
      "execution_count": null,
      "outputs": []
    },
    {
      "cell_type": "markdown",
      "metadata": {
        "id": "op06vEHjShNf"
      },
      "source": [
        "Ok, maintenant il ne reste plus que la visualization :"
      ]
    },
    {
      "cell_type": "code",
      "metadata": {
        "id": "PEfKkVnzSf3K"
      },
      "source": [
        "# To make a nice plot, we need to isolate the x values\n",
        "xValues = [p.x for p in multiPoint]\n",
        "\n",
        "# And we'll put it all in a dataframe. This isn't really necessary, but makes plotting easier\n",
        "data = {'xValues': xValues, 'redValues': redValues, 'greenValues': greenValues, 'blueValues': blueValues} \n",
        "df = pd.DataFrame(data) \n",
        "\n",
        "fig, ax = plt.subplots(1, figsize=(11,11))\n",
        "ax.plot(xValues, redValues, color=\"red\")\n",
        "ax.plot(xValues, greenValues, color=\"green\")\n",
        "ax.plot(xValues, blueValues, color=\"blue\")"
      ],
      "execution_count": null,
      "outputs": []
    },
    {
      "cell_type": "markdown",
      "metadata": {
        "id": "GfY_YnDfUG4-"
      },
      "source": [
        "##Exercice\n",
        "Dans un nouveau cahier, modifiez le code de ce chapitre pour tracer comment le CCV change à travers le transect."
      ]
    }
  ]
}