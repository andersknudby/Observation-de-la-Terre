{
  "nbformat": 4,
  "nbformat_minor": 0,
  "metadata": {
    "colab": {
      "name": "Chapter 2.ipynb",
      "provenance": [],
      "collapsed_sections": [],
      "authorship_tag": "ABX9TyN7onUaCVmZBiEErbq2TX3Q",
      "include_colab_link": true
    },
    "kernelspec": {
      "name": "python3",
      "display_name": "Python 3"
    }
  },
  "cells": [
    {
      "cell_type": "markdown",
      "metadata": {
        "id": "view-in-github",
        "colab_type": "text"
      },
      "source": [
        "<a href=\"https://colab.research.google.com/github/andersknudby/Teledetection/blob/master/Chapitre_2.ipynb\" target=\"_parent\"><img src=\"https://colab.research.google.com/assets/colab-badge.svg\" alt=\"Open In Colab\"/></a>"
      ]
    },
    {
      "cell_type": "markdown",
      "metadata": {
        "id": "FFz-g2lmCn0I"
      },
      "source": [
        "# Chapitre 2 - Manipulation des variables et plus sur les tableaux et les listes\n",
        "## Nombres entiers\n",
        "Les nombres entiers sont peut-être le type de variable le plus facile à manipuler - vous savez exactement ce que vous obtenez lorsque vous écrivez des choses comme :"
      ]
    },
    {
      "cell_type": "code",
      "metadata": {
        "id": "kun6gkGMCgXS"
      },
      "source": [
        "a = 2\n",
        "b = 2\n",
        "c = a + b\n",
        "d = a - b"
      ],
      "execution_count": null,
      "outputs": []
    },
    {
      "cell_type": "markdown",
      "metadata": {
        "id": "mVDHpn7oDNMA"
      },
      "source": [
        "##### Notez que dans un cahier, vous pouvez imprimer une variable en écrivant simplement son nom sur une ligne."
      ]
    },
    {
      "cell_type": "code",
      "metadata": {
        "id": "7G54M4vTDLd6"
      },
      "source": [
        "c"
      ],
      "execution_count": null,
      "outputs": []
    },
    {
      "cell_type": "markdown",
      "metadata": {
        "id": "CHAzb7PGDQzB"
      },
      "source": [
        "##### Mais cela ne fonctionne que pour la dernière que vous écrivez :"
      ]
    },
    {
      "cell_type": "code",
      "metadata": {
        "id": "fXp0hfSSDUah"
      },
      "source": [
        "c\n",
        "d"
      ],
      "execution_count": null,
      "outputs": []
    },
    {
      "cell_type": "markdown",
      "metadata": {
        "id": "PJTK4zOVDXm5"
      },
      "source": [
        "##### Pour imprimer le contenu de plusieurs variables, vous utilisez toujours l'instruction print, dont vous avez également besoin si vous travaillez en dehors des carnets de notes :"
      ]
    },
    {
      "cell_type": "code",
      "metadata": {
        "id": "kYb5WrO7DXVJ"
      },
      "source": [
        "print(c)\n",
        "print(d)"
      ],
      "execution_count": null,
      "outputs": []
    },
    {
      "cell_type": "markdown",
      "metadata": {
        "id": "Cwj13werEE9c"
      },
      "source": [
        "##### Encore mieux, la fonction \"str\" est utilisée pour convertir le nombre à une 'string', ce qui est nécessaire pour l'imprimer avec une autre 'string' :"
      ]
    },
    {
      "cell_type": "code",
      "metadata": {
        "id": "bXzRoLFvEJUb"
      },
      "source": [
        "print(\"c is: \" + str(c))\n",
        "print(\"d is: \" + str(d))"
      ],
      "execution_count": null,
      "outputs": []
    },
    {
      "cell_type": "markdown",
      "metadata": {
        "id": "l1NWaXwaFvNe"
      },
      "source": [
        "#### Floats\n",
        "##### Les nombres flottants (nombres à virgule flottante) sont ce que les gens normaux appellent des nombres avec des décimales, comme 0,4, -2,8 ou 3,1415926. Pour être sûr de définir un nombre comme un nombre flottant plutôt qu'un nombre entier, il suffit de lui ajouter une valeur décimale, comme dans les exemples ci-dessous. Les nombres flottants se comportent également comme vous vous y attendez, comme vous pouvez le vérifier avec le code suivant :"
      ]
    },
    {
      "cell_type": "code",
      "metadata": {
        "id": "4vZRV4jzF1d9"
      },
      "source": [
        "a = 2.0\n",
        "b = 0.3\n",
        "c = a + b\n",
        "print(c)"
      ],
      "execution_count": null,
      "outputs": []
    },
    {
      "cell_type": "markdown",
      "metadata": {
        "id": "jE9s0rDMF_Yl"
      },
      "source": [
        "#####Pour autant, il y a une chose à garder à l'esprit en ce qui concerne les nombres flottants. Certains nombres décimaux ont, en théorie, un nombre infini de décimales. Par exemple, 10/3 correspond à 3,333333333333 (et ainsi de suite). Mais les nombres flottants typiques sont stockés sur 24 bits de mémoire informatique et, bien que cela permette de stocker un grand nombre de décimales avec précision, il s'agit néanmoins d'une quantité finie de mémoire et cela ne nous permet pas de stocker la valeur de 10/3 avec une précision parfaite. Cela peut entraîner des erreurs d'arrondi. Dans la plupart des cas, ces erreurs d'arrondi ne seront pas importantes, mais elles peuvent l'être occasionnellement. Pour illustrer cela, essayez les lignes de code suivantes (cet exemple comporte des commentaires ligne par ligne, ce qui reste plus facile que d'utiliser des blocs de texte dans certains cas) :"
      ]
    },
    {
      "cell_type": "code",
      "metadata": {
        "id": "fb-2NzkLGi-2"
      },
      "source": [
        "import math  # ‘math’ is a standard Python library.\n",
        "a = math.sqrt(2)  # calculate the square root of 2, which is around 1.41\n",
        "b = pow(a, 2)  # raise a to the power of 2. The value of b should now be 2!\n",
        "print(\"{:10.20f}\".format(b))  # print b with 20 decimals."
      ],
      "execution_count": null,
      "outputs": []
    },
    {
      "cell_type": "markdown",
      "metadata": {
        "id": "PcIugheqFv2e"
      },
      "source": [
        "Lorsque j'exécute le code ci-dessus, l'instruction print me donne un aperçu détaillé de la valeur réelle de b dans la mémoire de l'ordinateur, et il s'avère qu'elle est légèrement supérieure à 2 (elle devrait être exactement 2, bien sûr !). La différence est minime, mais gardez-la à l'esprit pour plus tard.\n",
        "\n",
        "Notez également que la plupart des fonctions créent automatiquement des variables d'un certain type. Par exemple, la fonction math.sqrt produit toujours un flottant, ce qui est logique car la plupart des racines carrées sont des nombres décimaux. Les opérateurs (comme '+' ou '-') produisent des variables d'un type qui dépend de l'entrée. Si vous travaillez avec des nombres entiers, les opérateurs vous donneront généralement un nombres entier, si vous travaillez avec des nombres flottants, les opérateurs vous donneront un nombre flottant, et si vous travaillez avec un mélange d'entiers et de flottants, les opérateurs vous donneront un nombre flottant, afin de préserver autant de précision que possible.\n",
        "\n",
        "Une exception à la règle ci-dessus est que la division avec des nombres entiers vous donne un nombre flottant, même si ce n'est pas nécessaire. Mais notez que la division d'entiers ne fonctionne pas de cette manière dans les autres IDE Python, vous devez donc être prudent lorsque vous divisez des nombres entiers. Je préfère utiliser explicitement des flottants (par exemple '5.0' au lieu de '5') en cas de doute."
      ]
    },
    {
      "cell_type": "code",
      "metadata": {
        "id": "SOe_o1F6GFcs"
      },
      "source": [
        "print(type(4-2))\n",
        "print(type(4/2))"
      ],
      "execution_count": null,
      "outputs": []
    },
    {
      "cell_type": "markdown",
      "metadata": {
        "id": "FgflC8WrGpmG"
      },
      "source": [
        "##Strings\n",
        "Les chaînes de caractères, 'strings', sont conçues pour contenir du texte, et par conséquent, elles fonctionnent différemment des nombres entiers et flottants. Pour affecter un morceau de texte à une variable sous forme de 'string', il suffit de le mettre entre guillemets :"
      ]
    },
    {
      "cell_type": "code",
      "metadata": {
        "id": "pAHjC82SGsw2"
      },
      "source": [
        "myName = \"Anders Knudby\"\n",
        "numberOfEyes = \"2\"\n",
        "CAD_US_Rate = \"0.75\""
      ],
      "execution_count": null,
      "outputs": []
    },
    {
      "cell_type": "markdown",
      "metadata": {
        "id": "faSGt3eaGyFO"
      },
      "source": [
        "Une utilisation courante des chaînes de caractères est de contenir les chemins d'accès aux répertoires et aux fichiers, tels que :"
      ]
    },
    {
      "cell_type": "code",
      "metadata": {
        "id": "jRAcwCg-Gz2u"
      },
      "source": [
        "myHomeDir = \"C:/Users/Anders/My Documents/\"\n",
        "dataDir = \"D:/data/\"\n",
        "image = dataDir + \"testimage.tif\""
      ],
      "execution_count": null,
      "outputs": []
    },
    {
      "cell_type": "markdown",
      "metadata": {
        "id": "PcwVxg8SG7of"
      },
      "source": [
        "##Arrays\n",
        "Les 'arrays' sont l'un des types de variables les plus importants avec lesquels nous travaillerons en télédétection, car ils contiennent des séquences structurées de nombres (généralement) dans une ou plusieurs dimensions. En tant que tels, les arrays bidimensionnels correspondent très bien au type de données que nous trouvons dans une seule bande d'une image satellite, et les arrays  tridimensionnels correspondent très bien au type de données que nous trouvons dans toutes les bandes d'une image satellite.\n",
        "\n",
        "L'installation de base de Python n'utilise pas les arrays, si bien qu'en général, lorsque les gens font référence aux arrays en Python, ils parlent des arrays NumPy. NumPy (anglais: Numerical Python) est l'une des bibliothèques Python les plus utilisées, car elle propose de nombreuses fonctions intéressantes pour traiter les nombres. Donc, pour utiliser les arrays, nous devons :"
      ]
    },
    {
      "cell_type": "code",
      "metadata": {
        "id": "KhYZnW85HUjC"
      },
      "source": [
        "import numpy as np"
      ],
      "execution_count": 5,
      "outputs": []
    },
    {
      "cell_type": "markdown",
      "metadata": {
        "id": "rlC5G_xWHWrq"
      },
      "source": [
        "Lorsque vous ***importez*** une bibliothèque ***comme*** quelque chose, cela change la façon dont vous vous y référerez par la suite. Dans la section sur les flottants, nous avons utilisé l'instruction *import math*, puis nous avons utilisé la fonction 'sqrt' de la bibliothèque 'math' en écrivant 'math.sqrt'. Comme nous avons importé numpy ***as np*** ici, nous n'aurons plus besoin d'écrire 'numpy.array' pour utiliser la fonction 'array' de NumPy, mais nous pourrons simplement écrire 'np.array'. Importer NumPy 'as np' est une pratique standard, alors autant s'y habituer.\n",
        "\n",
        "Pour créer un tableau NumPy, vous pouvez utiliser différentes fonctions. Essayez ce qui suit en appuyant sur Ctrl+Enter dans chaque bloc de code (nous ne continuerons pas à mettre des choses dans des variables, donc dans cet exemple vous aurez une idée plus immédiate de ce que fait chaque commande) :"
      ]
    },
    {
      "cell_type": "code",
      "metadata": {
        "id": "B6mCkMbIIE3M"
      },
      "source": [
        "np.array([1, 2, 3])  # Notez les crochets courbes, suivis des crochets carrés."
      ],
      "execution_count": null,
      "outputs": []
    },
    {
      "cell_type": "code",
      "metadata": {
        "id": "KR1qUu4MIOfy"
      },
      "source": [
        "np.array([1, 2.0, 3])  # Si un ou plusieurs chiffres d'un array NumPy sont des flottants, tous les chiffres deviennent des flottants."
      ],
      "execution_count": null,
      "outputs": []
    },
    {
      "cell_type": "code",
      "metadata": {
        "id": "9hTDgX_GIU9j"
      },
      "source": [
        "np.array(([1, 2], [3, 4]))  # Cette structure crée un array à deux dimensions, avec deux \"lignes\" et deux \"colonnes\"."
      ],
      "execution_count": null,
      "outputs": []
    },
    {
      "cell_type": "markdown",
      "metadata": {
        "id": "WuHvQL44IY3q"
      },
      "source": [
        "Parfois, vous pouvez vouloir créer un array vide dans lequel vous pourrez ensuite placer des résultats. Voici quelques options :"
      ]
    },
    {
      "cell_type": "code",
      "metadata": {
        "id": "67wp02hAIapr"
      },
      "source": [
        "np.zeros(4)"
      ],
      "execution_count": null,
      "outputs": []
    },
    {
      "cell_type": "code",
      "metadata": {
        "id": "BAkG3YZFIePz"
      },
      "source": [
        "np.ones(5)"
      ],
      "execution_count": null,
      "outputs": []
    },
    {
      "cell_type": "code",
      "metadata": {
        "id": "A2ybRJUyIfs7"
      },
      "source": [
        "np.empty(7)"
      ],
      "execution_count": null,
      "outputs": []
    },
    {
      "cell_type": "markdown",
      "metadata": {
        "id": "R4WyqTjBIklV"
      },
      "source": [
        "Notez que la commande np.empty crée un array contenant des nombres apparemment aléatoires. En fait, tout ce qu'elle fait, c'est allouer de l'espace dans la mémoire de l'ordinateur pour un nouveau array, et les valeurs que les bits dans cet espace mémoire ont déjà ne sont pas modifiées. Le fait de ne pas avoir à modifier les valeurs rend cette commande très rapide, mais cela signifie également que si, pour une raison quelconque, vous ne modifiez pas les valeurs plus tard, vous obtenez des résultats très étranges (et aléatoires). A utiliser avec précaution !"
      ]
    },
    {
      "cell_type": "markdown",
      "metadata": {
        "id": "dJeTFSxQImh1"
      },
      "source": [
        "##Manipulation et indexation des arrays\n",
        "L'un des aspects les plus utiles des arrays est la possibilité d'accéder soit à des valeurs individuelles, soit à toutes les valeurs en même temps.\n",
        "Par exemple, des opérations arithmétiques simples peuvent être effectuées très rapidement et simplement sur un array entier à la fois. Essayez ce qui suit pour voir comment cela fonctionne :"
      ]
    },
    {
      "cell_type": "code",
      "metadata": {
        "id": "asX97n8YIrV9"
      },
      "source": [
        "a = np.array([1, 2, 3, 4, 5, 6, 7, 8, 9, 10])\n",
        "b = a + 2\n",
        "print(b)"
      ],
      "execution_count": null,
      "outputs": []
    },
    {
      "cell_type": "markdown",
      "metadata": {
        "id": "x6ZK7HAfIvBN"
      },
      "source": [
        "Vous pouvez également exécuter des opérations sur deux arrays, à condition qu'ils aient la même taille (ou du moins que la taille de l'un soit un multiple de la taille de l'autre, ce qui est rarement utile) :"
      ]
    },
    {
      "cell_type": "code",
      "metadata": {
        "id": "ADOJXDwdIxeo"
      },
      "source": [
        "a = np.array([1, 2, 3, 4, 5, 6, 7, 8, 9, 10])\n",
        "b = np.array([6, 2, 9, 10, 1, 3, 8, 7, 5, 4])\n",
        "print(a + b)"
      ],
      "execution_count": null,
      "outputs": []
    },
    {
      "cell_type": "markdown",
      "metadata": {
        "id": "71vC0owwIzwn"
      },
      "source": [
        "Maintenant, si vous voulez accéder à un seul nombre dans un array, vous pouvez le faire facilement si vous connaissez sa position dans le array, car toutes les positions sont numérotées. Cependant, et ceci est contre-intuitif pour la plupart des gens au début, **les numéros de position (index) en Python commencent à 0** :"
      ]
    },
    {
      "cell_type": "code",
      "metadata": {
        "id": "XJ4Ox8JcI3EH"
      },
      "source": [
        "a = np.array([1, 2, 3, 4, 5, 6, 7, 8, 9, 10])\n",
        "b = np.array([6, 2, 9, 10, 1, 3, 8, 7, 5, 4])\n",
        "print(a[0])  # This prints the number at position 0 (the first position) in array ‘a’\n",
        "print(a[9])  # This prints the number at position 9 (the tenth position) in array ‘a’"
      ],
      "execution_count": null,
      "outputs": []
    },
    {
      "cell_type": "code",
      "metadata": {
        "id": "S9kgAG8eJDz7"
      },
      "source": [
        "print(a[10])  # Expliquez-vous pourquoi cela donne une erreur"
      ],
      "execution_count": null,
      "outputs": []
    },
    {
      "cell_type": "markdown",
      "metadata": {
        "id": "TLfl0AsjJJ4p"
      },
      "source": [
        "Assurez-vous de comprendre pourquoi vous obtenez la réponse que vous obtenez lorsque vous exécutez le bloc de code ci-dessous."
      ]
    },
    {
      "cell_type": "code",
      "metadata": {
        "id": "NemEIo_2JFw5"
      },
      "source": [
        "print(b[5] - a[4])"
      ],
      "execution_count": null,
      "outputs": []
    },
    {
      "cell_type": "markdown",
      "metadata": {
        "id": "M6NCNnNoJR5y"
      },
      "source": [
        "Numpy dispose de quelques fonctions astucieuses pour travailler avec des arrays afin de trouver des valeurs spécifiques. Essayez les fonctions suivantes :"
      ]
    },
    {
      "cell_type": "code",
      "metadata": {
        "id": "4B79qAsaJUOL"
      },
      "source": [
        "a = np.array([1, 2, 3, 4, 5, 6, 7, 8, 9, 10])\n",
        "print(np.max(a))  # Cela renvoie la valeur maximale dans le array\n",
        "print(np.argmax(a))  # Cela renvoie la position de la valeur maximale dans le array, mais...\n",
        "a = np.array([10, 2, 3, 4, 5, 6, 7, 8, 9, 10])  # Notez la première valeur modifiée\n",
        "print(np.argmax(a))  # Lorsqu'il y a deux valeurs ou plus qui partagent la distinction d'être le maximum, np.argmax vous dit seulement où se trouve la première !\n",
        "print(np.where(a==10)[0])  # np.where est une excellente alternative, qui vous permet de trouver toutes les positions dans un tableau où une condition (dans ce cas, a est égal à 10) est remplie. Nous y reviendrons plus tard."
      ],
      "execution_count": null,
      "outputs": []
    },
    {
      "cell_type": "markdown",
      "metadata": {
        "id": "t1p8o20iJlEN"
      },
      "source": [
        "##Listes\n",
        "Les listes sont un peu comme les arrays, mais diffèrent sur des points importants :\n",
        "* Chaque élément d'un array doit contenir le même type de données (c'est pourquoi tous les nombres sont convertis en flottants si un seul flottant est présent dans le tableau lors de sa création), mais les ***listes peuvent contenir différents types de variables***.\n",
        "* Les arrays ont des tailles spécifiques qui ne peuvent pas être modifiées une fois qu'ils ont été créés (c'est à la fois un avantage et un inconvénient), mais les ***listes peuvent être agrandies ou réduites si nécessaire au cours de l'exécution d'un programme***.\n",
        "\n",
        "Pour créer une liste, utilisez des crochets :"
      ]
    },
    {
      "cell_type": "code",
      "metadata": {
        "id": "12VqmG4sKEmY"
      },
      "source": [
        "myShoppingList = [\"Milk\", \"Bread\", \"Candy\"]"
      ],
      "execution_count": null,
      "outputs": []
    },
    {
      "cell_type": "markdown",
      "metadata": {
        "id": "wGFRU5TQKKBh"
      },
      "source": [
        "Pour créer une liste vide :"
      ]
    },
    {
      "cell_type": "code",
      "metadata": {
        "id": "c6hG2XswKLgK"
      },
      "source": [
        "myEmptyList = []"
      ],
      "execution_count": null,
      "outputs": []
    },
    {
      "cell_type": "markdown",
      "metadata": {
        "id": "17WGZVjdKNoC"
      },
      "source": [
        "Comme mentionné ci-dessus, les listes peuvent contenir différents types de variables. La liste suivante contient un entier, un flottant, une string, un array NumPy, et une autre liste (notez que lorsque vous avez des listes dans des listes, vous vous retrouvez avec plusieurs crochets) :"
      ]
    },
    {
      "cell_type": "code",
      "metadata": {
        "id": "KpmTUttvKQBJ"
      },
      "source": [
        "myCompletelyCrazyList = [1, 4.5346, \"a random string\", np.zeros(4), [\"Milk\", \"Bread\"]]"
      ],
      "execution_count": null,
      "outputs": []
    },
    {
      "cell_type": "markdown",
      "metadata": {
        "id": "QAObgaSQKWr7"
      },
      "source": [
        "Bien sûr, vous pouvez également placer les variables existantes dans une liste, comme ceci :"
      ]
    },
    {
      "cell_type": "code",
      "metadata": {
        "id": "KY3newDYKXQM"
      },
      "source": [
        "myEvenCrazierList = [myShoppingList, myEmptyList, myCompletelyCrazyList]\n",
        "myEvenCrazierList"
      ],
      "execution_count": null,
      "outputs": []
    },
    {
      "cell_type": "markdown",
      "metadata": {
        "id": "looNxqXTKl09"
      },
      "source": [
        "Vous pouvez accéder aux éléments individuels d'une liste de la même manière qu'avec les arrays, comme suit :"
      ]
    },
    {
      "cell_type": "code",
      "metadata": {
        "id": "IrNwKDpoKmQd"
      },
      "source": [
        "myCompletelyCrazyList[2]  # Pour les listes également, les positions commencent à 0"
      ],
      "execution_count": null,
      "outputs": []
    },
    {
      "cell_type": "markdown",
      "metadata": {
        "id": "WQ8gpvLUKp9l"
      },
      "source": [
        "Une fonction couramment utilisée avec les listes consiste à ajouter quelque chose à la fin de la liste. Si vous avez oublié que vous deviez aussi acheter des médicaments, vous pouvez les ajouter à votre liste de courses avec la fonction \"append\" :"
      ]
    },
    {
      "cell_type": "code",
      "metadata": {
        "id": "9g868b9xKr9d"
      },
      "source": [
        "myShoppingList.append(\"Médicaments\")"
      ],
      "execution_count": null,
      "outputs": []
    },
    {
      "cell_type": "markdown",
      "metadata": {
        "id": "mf9hnRgvKu72"
      },
      "source": [
        "Notez que les arrays peuvent être convertis en listes avec la commande .tolist(), et que les listes peuvent être converties en array avec la commande np.asarray(), comme suit :"
      ]
    },
    {
      "cell_type": "code",
      "metadata": {
        "id": "gU1wgHJaKxet"
      },
      "source": [
        "import numpy as np\n",
        "array = np.array([1, 2])\n",
        "print(\"As an array: \", end=\"\")  # By default, print statements end in a 'newline' character, but you can modify that using the 'end' argument \n",
        "print(array)\n",
        "aslist = array.tolist()\n",
        "print(\"Now as a list: \", end=\"\")\n",
        "print(aslist)\n",
        "backtoarray = np.asarray(aslist)\n",
        "print(\"End now as an array again: \", end=\"\")\n",
        "print(backtoarray)"
      ],
      "execution_count": null,
      "outputs": []
    },
    {
      "cell_type": "markdown",
      "metadata": {
        "id": "qdEpjo0aLU4k"
      },
      "source": [
        "## Dictionnaires\n",
        "Un dictionnaire Python n'est pas très différent d'une liste, sauf que chaque élément a un nom, ce qui peut faciliter la recherche d'éléments individuels. Par exemple, avec la structure suivante, vous (le programmeur) n'avez pas besoin de vous rappeler ***où*** dans le dictionnaire se trouve le \"Nom\", vous devez juste vous rappeler qu'il s'appelle \"Nom\", pour trouver sa valeur :"
      ]
    },
    {
      "cell_type": "code",
      "metadata": {
        "id": "VZLB8_W8LepK"
      },
      "source": [
        "my_dict = {\"Professeur\": \"Anders Knudby\", \"Nom\": \"Télédétection\"}\n",
        "print(my_dict[\"Nom\"])"
      ],
      "execution_count": null,
      "outputs": []
    },
    {
      "cell_type": "markdown",
      "metadata": {
        "id": "YULKkBmbLmij"
      },
      "source": [
        "Apprendre à connaître les différents types de variables, si vous le faites pour la première fois, peut être un peu difficile. Nous espérons que ce tableau vous aidera à souligner les points essentiels :\n",
        "\n",
        ">Integer | Float | String | Array | List | Dictionary\n",
        ">--- | --- | --- | --- | --- | ---\n",
        "><div align=\"center\">Whole number | <div align=\"center\">Decimal number | <div align=\"center\">Text | <div align=\"center\">Structured sequence<br/>of numbers | <div align=\"center\">Structured sequence of<br/>any type of variable | <div align=\"center\">Unstructured list of<br/>named variables\n",
        "><div align=\"center\">Beware of divisions<br/>in some IDEs | <div align=\"center\">Beware of<br/>rounding errors | <div align=\"center\">Take care when storing<br/>numbers as text | <div align=\"center\">Remember that positions<br/>start at 0 | <div align=\"center\">Remember that positions<br/>start at 0 | <div align=\"center\">Positions are replaced by names,<br/>making retrieval easier\n"
      ]
    },
    {
      "cell_type": "markdown",
      "metadata": {
        "id": "HggyC8n0OZco"
      },
      "source": [
        "## Exercice\n",
        "1\\) Créez une variable entière\n",
        "\n",
        "2\\) Créez une variable flottante\n",
        "\n",
        "3\\) Additionnez les deux, et placez le résultat dans une nouvelle variable\n",
        "\n",
        "4\\) Répétez les étapes 1 à 3 avec de nouvelles valeurs\n",
        "\n",
        "5\\) Vous devriez maintenant avoir deux variables créées par l'addition d'un entier et d'un flottant. Déterminez le \"type\" de ces deux variables. Assurez-vous de comprendre pourquoi elles sont de ce type.\n",
        "\n",
        "6\\) Créez un array contenant les valeurs de ces deux variables. Veillez à utiliser les noms des variables, par exemple : myArray = [premièreVariable, deuxièmeVariable], au lieu de myArray = [2, 6].\n",
        "\n",
        "7\\) Transformez votre array en liste\n",
        "\n",
        "8\\) Certaines fonctions NumPy fonctionnent également sur les listes **à condition que celles-ci contiennent des nombres**. Essayez d'utiliser les fonctions \" np.sum \" et \" np.mean \" sur votre liste. Si vous obtenez une erreur lors de votre premier essai, essayez de comprendre pourquoi. Cherchez des réponses sur Internet. Essayez différentes choses. Demandez à un ami. Faites en sorte que ça marche."
      ]
    }
  ]
}
