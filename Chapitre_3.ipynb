{
  "nbformat": 4,
  "nbformat_minor": 0,
  "metadata": {
    "colab": {
      "name": "Chapter 3.ipynb",
      "provenance": [],
      "collapsed_sections": [],
      "authorship_tag": "ABX9TyO0rM6dcxu+RwD9/KvUQWyn",
      "include_colab_link": true
    },
    "kernelspec": {
      "name": "python3",
      "display_name": "Python 3"
    }
  },
  "cells": [
    {
      "cell_type": "markdown",
      "metadata": {
        "id": "view-in-github",
        "colab_type": "text"
      },
      "source": [
        "<a href=\"https://colab.research.google.com/github/andersknudby/Teledetection/blob/master/Chapitre_3.ipynb\" target=\"_parent\"><img src=\"https://colab.research.google.com/assets/colab-badge.svg\" alt=\"Open In Colab\"/></a>"
      ]
    },
    {
      "cell_type": "markdown",
      "metadata": {
        "id": "qJHT0XHALK1Z"
      },
      "source": [
        "#Chapitre 3 - Structure du programme et débogage\n",
        "Nous sommes maintenant prêts à commencer à écrire du code réel qui accomplit quelque chose. Pour commencer, nous allons écrire un petit bout de code qui parcourt les nombres entre 0 et 100, et teste ceux qui sont divisibles par 2 (c'est-à-dire ceux qui sont des nombres pairs). Ce n'est pas exactement la prochaine grande nouveauté en matière de logiciels, mais cela nous permettra d'examiner deux éléments indispensables de la programmation : les boucles et les conditions. Cependant, avant de commencer à taper sur le clavier, il est toujours bon d'avoir une idée générale du fonctionnement de votre programme. Pour y parvenir, il faut un peu de pratique. Voici donc une idée de ce à quoi cela pourrait ressembler pour la tâche à accomplir :\n",
        "\n",
        "![image.png](data:image/png;base64,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)"
      ]
    },
    {
      "cell_type": "markdown",
      "metadata": {
        "id": "dcTDtp5XLw6d"
      },
      "source": [
        "En d'autres termes, nous voulons d'abord créer deux listes, l'une contenant les nombres à tester, l'autre (initialement vide) contenant les nombres que nous découvrons être pairs. C'est ce qui est inclus dans les deux cases supérieures du diagramme. Nous voulons ensuite parcourir les nombres de la première liste, un par un, et les placer dans la deuxième liste *s'ils sont pairs*.\n",
        "En Python, les deux premières étapes pourraient ressembler au code ci-dessous (explication à suivre ci-dessous) :"
      ]
    },
    {
      "cell_type": "code",
      "metadata": {
        "id": "Tgy_o6CLKuYm"
      },
      "source": [
        "numbers = range(101)\n",
        "evenNumbers = []"
      ],
      "execution_count": null,
      "outputs": []
    },
    {
      "cell_type": "markdown",
      "metadata": {
        "id": "ye-zHpl2MfcN"
      },
      "source": [
        "La fonction 'range' crée une liste d'entiers [0, 1, 2, 3...], commençant à 0, et dont la longueur est égale au nombre indiqué entre parenthèses. Ainsi, range(101) crée la liste [0, 1, 2... 100].\n",
        "\n",
        "Les crochets vides sont utilisés pour créer une liste vide."
      ]
    },
    {
      "cell_type": "markdown",
      "metadata": {
        "id": "F8LSaFHvM2Jc"
      },
      "source": [
        "##For loops\n",
        "Nous arrivons maintenant à la partie où nous voulons parcourir tous les nombres de la liste appelée \"numbers\" et tester s'ils sont divisibles par deux. Lorsque nous voulons faire quelque chose plusieurs fois, en Python (et dans tout autre langage de programmation), nous pouvons utiliser ce que l'on appelle une \"boucle\" (Anglais: \"loop\"). Le type de boucle le plus simple est la boucle \"for\", qui dans notre cas peut ressembler à ceci :"
      ]
    },
    {
      "cell_type": "code",
      "metadata": {
        "id": "-lz0rTTOM7fN"
      },
      "source": [
        "for i in numbers:\n",
        "\tprint(i, end=\" \")"
      ],
      "execution_count": null,
      "outputs": []
    },
    {
      "cell_type": "markdown",
      "metadata": {
        "id": "v7UvHqvcScR-"
      },
      "source": [
        "Ce que fait l'instruction \"for i in numbers :\", c'est qu'elle donne la première valeur de \"numbers\" à la variable \"i\", et ensuite elle fait tout ce qui est écrit sur les lignes qui sont **indentées** sous elle. Lorsqu'elle a terminé toutes les lignes indentées, elle revient en arrière, donne à 'i' la deuxième valeur de 'numbers', fait tout ce qui est écrit sur les lignes indentées en dessous, revient en arrière, et ainsi de suite jusqu'à ce qu'elle ait utilisé tous les chiffres de 'numbers'. ***Les indentations sont importantes en Python, alors faites-y attention!***\n",
        "\n",
        "Dans le code ci-dessus, tout ce que nous avons fait dans les lignes indentées était d'imprimer la valeur de i. Pour tester si i est pair, nous pouvons prendre le reste d'une division par 2. Nous le faisons avec l'opérateur '%', comme ceci :"
      ]
    },
    {
      "cell_type": "code",
      "metadata": {
        "id": "kEqhZpndS5l1"
      },
      "source": [
        "for i in numbers:\n",
        "\tremainder = i%2"
      ],
      "execution_count": null,
      "outputs": []
    },
    {
      "cell_type": "markdown",
      "metadata": {
        "id": "3b69bEkcTKgm"
      },
      "source": [
        "Notez que lorsque vous exécutez le code ci-dessus, rien n'est imprimé en sortie car nous n'avons pas demandé à Python d'imprimer quoi que ce soit. Mais nous pouvons ajouter une ligne d'impression pour voir le modèle qui émerge. Réfléchissez à ce modèle et assurez-vous de comprendre pourquoi il apparaît, et ce qu'il dit sur les nombres pairs dans 'numbers'."
      ]
    },
    {
      "cell_type": "code",
      "metadata": {
        "id": "iEUdfJFgTVwF"
      },
      "source": [
        "for i in numbers:\n",
        "  remainder = i%2\n",
        "  print(remainder, end=\" \")"
      ],
      "execution_count": null,
      "outputs": []
    },
    {
      "cell_type": "markdown",
      "metadata": {
        "id": "uPAwxvheTnxP"
      },
      "source": [
        "##Instructions \"if\" et \"else\n",
        "L'instruction **if** permet de vérifier si quelque chose est vrai ou non. Dans notre cas, nous voulons tester si chaque nombre dans 'numbers' est pair, ce qui revient à tester si le reste, lorsqu'il a été divisé par 2, est égal à zéro. Nous pouvons donc écrire quelque chose comme \"si le reste est égal à zéro\"... alors le nombre est pair. Il faut garder à l'esprit une chose importante : Bien que vous puissiez utiliser le mot 'is' en Python, et dans notre cas, cela fonctionnera très bien, vous devriez plutôt utiliser '==' pour vérifier si deux choses sont égales. La raison en est que '==' teste l'égalité de deux variables, alors que 'is' vérifie si deux variables pointent vers le même objet en mémoire. Parfois, \"is\" fonctionnera parfaitement à la place de \"==\", mais parfois, ce ne sera pas le cas.\n",
        "\n",
        "Dans notre cas, cela devrait ressembler à ceci (toujours en retrait sous la boucle for !) :"
      ]
    },
    {
      "cell_type": "code",
      "metadata": {
        "id": "G_zQTb-oUDNI"
      },
      "source": [
        "if remainder == 0:\n",
        "\tprint(str(i) + \" is even\")"
      ],
      "execution_count": null,
      "outputs": []
    },
    {
      "cell_type": "markdown",
      "metadata": {
        "id": "1vNWqvFbUPTF"
      },
      "source": [
        "Si vous exécutez le bloc de code ci-dessus, vous obtiendrez le résultat '100 est pair', car dans le bloc de code précédent, nous avons parcouru tous les nombres dans 'numbers', en terminant par '100'. Donc, à ce stade du cahier, i est égal à 100, et le reste est égal à 0.\n",
        "\n",
        "Le mot-clé **if** indique à Python qu'il s'agit de tester une condition, et le \"==\" indique à Python que ce que nous voulons tester est de savoir si quelque chose (à gauche du signe \"==\") est égal à quelque chose d'autre (à droite du signe \"==\"). Parmi les autres opérateurs de condition, citons \"!=\" (non égal à), \">\" (supérieur à), \"< (inférieur à), \">=\" (supérieur ou égal à) et \"<=\" (inférieur ou égal à).\n",
        "Techniquement, le produit de l'un des tests ci-dessus est une valeur booléenne (logique), qui peut être soit \"Vrai\", soit \"Faux\". True et False (avec un 'T' et un 'F' majuscules) sont des mots-clés dans Python (comme 'print', 'if', 'for', et d'autres), donc ne les utilisez que lorsque vous voulez indiquer une valeur booléenne.\n",
        "Indépendamment de l'instruction \"if\", vous placez des lignes de code qui indiquent à Python ce qu'il doit faire ***si*** la condition est vraie. Dans notre cas, si la condition est vraie, alors 'i' est un nombre pair, et nous voulons l'ajouter à la liste des résultats. Nous procédons comme suit (la dernière ligne doit être indentée deux fois car elle se trouve à la fois sous la boucle 'for' et l'instruction 'if') :\n"
      ]
    },
    {
      "cell_type": "code",
      "metadata": {
        "id": "lJoQSRPcWE5Y"
      },
      "source": [
        "numbers = range(101)\n",
        "evenNumbers = []\n",
        "\n",
        "for i in numbers:\n",
        "  remainder = i%2\n",
        "  if remainder == 0:\n",
        "    evenNumbers.append(i)"
      ],
      "execution_count": null,
      "outputs": []
    },
    {
      "cell_type": "markdown",
      "metadata": {
        "id": "kezC_kt8WXd4"
      },
      "source": [
        "Si vous voulez faire quelque chose au cas où la condition dans l'instruction **if** ne serait pas vraie, vous pouvez ajouter une instruction **else** sous les lignes indentées sous l'instruction \"if\", mais au même niveau d'indentation que l'instruction \"if\", comme suit :"
      ]
    },
    {
      "cell_type": "code",
      "metadata": {
        "id": "VDvQ1K4HWfWu"
      },
      "source": [
        "for i in numbers:\n",
        "  remainder = i%2\n",
        "  if remainder == 0:\n",
        "    evenNumbers.append(i)\n",
        "  else:\n",
        "    print(\"uneven\", end=\" \")"
      ],
      "execution_count": null,
      "outputs": []
    },
    {
      "cell_type": "markdown",
      "metadata": {
        "id": "-ype6HjDWpWG"
      },
      "source": [
        "L'instruction \"else\" n'est pas nécessaire dans le cas présent, car nous ne nous intéressons qu'aux nombres pairs. À ce stade, nous en avons pratiquement terminé avec le codage, car une fois que les opérations de l'instruction \"if\" ont été effectuées (ou non, selon que la condition était vraie ou non), le programme revient à l'instruction \"for i in numbers\", donne la valeur suivante dans \"numbers\" à \"i\", et ainsi de suite. Lorsqu'il n'y a plus de chiffres dans 'numbers', le programme passe à la ligne suivante non indentée (plus précisément, la ligne suivante qui est au même niveau d'indentation que l'instruction 'for').\n",
        "Nous pouvons donc terminer le programme avec une instruction print :"
      ]
    },
    {
      "cell_type": "code",
      "metadata": {
        "id": "KWr3L-sHW1Wv"
      },
      "source": [
        "numbers = range(101)\n",
        "evenNumbers = []\n",
        "\n",
        "for i in numbers:\n",
        "  remainder = i%2\n",
        "  if remainder == 0:\n",
        "    evenNumbers.append(i)\n",
        "\n",
        "print(evenNumbers)"
      ],
      "execution_count": null,
      "outputs": []
    },
    {
      "cell_type": "markdown",
      "metadata": {
        "id": "yPqrW1R2XD0e"
      },
      "source": [
        "Vous vous souvenez que j'ai mentionné au chapitre 2 que les arrays de NumPy permettent d'exécuter la même opération sur un grand nombre de nombres en même temps ? Nous aurions pu utiliser cette approche au lieu de la boucle for pour raccourcir considérablement le code en utilisant la fonction \"where\" de NumPy, qui trouve toutes les instances d'un tableau pour lesquelles une condition spécifiée est \" True \". Dans l'exemple ci-dessous, cette condition est 'remainders == 0'. Nous devons utiliser le petit '[0]' parce que np.where nous donne en fait un tableau à deux dimensions, mais nous ne voulons que la première dimension. Vous pouvez essayer de l'enlever et voir ce qui se passe, le résultat est plus ou moins le même, juste moins joli."
      ]
    },
    {
      "cell_type": "code",
      "metadata": {
        "id": "TNmWoAoaXH_P"
      },
      "source": [
        "import numpy as np\n",
        "numbers = np.asarray(range(101))\n",
        "remainders = numbers%2\n",
        "result = list(np.where(remainders == 0)[0])\n",
        "print(result)"
      ],
      "execution_count": null,
      "outputs": []
    },
    {
      "cell_type": "markdown",
      "metadata": {
        "id": "lw9q4P4vYMTI"
      },
      "source": [
        "##Débogage\n",
        "Lorsque vous avez un peu d'expérience et que vous devez écrire un programme très simple, il y a des chances que vous réussissiez à écrire le code parfaitement du premier coup, mais je ne parierais pas là-dessus. Dès que vous commencez à écrire des morceaux de code plus complexes, et surtout lorsque vous entrez dans un territoire de programmation inconnu, je vous garantis que vous allez écrire un morceau de code, l'exécuter et obtenir un message d'erreur qui n'est pas immédiatement compréhensible. Lorsque cela se produit, vous devez faire ce que l'on appelle du \"débogage\". C'est l'une des rares choses pour lesquelles je trouve que les ordinateurs portables ne sont ***pas*** bons par rapport à un IDE normal, mais ils ne sont pas terribles non plus, alors nous allons nous en tenir à eux.\n",
        "\n",
        "#####Trois types d'erreurs en programmation\n",
        "De manière très générale, on peut classer trois types d'erreurs en programmation.\n",
        "**Les erreurs de syntaxe** : Il s'agit généralement de fautes de frappe qui empêchent l'exécution du programme. Dans la dernière ligne du code, essayez de supprimer le 't' de 'print', et cliquez sur 'Run'. Vous obtenez une erreur indiquant que le nom 'prin' n'est pas défini. Faciles à corriger, les erreurs de syntaxe sont les meilleures erreurs du genre.\n",
        "* **Erreurs sémantiques** : Ce sont les types d'erreurs qui permettent à votre programme de s'exécuter, mais pas correctement. En d'autres termes, il produira un résultat, mais ce sera le mauvais résultat. Ces erreurs sont parmi les plus difficiles à corriger, car Python fait exactement ce que vous lui avez demandé - c'est juste que vous lui avez demandé de faire quelque chose de légèrement différent de ce que vous vouliez réellement ! L'erreur que nous allons déboguer est une erreur sémantique.\n",
        "* **Erreurs d'exécution** : Même si vous avez écrit un code syntaxiquement et sémantiquement correct, vous pouvez toujours rencontrer des erreurs d'exécution lorsque votre ordinateur est incapable de faire ce que vous lui demandez. Le manque de mémoire est le type d'erreur d'exécution le plus courant. Nous nous efforcerons d'éviter ce type d'erreurs dans ce cours, car leur résolution nécessite une connaissance plus approfondie des ordinateurs que celle que nous visons ici.\n",
        "\n",
        "Une fois que vous aurez appris les bases, plus de 90 % du temps que vous passerez à déboguer sera probablement consacré aux erreurs sémantiques, nous nous concentrerons donc sur celles-ci. Essayez d'exécuter le bloc de code ci-dessous :"
      ]
    },
    {
      "cell_type": "code",
      "metadata": {
        "id": "IVz94k8fYmrp"
      },
      "source": [
        "firstNumber = input('Enter the first number:')\n",
        "secondNumber = input('Enter the second number:')\n",
        "sum = firstNumber + secondNumber\n",
        "\n",
        "print(firstNumber + ' and ' + secondNumber + ' is ' + sum, sep=\"\")"
      ],
      "execution_count": null,
      "outputs": []
    },
    {
      "cell_type": "markdown",
      "metadata": {
        "id": "0mloACSwZ9kP"
      },
      "source": [
        "Avant d'en venir à l'erreur sémantique, jetons un coup d'œil rapide à certaines des nouveautés de ce bloc de code.\n",
        "\n",
        "* La fonction 'input' demande à l'utilisateur une entrée, puis la stocke dans une variable.\n",
        "\n",
        "* Le '+' dans l'argument print est utilisé pour imprimer plusieurs déclarations ou variables les unes après les autres sur la même ligne.\n",
        "\n",
        "* L'argument 'sep=\"\"' dans l'instruction print est utilisé pour indiquer ce que nous voulons utiliser pour séparer chacune de ces instructions ou variables.\n",
        "\n",
        "Maintenant, quelle était l'erreur sémantique ? Si vous n'êtes pas sûr, vous devrez peut-être revenir en arrière et relire certaines parties du chapitre 1.\n",
        "\n",
        "Le débogage des erreurs sémantiques est difficile. Ma suggestion, en termes généraux, est de parcourir le code par morceaux et de vérifier que le résultat de chaque morceau correspond à ce que vous attendez. Vous pouvez placer chaque morceau dans un bloc de code pour les organiser. À un moment donné, vous pouvez découvrir que quelque chose n'est pas tout à fait ce que vous attendiez - une valeur n'est pas ce qu'elle devrait être, ou une variable n'existe pas, ou une fonction 'if' ne donne pas le résultat que vous pensez qu'elle devrait. À ce stade, vous pouvez utiliser de nombreuses instructions d'impression pour voir constamment quelle est la valeur de chaque variable, et de nombreuses instructions de type pour découvrir le type de chaque variable. Ces dernières devraient vous donner de bons indices sur ce qui ne va pas dans le bloc de code ci-dessus.\n",
        "\n",
        "Le débogage des erreurs de syntaxe est beaucoup plus facile car Python vous indique immédiatement ce qui ne va pas. Comme ici (exécutez le bloc de code pour voir ce qui se passe) :"
      ]
    },
    {
      "cell_type": "code",
      "metadata": {
        "id": "ATrugmmfclDY"
      },
      "source": [
        "pint(\"I just made a typo\")"
      ],
      "execution_count": null,
      "outputs": []
    },
    {
      "cell_type": "markdown",
      "metadata": {
        "id": "leZB0ThTbLSP"
      },
      "source": [
        "Lorsque vous obtenez une erreur de ce type, prenez l'habitude de lire le message d'erreur. La plupart du temps, il vous dira ce qui ne va pas - mais honnêtement, parfois, il n'est pas utile du tout. Mais parfois, la partie de votre code dans laquelle l'erreur apparaît peut être un peu trompeuse car vous pouvez avoir une erreur sémantique dans un bloc de code qui conduit à une erreur de syntaxe dans le bloc suivant. Essayez ces deux blocs de code par exemple :"
      ]
    },
    {
      "cell_type": "code",
      "metadata": {
        "id": "IkdbvJ9cdF_e"
      },
      "source": [
        "populationOfCanada = \"37590000\"\n",
        "populationOfOntario = \"14570000\""
      ],
      "execution_count": null,
      "outputs": []
    },
    {
      "cell_type": "code",
      "metadata": {
        "id": "9LZXQ4sddGVe"
      },
      "source": [
        "proportionOfPopulationInOntario = populationOfOntario / populationOfCanada"
      ],
      "execution_count": null,
      "outputs": []
    },
    {
      "cell_type": "markdown",
      "metadata": {
        "id": "Z1FIfhDBdzx3"
      },
      "source": [
        "Les erreurs d'exécution ne seront idéalement pas abordées dans ce cours, mais elles se produisent parfois. Une erreur d'exécution courante est la boucle infinie, dans laquelle votre code continue à faire X jusqu'à ce que Y arrive... mais Y n'arrive jamais. Voici un exemple, mais avant de l'exécuter, vous devez être conscient de deux choses :\n",
        "* Dans colab, vous pouvez arrêter l'exécution d'un bloc de code en utilisant le petit bouton 'stop' sur le côté gauche du bloc.\n",
        "* Vous pouvez effacer la sortie d'un bloc de code en utilisant le bouton en haut à gauche de la zone de sortie. (Vous allez avoir besoin de faire cela, car le bloc ci-dessous continue d'imprimer des choses jusqu'à ce que vous l'arrêtiez). "
      ]
    },
    {
      "cell_type": "code",
      "metadata": {
        "id": "RolHSILmewIK"
      },
      "source": [
        "x = 2\n",
        "\n",
        "while x > 0:\n",
        "  print(x)\n",
        "  print(\"This loop never ends because x is always 2\")"
      ],
      "execution_count": null,
      "outputs": []
    },
    {
      "cell_type": "markdown",
      "metadata": {
        "id": "9rxg7DLIf2uY"
      },
      "source": [
        "##Exercice\n",
        "1\\) Dans un nouveau cahier, écrivez un code qui prend des entiers compris entre 0 et 999, place toutes les valeurs divisibles par 7 dans une nouvelle liste, convertit cette liste en un tableau NumPy et la multiplie par 3.\n",
        "\n",
        "2\\) Dans un nouveau cahier, écrivez un code qui trouve tous les nombres premiers de 0 à 1000. Ce n'est pas une tâche facile, et si vous êtes bloqué, je vous suggère les étapes suivantes :\n",
        "\n",
        "* Regardez d'abord en ligne pour trouver de l'inspiration. La raison pour laquelle c'est une bonne étape est qu'elle vous oblige à réfléchir à ce que vous recherchez, puis à évaluer si ce que vous trouvez correspond à ce que vous vouliez.\n",
        "* En dernier recours, regardez le code ci-dessous, mais **ne regardez pas le code ci-dessous si vous voulez trouver votre propre solution à l'exercice!**"
      ]
    },
    {
      "cell_type": "code",
      "metadata": {
        "colab": {
          "base_uri": "https://localhost:8080/"
        },
        "id": "NW2Vbt43yEs_",
        "outputId": "60cfd53f-e77d-468e-a4c4-2bcacf90e1b2"
      },
      "source": [
        "# Code to find prime numbers up to 1000\n",
        "# Remember, prime numbers are those that are only divisible by 1 and the number itself\n",
        "\n",
        "# First we define an empty list to contain our prime numbers\n",
        "primes = []\n",
        "\n",
        "# Then we run through all then number from 1 to 1000 and check if they are divisible by anything other than 1 and the number itself\n",
        "# To speed things up a bit, we actually just need to test if they are divisble by anything ranging from 2 to the number itself minus 1.\n",
        "\n",
        "# Note on the use of range below:\n",
        "# 1) By default, range starts counting at 0, so to avoid testing 0 we use an additional 'start' argument, setting it to 1\n",
        "# 2) Also, we add one to the 'stop' argument because of how range counts. If we want our last value to be 1000, we have to set 'stop' to 1000 + 1.\n",
        "\n",
        "for i in range(1, 1000 + 1):\n",
        "  isPrime = True  # Until we find a value (in the right range) that i is divisible by, we will assume it is a prime\n",
        "  for x in range(2, i):  # This defines the range of values that we need to see if 'i' is divisible by. We ignore 1, and i itself\n",
        "    if i%x == 0:  # If i is divisible by x, then...\n",
        "      isPrime = False  # Not a prime number\n",
        "      break  # No need to test all the remaining numbers\n",
        "  \n",
        "  # Note that if we check i%x for all values of x, and i%x is never == 0, then isPrime is still 'True'\n",
        "  if isPrime == True:\n",
        "    primes.append(i)\n",
        "\n",
        "print(\"Primes: \", end=\"\")\n",
        "print(primes)"
      ],
      "execution_count": null,
      "outputs": [
        {
          "output_type": "stream",
          "text": [
            "Primes: [1, 2, 3, 5, 7, 11, 13, 17, 19, 23, 29, 31, 37, 41, 43, 47, 53, 59, 61, 67, 71, 73, 79, 83, 89, 97, 101, 103, 107, 109, 113, 127, 131, 137, 139, 149, 151, 157, 163, 167, 173, 179, 181, 191, 193, 197, 199, 211, 223, 227, 229, 233, 239, 241, 251, 257, 263, 269, 271, 277, 281, 283, 293, 307, 311, 313, 317, 331, 337, 347, 349, 353, 359, 367, 373, 379, 383, 389, 397, 401, 409, 419, 421, 431, 433, 439, 443, 449, 457, 461, 463, 467, 479, 487, 491, 499, 503, 509, 521, 523, 541, 547, 557, 563, 569, 571, 577, 587, 593, 599, 601, 607, 613, 617, 619, 631, 641, 643, 647, 653, 659, 661, 673, 677, 683, 691, 701, 709, 719, 727, 733, 739, 743, 751, 757, 761, 769, 773, 787, 797, 809, 811, 821, 823, 827, 829, 839, 853, 857, 859, 863, 877, 881, 883, 887, 907, 911, 919, 929, 937, 941, 947, 953, 967, 971, 977, 983, 991, 997]\n"
          ],
          "name": "stdout"
        }
      ]
    }
  ]
}