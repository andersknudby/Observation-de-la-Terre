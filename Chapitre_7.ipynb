{
  "nbformat": 4,
  "nbformat_minor": 0,
  "metadata": {
    "colab": {
      "name": "Chapter 7.ipynb",
      "provenance": [],
      "collapsed_sections": [],
      "authorship_tag": "ABX9TyNr3YzArAc5WfIlnCCA4mSG",
      "include_colab_link": true
    },
    "kernelspec": {
      "name": "python3",
      "display_name": "Python 3"
    }
  },
  "cells": [
    {
      "cell_type": "markdown",
      "metadata": {
        "id": "view-in-github",
        "colab_type": "text"
      },
      "source": [
        "<a href=\"https://colab.research.google.com/github/andersknudby/Teledetection/blob/master/Chapitre_7.ipynb\" target=\"_parent\"><img src=\"https://colab.research.google.com/assets/colab-badge.svg\" alt=\"Open In Colab\"/></a>"
      ]
    },
    {
      "cell_type": "markdown",
      "metadata": {
        "id": "U1D0DubEBPrZ"
      },
      "source": [
        "#Chapitre 7 - Travailler avec des données vectorielles\n",
        "Ce chapitre vous aidera à apprendre comment lire et écrire des données vectorielles, et comment travailler avec des données vectorielles et des données d'image en combinaison - plus précisément, comment extraire des valeurs d'une image matricielle pour des emplacements dans le fichier vectoriel. Le travail avec des données vectorielles en Python est, d'une certaine manière, similaire au travail avec des données matricielles - GDAL fournit une structure de base qui inclut un jeu de données avec des propriétés, et le jeu de données peut inclure un certain nombre de couches, les couches contiennent des caractéristiques, et les caractéristiques ont des attributs (comme ceux que vous voyez dans le tableau d'attributs pour n'importe quel fichier de forme ('shapefile') lorsque vous l'ouvrez dans un logiciel SIG). En plus de GDAL, plusieurs autres bibliothèques Python ont été créées pour faciliter et accélérer la manipulation des données vectorielles. Pour commencer, nous devons installer rasterio, ainsi qu'une bibliothèque appelée geopandas."
      ]
    },
    {
      "cell_type": "code",
      "metadata": {
        "colab": {
          "base_uri": "https://localhost:8080/"
        },
        "id": "xycMu1E5tdr3",
        "outputId": "bba5255d-df6c-4cf6-8c2c-98a332cb322e"
      },
      "source": [
        "!pip install rasterio\n",
        "!pip install geopandas\n",
        "\n",
        "from shapely.geometry import Point\n",
        "import rasterio\n",
        "import geopandas as gpd"
      ],
      "execution_count": null,
      "outputs": [
        {
          "output_type": "stream",
          "text": [
            "Requirement already satisfied: rasterio in /usr/local/lib/python3.6/dist-packages (1.1.8)\n",
            "Requirement already satisfied: affine in /usr/local/lib/python3.6/dist-packages (from rasterio) (2.3.0)\n",
            "Requirement already satisfied: cligj>=0.5 in /usr/local/lib/python3.6/dist-packages (from rasterio) (0.7.1)\n",
            "Requirement already satisfied: attrs in /usr/local/lib/python3.6/dist-packages (from rasterio) (20.3.0)\n",
            "Requirement already satisfied: snuggs>=1.4.1 in /usr/local/lib/python3.6/dist-packages (from rasterio) (1.4.7)\n",
            "Requirement already satisfied: click-plugins in /usr/local/lib/python3.6/dist-packages (from rasterio) (1.1.1)\n",
            "Requirement already satisfied: click<8,>=4.0 in /usr/local/lib/python3.6/dist-packages (from rasterio) (7.1.2)\n",
            "Requirement already satisfied: numpy in /usr/local/lib/python3.6/dist-packages (from rasterio) (1.19.4)\n",
            "Requirement already satisfied: pyparsing>=2.1.6 in /usr/local/lib/python3.6/dist-packages (from snuggs>=1.4.1->rasterio) (2.4.7)\n",
            "Requirement already satisfied: geopandas in /usr/local/lib/python3.6/dist-packages (0.8.1)\n",
            "Requirement already satisfied: shapely in /usr/local/lib/python3.6/dist-packages (from geopandas) (1.7.1)\n",
            "Requirement already satisfied: pyproj>=2.2.0 in /usr/local/lib/python3.6/dist-packages (from geopandas) (3.0.0.post1)\n",
            "Requirement already satisfied: pandas>=0.23.0 in /usr/local/lib/python3.6/dist-packages (from geopandas) (1.1.5)\n",
            "Requirement already satisfied: fiona in /usr/local/lib/python3.6/dist-packages (from geopandas) (1.8.18)\n",
            "Requirement already satisfied: certifi in /usr/local/lib/python3.6/dist-packages (from pyproj>=2.2.0->geopandas) (2020.12.5)\n",
            "Requirement already satisfied: python-dateutil>=2.7.3 in /usr/local/lib/python3.6/dist-packages (from pandas>=0.23.0->geopandas) (2.8.1)\n",
            "Requirement already satisfied: numpy>=1.15.4 in /usr/local/lib/python3.6/dist-packages (from pandas>=0.23.0->geopandas) (1.19.4)\n",
            "Requirement already satisfied: pytz>=2017.2 in /usr/local/lib/python3.6/dist-packages (from pandas>=0.23.0->geopandas) (2018.9)\n",
            "Requirement already satisfied: munch in /usr/local/lib/python3.6/dist-packages (from fiona->geopandas) (2.5.0)\n",
            "Requirement already satisfied: attrs>=17 in /usr/local/lib/python3.6/dist-packages (from fiona->geopandas) (20.3.0)\n",
            "Requirement already satisfied: cligj>=0.5 in /usr/local/lib/python3.6/dist-packages (from fiona->geopandas) (0.7.1)\n",
            "Requirement already satisfied: click<8,>=4.0 in /usr/local/lib/python3.6/dist-packages (from fiona->geopandas) (7.1.2)\n",
            "Requirement already satisfied: click-plugins>=1.0 in /usr/local/lib/python3.6/dist-packages (from fiona->geopandas) (1.1.1)\n",
            "Requirement already satisfied: six>=1.7 in /usr/local/lib/python3.6/dist-packages (from fiona->geopandas) (1.15.0)\n"
          ],
          "name": "stdout"
        }
      ]
    },
    {
      "cell_type": "markdown",
      "metadata": {
        "id": "-UXMm7pavT9Y"
      },
      "source": [
        "Comme d'habitude, nous devons également donner à Colab l'accès à certains fichiers de notre Google Drive :"
      ]
    },
    {
      "cell_type": "code",
      "metadata": {
        "id": "NMjraSktA85P",
        "colab": {
          "base_uri": "https://localhost:8080/"
        },
        "outputId": "e9fee3f1-3be5-4bc6-e2cd-717d41521cb9"
      },
      "source": [
        "from google.colab import drive\n",
        "drive.mount('/content/drive')\n",
        "\n",
        "myDir = '/content/drive/My Drive/Python files/'\n",
        "\n",
        "import os\n",
        "if os.path.exists(myDir + 'sfu.tif'):\n",
        "  print(\"Drive mounted and directory found\")\n",
        "else:\n",
        "  print(\"No access to the files\")"
      ],
      "execution_count": null,
      "outputs": [
        {
          "output_type": "stream",
          "text": [
            "Mounted at /content/drive\n",
            "Drive mounted and directory found\n"
          ],
          "name": "stdout"
        }
      ]
    },
    {
      "cell_type": "markdown",
      "metadata": {
        "id": "TlOSTHCovakQ"
      },
      "source": [
        "Ok, c'était la configuration. Sur Google Drive, dans le dossier Python files, il y a un fichier appelé 'points.shp'. Si vous l'ouvrez dans QGIS, vous verrez qu'il n'y a que six points, et si vous les superposez à l'image 'sfu.tif', vous verrez qu'ils se situent tous à l'intérieur de cette image, et que les deux fichiers ont le même système de référence de coordonnées, donc les superposer est simple :"
      ]
    },
    {
      "cell_type": "code",
      "metadata": {
        "colab": {
          "base_uri": "https://localhost:8080/",
          "height": 235
        },
        "id": "mzt_wiNft6z-",
        "outputId": "b74ba326-f295-4782-ccca-6562dfd8b83e"
      },
      "source": [
        "pointsFilename = myDir + \"points.shp\"\n",
        "pts = gpd.read_file(pointsFilename)  # I often use 'pts' as short for 'points' This is fairly common.\n",
        "pts"
      ],
      "execution_count": null,
      "outputs": [
        {
          "output_type": "execute_result",
          "data": {
            "text/html": [
              "<div>\n",
              "<style scoped>\n",
              "    .dataframe tbody tr th:only-of-type {\n",
              "        vertical-align: middle;\n",
              "    }\n",
              "\n",
              "    .dataframe tbody tr th {\n",
              "        vertical-align: top;\n",
              "    }\n",
              "\n",
              "    .dataframe thead th {\n",
              "        text-align: right;\n",
              "    }\n",
              "</style>\n",
              "<table border=\"1\" class=\"dataframe\">\n",
              "  <thead>\n",
              "    <tr style=\"text-align: right;\">\n",
              "      <th></th>\n",
              "      <th>LandCover</th>\n",
              "      <th>Altitude</th>\n",
              "      <th>geometry</th>\n",
              "    </tr>\n",
              "  </thead>\n",
              "  <tbody>\n",
              "    <tr>\n",
              "      <th>0</th>\n",
              "      <td>Forest</td>\n",
              "      <td>287</td>\n",
              "      <td>POINT (506722.856 5458623.040)</td>\n",
              "    </tr>\n",
              "    <tr>\n",
              "      <th>1</th>\n",
              "      <td>Forest</td>\n",
              "      <td>275</td>\n",
              "      <td>POINT (506902.335 5458647.466)</td>\n",
              "    </tr>\n",
              "    <tr>\n",
              "      <th>2</th>\n",
              "      <td>Forest</td>\n",
              "      <td>280</td>\n",
              "      <td>POINT (506706.926 5458652.776)</td>\n",
              "    </tr>\n",
              "    <tr>\n",
              "      <th>3</th>\n",
              "      <td>Parking lot</td>\n",
              "      <td>290</td>\n",
              "      <td>POINT (506693.651 5458566.223)</td>\n",
              "    </tr>\n",
              "    <tr>\n",
              "      <th>4</th>\n",
              "      <td>Parking lot</td>\n",
              "      <td>290</td>\n",
              "      <td>POINT (506707.988 5458563.037)</td>\n",
              "    </tr>\n",
              "    <tr>\n",
              "      <th>5</th>\n",
              "      <td>Parking lot</td>\n",
              "      <td>291</td>\n",
              "      <td>POINT (506728.166 5458552.417)</td>\n",
              "    </tr>\n",
              "  </tbody>\n",
              "</table>\n",
              "</div>"
            ],
            "text/plain": [
              "     LandCover  Altitude                        geometry\n",
              "0       Forest       287  POINT (506722.856 5458623.040)\n",
              "1       Forest       275  POINT (506902.335 5458647.466)\n",
              "2       Forest       280  POINT (506706.926 5458652.776)\n",
              "3  Parking lot       290  POINT (506693.651 5458566.223)\n",
              "4  Parking lot       290  POINT (506707.988 5458563.037)\n",
              "5  Parking lot       291  POINT (506728.166 5458552.417)"
            ]
          },
          "metadata": {
            "tags": []
          },
          "execution_count": 117
        }
      ]
    },
    {
      "cell_type": "markdown",
      "metadata": {
        "id": "48IukZ7MwRmI"
      },
      "source": [
        "Facile, non ? La variable 'pts' est un objet appelé un **geodataframe**, qui correspond assez fidèlement au tableau d'attributs du fichier de forme - chaque point est stocké comme une 'caractéristique' dans une ligne, et chaque attribut est stocké dans une colonne.\n",
        "\n",
        "Un **géodataframe** est basé sur un plus petit type d'objet de la bibliothèque pandas, appelé **dataframe**. Mais la particularité d'un géodataframe est qu'il est toujours associé à des informations géographiques, dans l'attribut \"geometry\". Dans l'ensemble de données 'pts', vous verrez que ces informations contiennent l'étiquette 'POINT', ainsi que les coordonnées x et y de chaque point.\n",
        "\n",
        "Nous pouvons obtenir quelques informations de base sur ce cadre de données géographiques :"
      ]
    },
    {
      "cell_type": "code",
      "metadata": {
        "colab": {
          "base_uri": "https://localhost:8080/"
        },
        "id": "6HZolmMVBLsI",
        "outputId": "452754f4-83d3-4b7b-d4e0-ccfa740d85c3"
      },
      "source": [
        "print(\"Number of rows:\", len(pts))\n",
        "pts.crs"
      ],
      "execution_count": null,
      "outputs": [
        {
          "output_type": "stream",
          "text": [
            "Number of rows: 7\n"
          ],
          "name": "stdout"
        },
        {
          "output_type": "execute_result",
          "data": {
            "text/plain": [
              "<Projected CRS: EPSG:32610>\n",
              "Name: WGS 84 / UTM zone 10N\n",
              "Axis Info [cartesian]:\n",
              "- E[east]: Easting (metre)\n",
              "- N[north]: Northing (metre)\n",
              "Area of Use:\n",
              "- name: Between 126°W and 120°W, northern hemisphere between equator and 84°N, onshore and offshore. Canada - British Columbia (BC); Northwest Territories (NWT); Nunavut; Yukon. United States (USA) - Alaska (AK).\n",
              "- bounds: (-126.0, 0.0, -120.0, 84.0)\n",
              "Coordinate Operation:\n",
              "- name: UTM zone 10N\n",
              "- method: Transverse Mercator\n",
              "Datum: World Geodetic System 1984\n",
              "- Ellipsoid: WGS 84\n",
              "- Prime Meridian: Greenwich"
            ]
          },
          "metadata": {
            "tags": []
          },
          "execution_count": 128
        }
      ]
    },
    {
      "cell_type": "markdown",
      "metadata": {
        "id": "ZaMjtq3EyAoJ"
      },
      "source": [
        "Vous pouvez travailler avec les géodonnées de plusieurs façons ; nous allons nous contenter d'examiner les méthodes les plus courantes pour les manipuler.\n",
        "\n",
        "Si vous souhaitez supprimer une colonne, vous pouvez utiliser la fonction 'drop' :"
      ]
    },
    {
      "cell_type": "code",
      "metadata": {
        "colab": {
          "base_uri": "https://localhost:8080/",
          "height": 235
        },
        "id": "rK0Y2jCewUtW",
        "outputId": "aa7f5e7e-2ab3-47ad-9698-cee7ed132dde"
      },
      "source": [
        "pts = pts.drop(['LandCover'], axis=1)\n",
        "pts"
      ],
      "execution_count": null,
      "outputs": [
        {
          "output_type": "execute_result",
          "data": {
            "text/html": [
              "<div>\n",
              "<style scoped>\n",
              "    .dataframe tbody tr th:only-of-type {\n",
              "        vertical-align: middle;\n",
              "    }\n",
              "\n",
              "    .dataframe tbody tr th {\n",
              "        vertical-align: top;\n",
              "    }\n",
              "\n",
              "    .dataframe thead th {\n",
              "        text-align: right;\n",
              "    }\n",
              "</style>\n",
              "<table border=\"1\" class=\"dataframe\">\n",
              "  <thead>\n",
              "    <tr style=\"text-align: right;\">\n",
              "      <th></th>\n",
              "      <th>Altitude</th>\n",
              "      <th>geometry</th>\n",
              "    </tr>\n",
              "  </thead>\n",
              "  <tbody>\n",
              "    <tr>\n",
              "      <th>0</th>\n",
              "      <td>287</td>\n",
              "      <td>POINT (506722.856 5458623.040)</td>\n",
              "    </tr>\n",
              "    <tr>\n",
              "      <th>1</th>\n",
              "      <td>275</td>\n",
              "      <td>POINT (506902.335 5458647.466)</td>\n",
              "    </tr>\n",
              "    <tr>\n",
              "      <th>2</th>\n",
              "      <td>280</td>\n",
              "      <td>POINT (506706.926 5458652.776)</td>\n",
              "    </tr>\n",
              "    <tr>\n",
              "      <th>3</th>\n",
              "      <td>290</td>\n",
              "      <td>POINT (506693.651 5458566.223)</td>\n",
              "    </tr>\n",
              "    <tr>\n",
              "      <th>4</th>\n",
              "      <td>290</td>\n",
              "      <td>POINT (506707.988 5458563.037)</td>\n",
              "    </tr>\n",
              "    <tr>\n",
              "      <th>5</th>\n",
              "      <td>291</td>\n",
              "      <td>POINT (506728.166 5458552.417)</td>\n",
              "    </tr>\n",
              "  </tbody>\n",
              "</table>\n",
              "</div>"
            ],
            "text/plain": [
              "   Altitude                        geometry\n",
              "0       287  POINT (506722.856 5458623.040)\n",
              "1       275  POINT (506902.335 5458647.466)\n",
              "2       280  POINT (506706.926 5458652.776)\n",
              "3       290  POINT (506693.651 5458566.223)\n",
              "4       290  POINT (506707.988 5458563.037)\n",
              "5       291  POINT (506728.166 5458552.417)"
            ]
          },
          "metadata": {
            "tags": []
          },
          "execution_count": 118
        }
      ]
    },
    {
      "cell_type": "markdown",
      "metadata": {
        "id": "UMAqhtk0yWFk"
      },
      "source": [
        "Et si vous voulez ajouter une colonne, vous pouvez le faire comme ceci :"
      ]
    },
    {
      "cell_type": "code",
      "metadata": {
        "colab": {
          "base_uri": "https://localhost:8080/",
          "height": 235
        },
        "id": "pBCs6N80yfkr",
        "outputId": "1d2a1fff-e91f-4761-9a81-75bee195a28d"
      },
      "source": [
        "owner = ['SFU', 'SFU', 'SFU', 'SFU', 'SFU', 'SFU']\n",
        "pts['Owner'] = owner\n",
        "pts"
      ],
      "execution_count": null,
      "outputs": [
        {
          "output_type": "execute_result",
          "data": {
            "text/html": [
              "<div>\n",
              "<style scoped>\n",
              "    .dataframe tbody tr th:only-of-type {\n",
              "        vertical-align: middle;\n",
              "    }\n",
              "\n",
              "    .dataframe tbody tr th {\n",
              "        vertical-align: top;\n",
              "    }\n",
              "\n",
              "    .dataframe thead th {\n",
              "        text-align: right;\n",
              "    }\n",
              "</style>\n",
              "<table border=\"1\" class=\"dataframe\">\n",
              "  <thead>\n",
              "    <tr style=\"text-align: right;\">\n",
              "      <th></th>\n",
              "      <th>Altitude</th>\n",
              "      <th>geometry</th>\n",
              "      <th>Owner</th>\n",
              "    </tr>\n",
              "  </thead>\n",
              "  <tbody>\n",
              "    <tr>\n",
              "      <th>0</th>\n",
              "      <td>287</td>\n",
              "      <td>POINT (506722.856 5458623.040)</td>\n",
              "      <td>SFU</td>\n",
              "    </tr>\n",
              "    <tr>\n",
              "      <th>1</th>\n",
              "      <td>275</td>\n",
              "      <td>POINT (506902.335 5458647.466)</td>\n",
              "      <td>SFU</td>\n",
              "    </tr>\n",
              "    <tr>\n",
              "      <th>2</th>\n",
              "      <td>280</td>\n",
              "      <td>POINT (506706.926 5458652.776)</td>\n",
              "      <td>SFU</td>\n",
              "    </tr>\n",
              "    <tr>\n",
              "      <th>3</th>\n",
              "      <td>290</td>\n",
              "      <td>POINT (506693.651 5458566.223)</td>\n",
              "      <td>SFU</td>\n",
              "    </tr>\n",
              "    <tr>\n",
              "      <th>4</th>\n",
              "      <td>290</td>\n",
              "      <td>POINT (506707.988 5458563.037)</td>\n",
              "      <td>SFU</td>\n",
              "    </tr>\n",
              "    <tr>\n",
              "      <th>5</th>\n",
              "      <td>291</td>\n",
              "      <td>POINT (506728.166 5458552.417)</td>\n",
              "      <td>SFU</td>\n",
              "    </tr>\n",
              "  </tbody>\n",
              "</table>\n",
              "</div>"
            ],
            "text/plain": [
              "   Altitude                        geometry Owner\n",
              "0       287  POINT (506722.856 5458623.040)   SFU\n",
              "1       275  POINT (506902.335 5458647.466)   SFU\n",
              "2       280  POINT (506706.926 5458652.776)   SFU\n",
              "3       290  POINT (506693.651 5458566.223)   SFU\n",
              "4       290  POINT (506707.988 5458563.037)   SFU\n",
              "5       291  POINT (506728.166 5458552.417)   SFU"
            ]
          },
          "metadata": {
            "tags": []
          },
          "execution_count": 119
        }
      ]
    },
    {
      "cell_type": "markdown",
      "metadata": {
        "id": "C3hIhuqqzDHw"
      },
      "source": [
        "De même, si vous voulez supprimer la première ligne :"
      ]
    },
    {
      "cell_type": "code",
      "metadata": {
        "colab": {
          "base_uri": "https://localhost:8080/",
          "height": 204
        },
        "id": "lrW8K3JXzFYv",
        "outputId": "ddd0fd8c-cb1b-4511-dd61-f62eb7506b70"
      },
      "source": [
        "pts = pts.drop([0])\n",
        "pts"
      ],
      "execution_count": null,
      "outputs": [
        {
          "output_type": "execute_result",
          "data": {
            "text/html": [
              "<div>\n",
              "<style scoped>\n",
              "    .dataframe tbody tr th:only-of-type {\n",
              "        vertical-align: middle;\n",
              "    }\n",
              "\n",
              "    .dataframe tbody tr th {\n",
              "        vertical-align: top;\n",
              "    }\n",
              "\n",
              "    .dataframe thead th {\n",
              "        text-align: right;\n",
              "    }\n",
              "</style>\n",
              "<table border=\"1\" class=\"dataframe\">\n",
              "  <thead>\n",
              "    <tr style=\"text-align: right;\">\n",
              "      <th></th>\n",
              "      <th>Altitude</th>\n",
              "      <th>geometry</th>\n",
              "      <th>Owner</th>\n",
              "    </tr>\n",
              "  </thead>\n",
              "  <tbody>\n",
              "    <tr>\n",
              "      <th>1</th>\n",
              "      <td>275</td>\n",
              "      <td>POINT (506902.335 5458647.466)</td>\n",
              "      <td>SFU</td>\n",
              "    </tr>\n",
              "    <tr>\n",
              "      <th>2</th>\n",
              "      <td>280</td>\n",
              "      <td>POINT (506706.926 5458652.776)</td>\n",
              "      <td>SFU</td>\n",
              "    </tr>\n",
              "    <tr>\n",
              "      <th>3</th>\n",
              "      <td>290</td>\n",
              "      <td>POINT (506693.651 5458566.223)</td>\n",
              "      <td>SFU</td>\n",
              "    </tr>\n",
              "    <tr>\n",
              "      <th>4</th>\n",
              "      <td>290</td>\n",
              "      <td>POINT (506707.988 5458563.037)</td>\n",
              "      <td>SFU</td>\n",
              "    </tr>\n",
              "    <tr>\n",
              "      <th>5</th>\n",
              "      <td>291</td>\n",
              "      <td>POINT (506728.166 5458552.417)</td>\n",
              "      <td>SFU</td>\n",
              "    </tr>\n",
              "  </tbody>\n",
              "</table>\n",
              "</div>"
            ],
            "text/plain": [
              "   Altitude                        geometry Owner\n",
              "1       275  POINT (506902.335 5458647.466)   SFU\n",
              "2       280  POINT (506706.926 5458652.776)   SFU\n",
              "3       290  POINT (506693.651 5458566.223)   SFU\n",
              "4       290  POINT (506707.988 5458563.037)   SFU\n",
              "5       291  POINT (506728.166 5458552.417)   SFU"
            ]
          },
          "metadata": {
            "tags": []
          },
          "execution_count": 120
        }
      ]
    },
    {
      "cell_type": "markdown",
      "metadata": {
        "id": "syHHtRBHzKu5"
      },
      "source": [
        "Si vous voulez ajouter une nouvelle ligne (ou plusieurs lignes), cela devient un peu plus compliqué, mais pas impossible :"
      ]
    },
    {
      "cell_type": "code",
      "metadata": {
        "colab": {
          "base_uri": "https://localhost:8080/",
          "height": 266
        },
        "id": "sTdB1_HEzNEI",
        "outputId": "88b9520e-2d09-4149-ae69-62e5a39f7cef"
      },
      "source": [
        "toAdd = [{'Altitude': 567, 'Owner': 'SFU', 'geometry': Point(506700, 5458600)},\n",
        "         {'Altitude': 234, 'Owner': 'SFU', 'geometry': Point(506696, 5458612)}]\n",
        "\n",
        "pts = pts.append(gpd.GeoDataFrame(toAdd))\n",
        "pts"
      ],
      "execution_count": null,
      "outputs": [
        {
          "output_type": "execute_result",
          "data": {
            "text/html": [
              "<div>\n",
              "<style scoped>\n",
              "    .dataframe tbody tr th:only-of-type {\n",
              "        vertical-align: middle;\n",
              "    }\n",
              "\n",
              "    .dataframe tbody tr th {\n",
              "        vertical-align: top;\n",
              "    }\n",
              "\n",
              "    .dataframe thead th {\n",
              "        text-align: right;\n",
              "    }\n",
              "</style>\n",
              "<table border=\"1\" class=\"dataframe\">\n",
              "  <thead>\n",
              "    <tr style=\"text-align: right;\">\n",
              "      <th></th>\n",
              "      <th>Altitude</th>\n",
              "      <th>geometry</th>\n",
              "      <th>Owner</th>\n",
              "    </tr>\n",
              "  </thead>\n",
              "  <tbody>\n",
              "    <tr>\n",
              "      <th>1</th>\n",
              "      <td>275</td>\n",
              "      <td>POINT (506902.335 5458647.466)</td>\n",
              "      <td>SFU</td>\n",
              "    </tr>\n",
              "    <tr>\n",
              "      <th>2</th>\n",
              "      <td>280</td>\n",
              "      <td>POINT (506706.926 5458652.776)</td>\n",
              "      <td>SFU</td>\n",
              "    </tr>\n",
              "    <tr>\n",
              "      <th>3</th>\n",
              "      <td>290</td>\n",
              "      <td>POINT (506693.651 5458566.223)</td>\n",
              "      <td>SFU</td>\n",
              "    </tr>\n",
              "    <tr>\n",
              "      <th>4</th>\n",
              "      <td>290</td>\n",
              "      <td>POINT (506707.988 5458563.037)</td>\n",
              "      <td>SFU</td>\n",
              "    </tr>\n",
              "    <tr>\n",
              "      <th>5</th>\n",
              "      <td>291</td>\n",
              "      <td>POINT (506728.166 5458552.417)</td>\n",
              "      <td>SFU</td>\n",
              "    </tr>\n",
              "    <tr>\n",
              "      <th>0</th>\n",
              "      <td>567</td>\n",
              "      <td>POINT (506700.000 5458600.000)</td>\n",
              "      <td>SFU</td>\n",
              "    </tr>\n",
              "    <tr>\n",
              "      <th>1</th>\n",
              "      <td>234</td>\n",
              "      <td>POINT (506696.000 5458612.000)</td>\n",
              "      <td>SFU</td>\n",
              "    </tr>\n",
              "  </tbody>\n",
              "</table>\n",
              "</div>"
            ],
            "text/plain": [
              "   Altitude                        geometry Owner\n",
              "1       275  POINT (506902.335 5458647.466)   SFU\n",
              "2       280  POINT (506706.926 5458652.776)   SFU\n",
              "3       290  POINT (506693.651 5458566.223)   SFU\n",
              "4       290  POINT (506707.988 5458563.037)   SFU\n",
              "5       291  POINT (506728.166 5458552.417)   SFU\n",
              "0       567  POINT (506700.000 5458600.000)   SFU\n",
              "1       234  POINT (506696.000 5458612.000)   SFU"
            ]
          },
          "metadata": {
            "tags": []
          },
          "execution_count": 121
        }
      ]
    },
    {
      "cell_type": "markdown",
      "metadata": {
        "id": "Ix7VcgfQCVw5"
      },
      "source": [
        "## Extraire des valeurs d'un fichier matriciel vers un fichier de forme de points\n",
        "Il est très fréquent que vous ayez un ensemble de points, peut-être des endroits où vous avez été et observé quelque chose, et vous voulez extraire des valeurs d'un fichier raster exactement à ces points. Il existe des outils dans ArcGIS et QGIS pour faire cela, mais c'est également très facile à faire avec Python et geopandas. Tout d'abord, nous devons ouvrir le fichier image, comme nous l'avons fait dans le dernier chapitre :"
      ]
    },
    {
      "cell_type": "code",
      "metadata": {
        "id": "FP1v5_UjCvxm"
      },
      "source": [
        "imageFilename = myDir + 'sfu.tif'\n",
        "ds = rasterio.open(imageFilename)  # ds is a commonly used shorthand for 'dataset'"
      ],
      "execution_count": null,
      "outputs": []
    },
    {
      "cell_type": "markdown",
      "metadata": {
        "id": "ymku-HA7C_Ie"
      },
      "source": [
        "Nous devons ensuite obtenir toutes les coordonnées (x, y) du fichier de forme des points. Nous pouvons le faire dans une boucle 'for', où nous utilisons 'i' pour itérer à travers les numéros de ligne dans 'pts'. Pour ce faire, nous utilisons la fonction 'iloc', qui renvoie le numéro de ligne donné à partir du cadre de géodonnées :"
      ]
    },
    {
      "cell_type": "code",
      "metadata": {
        "colab": {
          "base_uri": "https://localhost:8080/"
        },
        "id": "v99afQPZEVu_",
        "outputId": "d9da553f-b8bc-4bc9-ef62-955fd14cec2a"
      },
      "source": [
        "coords = []\n",
        "for i in range(len(pts)):\n",
        "  x = pts.iloc[i].geometry.x\n",
        "  y = pts.iloc[i].geometry.y\n",
        "  coords.append((x, y))\n",
        "coords"
      ],
      "execution_count": null,
      "outputs": [
        {
          "output_type": "execute_result",
          "data": {
            "text/plain": [
              "[(506902.3346581877, 5458647.466136725),\n",
              " (506706.926073132, 5458652.776152623),\n",
              " (506693.6510333864, 5458566.222893482),\n",
              " (506707.98807631165, 5458563.036883943),\n",
              " (506728.16613672505, 5458552.416852146),\n",
              " (506700.0, 5458600.0),\n",
              " (506696.0, 5458612.0)]"
            ]
          },
          "metadata": {
            "tags": []
          },
          "execution_count": 138
        }
      ]
    },
    {
      "cell_type": "markdown",
      "metadata": {
        "id": "GEqq3pQHFOoB"
      },
      "source": [
        "Il y a souvent d'autres façons de faire des choses itératives en Python qu'avec une boucle for. Une alternative à ce qui précède consiste à utiliser \"list comprehension\", dont le code est plus complexe à écrire, mais qui nécessite moins de lignes et s'exécute plus rapidement. Le résultat est exactement le même :"
      ]
    },
    {
      "cell_type": "code",
      "metadata": {
        "colab": {
          "base_uri": "https://localhost:8080/"
        },
        "id": "z_iDYX-kDC13",
        "outputId": "c905a269-f9b7-45bc-c409-cc2316956f00"
      },
      "source": [
        "coords = [(x, y) for x, y in zip(pts.geometry.x, pts.geometry.y)]\n",
        "coords"
      ],
      "execution_count": null,
      "outputs": [
        {
          "output_type": "execute_result",
          "data": {
            "text/plain": [
              "[(506902.3346581877, 5458647.466136725),\n",
              " (506706.926073132, 5458652.776152623),\n",
              " (506693.6510333864, 5458566.222893482),\n",
              " (506707.98807631165, 5458563.036883943),\n",
              " (506728.16613672505, 5458552.416852146),\n",
              " (506700.0, 5458600.0),\n",
              " (506696.0, 5458612.0)]"
            ]
          },
          "metadata": {
            "tags": []
          },
          "execution_count": 132
        }
      ]
    },
    {
      "cell_type": "markdown",
      "metadata": {
        "id": "x3ibZemqDej_"
      },
      "source": [
        "Lorsque nous avons les coordonnées de tous les points, nous pouvons utiliser la fonction 'sample' de rasterio pour obtenir les valeurs des pixels - dans chaque bande, pour chacun des emplacements des points. Pour cela, nous utilisons une autre liste de compréhension. Rappelez-vous que dans notre image, les bandes rouges étaient les premières, puis les vertes, et enfin les bleues. Nous devons fournir cette information comme argument 'indexes' à la fonction sample."
      ]
    },
    {
      "cell_type": "code",
      "metadata": {
        "colab": {
          "base_uri": "https://localhost:8080/",
          "height": 266
        },
        "id": "sKY0OsgjDtJO",
        "outputId": "48edaae0-20a1-41ea-ddaf-5dabc8bb9777"
      },
      "source": [
        "pts[\"red\"] = [x[0] for x in ds.sample(coords, indexes=1)]\n",
        "pts[\"green\"] = [x[0] for x in ds.sample(coords, indexes=2)]\n",
        "pts[\"blue\"] = [x[0] for x in ds.sample(coords, indexes=3)]\n",
        "pts"
      ],
      "execution_count": null,
      "outputs": [
        {
          "output_type": "execute_result",
          "data": {
            "text/html": [
              "<div>\n",
              "<style scoped>\n",
              "    .dataframe tbody tr th:only-of-type {\n",
              "        vertical-align: middle;\n",
              "    }\n",
              "\n",
              "    .dataframe tbody tr th {\n",
              "        vertical-align: top;\n",
              "    }\n",
              "\n",
              "    .dataframe thead th {\n",
              "        text-align: right;\n",
              "    }\n",
              "</style>\n",
              "<table border=\"1\" class=\"dataframe\">\n",
              "  <thead>\n",
              "    <tr style=\"text-align: right;\">\n",
              "      <th></th>\n",
              "      <th>Altitude</th>\n",
              "      <th>geometry</th>\n",
              "      <th>Owner</th>\n",
              "      <th>red</th>\n",
              "      <th>green</th>\n",
              "      <th>blue</th>\n",
              "    </tr>\n",
              "  </thead>\n",
              "  <tbody>\n",
              "    <tr>\n",
              "      <th>1</th>\n",
              "      <td>275</td>\n",
              "      <td>POINT (506902.335 5458647.466)</td>\n",
              "      <td>SFU</td>\n",
              "      <td>46</td>\n",
              "      <td>66</td>\n",
              "      <td>54</td>\n",
              "    </tr>\n",
              "    <tr>\n",
              "      <th>2</th>\n",
              "      <td>280</td>\n",
              "      <td>POINT (506706.926 5458652.776)</td>\n",
              "      <td>SFU</td>\n",
              "      <td>27</td>\n",
              "      <td>29</td>\n",
              "      <td>18</td>\n",
              "    </tr>\n",
              "    <tr>\n",
              "      <th>3</th>\n",
              "      <td>290</td>\n",
              "      <td>POINT (506693.651 5458566.223)</td>\n",
              "      <td>SFU</td>\n",
              "      <td>147</td>\n",
              "      <td>166</td>\n",
              "      <td>172</td>\n",
              "    </tr>\n",
              "    <tr>\n",
              "      <th>4</th>\n",
              "      <td>290</td>\n",
              "      <td>POINT (506707.988 5458563.037)</td>\n",
              "      <td>SFU</td>\n",
              "      <td>149</td>\n",
              "      <td>168</td>\n",
              "      <td>172</td>\n",
              "    </tr>\n",
              "    <tr>\n",
              "      <th>5</th>\n",
              "      <td>291</td>\n",
              "      <td>POINT (506728.166 5458552.417)</td>\n",
              "      <td>SFU</td>\n",
              "      <td>141</td>\n",
              "      <td>160</td>\n",
              "      <td>166</td>\n",
              "    </tr>\n",
              "    <tr>\n",
              "      <th>0</th>\n",
              "      <td>567</td>\n",
              "      <td>POINT (506700.000 5458600.000)</td>\n",
              "      <td>SFU</td>\n",
              "      <td>88</td>\n",
              "      <td>122</td>\n",
              "      <td>145</td>\n",
              "    </tr>\n",
              "    <tr>\n",
              "      <th>1</th>\n",
              "      <td>234</td>\n",
              "      <td>POINT (506696.000 5458612.000)</td>\n",
              "      <td>SFU</td>\n",
              "      <td>41</td>\n",
              "      <td>51</td>\n",
              "      <td>39</td>\n",
              "    </tr>\n",
              "  </tbody>\n",
              "</table>\n",
              "</div>"
            ],
            "text/plain": [
              "   Altitude                        geometry Owner  red  green  blue\n",
              "1       275  POINT (506902.335 5458647.466)   SFU   46     66    54\n",
              "2       280  POINT (506706.926 5458652.776)   SFU   27     29    18\n",
              "3       290  POINT (506693.651 5458566.223)   SFU  147    166   172\n",
              "4       290  POINT (506707.988 5458563.037)   SFU  149    168   172\n",
              "5       291  POINT (506728.166 5458552.417)   SFU  141    160   166\n",
              "0       567  POINT (506700.000 5458600.000)   SFU   88    122   145\n",
              "1       234  POINT (506696.000 5458612.000)   SFU   41     51    39"
            ]
          },
          "metadata": {
            "tags": []
          },
          "execution_count": 135
        }
      ]
    },
    {
      "cell_type": "markdown",
      "metadata": {
        "id": "Og8NvwqlGKO-"
      },
      "source": [
        "Cela fonctionne bien car nos deux systèmes de coordonnées - pour les données matricielles et vectorielles - sont alignés. Mais que se passe-t-il si ce n'est pas le cas ? Dans ce cas, vous devez d'abord reprojeter l'un des ensembles de données pour qu'il corresponde aux coordonnées de l'autre. En général, le plus simple, et certainement le plus rapide, est de reprojeter les données vectorielles, car le nombre de calculs nécessaires pour reprojeter les données matricielles est beaucoup plus important. Faisons un essai, même si nous n'en avons pas besoin avec ces deux ensembles de données.\n",
        "\n",
        "La première étape consiste à tester réellement si les deux systèmes de référence de coordonnées sont les mêmes. Cela peut être fait comme suit :"
      ]
    },
    {
      "cell_type": "code",
      "metadata": {
        "colab": {
          "base_uri": "https://localhost:8080/"
        },
        "id": "XXkdq9ejGlot",
        "outputId": "bad54ef7-4476-4685-8942-5d8a9c49d47f"
      },
      "source": [
        "epsgPoints = pts.crs.to_epsg()  # Get the EPSG number of the CRS of the vector data\n",
        "epsgRaster = ds.crs.to_epsg()  # Get the EPSG number of the CRS of the vector data\n",
        "epsgPoints == epsgRaster  # This tests whether the two EPSG numbers are the same."
      ],
      "execution_count": null,
      "outputs": [
        {
          "output_type": "execute_result",
          "data": {
            "text/plain": [
              "True"
            ]
          },
          "metadata": {
            "tags": []
          },
          "execution_count": 154
        }
      ]
    },
    {
      "cell_type": "markdown",
      "metadata": {
        "id": "rQuQyVQyIuqH"
      },
      "source": [
        "Mais bon, imaginons que les données matricielles utilisent plutôt EPSG 32609 (c'est-à-dire une zone UTM à l'ouest). Nous devrions alors reprojeter les points pour utiliser les coordonnées de cette zone UTM à la place :"
      ]
    },
    {
      "cell_type": "code",
      "metadata": {
        "id": "13HP0l-JHBpI"
      },
      "source": [
        "newPts = pts.to_crs(\"EPSG:32609\")"
      ],
      "execution_count": null,
      "outputs": []
    },
    {
      "cell_type": "markdown",
      "metadata": {
        "id": "f4lye4SDJjhm"
      },
      "source": [
        "Maintenant, nous allons essayer de répéter ce que nous avons fait ci-dessus, mais avec les données reprojetées. Je sais que c'est faux, mais ça peut être intéressant de voir ce qui se passe :"
      ]
    },
    {
      "cell_type": "code",
      "metadata": {
        "colab": {
          "base_uri": "https://localhost:8080/",
          "height": 266
        },
        "id": "CGeXmSmXJbOn",
        "outputId": "63b3690e-5297-478b-c127-7c2c7b134b4d"
      },
      "source": [
        "coords = [(x, y) for x, y in zip(newPts.geometry.x, newPts.geometry.y)]\n",
        "pts[\"red\"] = [x[0] for x in ds.sample(coords, indexes=1)]\n",
        "pts[\"green\"] = [x[0] for x in ds.sample(coords, indexes=2)]\n",
        "pts[\"blue\"] = [x[0] for x in ds.sample(coords, indexes=3)]\n",
        "pts"
      ],
      "execution_count": null,
      "outputs": [
        {
          "output_type": "execute_result",
          "data": {
            "text/html": [
              "<div>\n",
              "<style scoped>\n",
              "    .dataframe tbody tr th:only-of-type {\n",
              "        vertical-align: middle;\n",
              "    }\n",
              "\n",
              "    .dataframe tbody tr th {\n",
              "        vertical-align: top;\n",
              "    }\n",
              "\n",
              "    .dataframe thead th {\n",
              "        text-align: right;\n",
              "    }\n",
              "</style>\n",
              "<table border=\"1\" class=\"dataframe\">\n",
              "  <thead>\n",
              "    <tr style=\"text-align: right;\">\n",
              "      <th></th>\n",
              "      <th>Altitude</th>\n",
              "      <th>geometry</th>\n",
              "      <th>Owner</th>\n",
              "      <th>red</th>\n",
              "      <th>green</th>\n",
              "      <th>blue</th>\n",
              "    </tr>\n",
              "  </thead>\n",
              "  <tbody>\n",
              "    <tr>\n",
              "      <th>1</th>\n",
              "      <td>275</td>\n",
              "      <td>POINT (506902.335 5458647.466)</td>\n",
              "      <td>SFU</td>\n",
              "      <td>NaN</td>\n",
              "      <td>NaN</td>\n",
              "      <td>NaN</td>\n",
              "    </tr>\n",
              "    <tr>\n",
              "      <th>2</th>\n",
              "      <td>280</td>\n",
              "      <td>POINT (506706.926 5458652.776)</td>\n",
              "      <td>SFU</td>\n",
              "      <td>NaN</td>\n",
              "      <td>NaN</td>\n",
              "      <td>NaN</td>\n",
              "    </tr>\n",
              "    <tr>\n",
              "      <th>3</th>\n",
              "      <td>290</td>\n",
              "      <td>POINT (506693.651 5458566.223)</td>\n",
              "      <td>SFU</td>\n",
              "      <td>NaN</td>\n",
              "      <td>NaN</td>\n",
              "      <td>NaN</td>\n",
              "    </tr>\n",
              "    <tr>\n",
              "      <th>4</th>\n",
              "      <td>290</td>\n",
              "      <td>POINT (506707.988 5458563.037)</td>\n",
              "      <td>SFU</td>\n",
              "      <td>NaN</td>\n",
              "      <td>NaN</td>\n",
              "      <td>NaN</td>\n",
              "    </tr>\n",
              "    <tr>\n",
              "      <th>5</th>\n",
              "      <td>291</td>\n",
              "      <td>POINT (506728.166 5458552.417)</td>\n",
              "      <td>SFU</td>\n",
              "      <td>NaN</td>\n",
              "      <td>NaN</td>\n",
              "      <td>NaN</td>\n",
              "    </tr>\n",
              "    <tr>\n",
              "      <th>0</th>\n",
              "      <td>567</td>\n",
              "      <td>POINT (506700.000 5458600.000)</td>\n",
              "      <td>SFU</td>\n",
              "      <td>NaN</td>\n",
              "      <td>NaN</td>\n",
              "      <td>NaN</td>\n",
              "    </tr>\n",
              "    <tr>\n",
              "      <th>1</th>\n",
              "      <td>234</td>\n",
              "      <td>POINT (506696.000 5458612.000)</td>\n",
              "      <td>SFU</td>\n",
              "      <td>NaN</td>\n",
              "      <td>NaN</td>\n",
              "      <td>NaN</td>\n",
              "    </tr>\n",
              "  </tbody>\n",
              "</table>\n",
              "</div>"
            ],
            "text/plain": [
              "   Altitude                        geometry Owner  red  green  blue\n",
              "1       275  POINT (506902.335 5458647.466)   SFU  NaN    NaN   NaN\n",
              "2       280  POINT (506706.926 5458652.776)   SFU  NaN    NaN   NaN\n",
              "3       290  POINT (506693.651 5458566.223)   SFU  NaN    NaN   NaN\n",
              "4       290  POINT (506707.988 5458563.037)   SFU  NaN    NaN   NaN\n",
              "5       291  POINT (506728.166 5458552.417)   SFU  NaN    NaN   NaN\n",
              "0       567  POINT (506700.000 5458600.000)   SFU  NaN    NaN   NaN\n",
              "1       234  POINT (506696.000 5458612.000)   SFU  NaN    NaN   NaN"
            ]
          },
          "metadata": {
            "tags": []
          },
          "execution_count": 158
        }
      ]
    },
    {
      "cell_type": "markdown",
      "metadata": {
        "id": "k0D_h8MyJyyP"
      },
      "source": [
        "C'est un autre exemple d'erreur sémantique, et une erreur difficile à trouver. Python pense que tout s'est bien passé, et toutes les valeurs NaN que nous voyons maintenant dans newPts indiquent que l'image n'a aucune valeur associée aux emplacements des points. Mais c'est parce que les 'coords' font maintenant référence à un CRS différent des coordonnées de l'image, et la fonction 'sample' n'a aucun moyen de le savoir.\n",
        "\n",
        "**Leçon importante :** C'est à vous, lorsque vous écrivez votre code, de vérifier si les systèmes de référence des coordonnées de vos données correspondent ! Si ce n'est pas le cas, Python n'affichera peut-être pas d'erreur, mais votre code sera peut-être erroné !"
      ]
    },
    {
      "cell_type": "markdown",
      "metadata": {
        "id": "Bq_o9CoZKoep"
      },
      "source": [
        "La dernière chose que nous voulons faire est de réécrire le geodataframe dans un shapefile - étant donné que nous venons de faire quelque chose de mal, cela ne sera utile que comme exercice :"
      ]
    },
    {
      "cell_type": "code",
      "metadata": {
        "id": "6pj13GW0K2s3"
      },
      "source": [
        "newPtsFilename = myDir + \"newPoints.shp\"\n",
        "newPts.to_file(newPtsFilename)"
      ],
      "execution_count": null,
      "outputs": []
    },
    {
      "cell_type": "markdown",
      "metadata": {
        "id": "ht5JmZSVLNSv"
      },
      "source": [
        "Et bien sûr, nous devons démonter et vider les fichiers pour les transférer sur Google Drive :"
      ]
    },
    {
      "cell_type": "code",
      "metadata": {
        "id": "dpvgPVfvLSYA"
      },
      "source": [
        "drive.flush_and_unmount()"
      ],
      "execution_count": null,
      "outputs": []
    },
    {
      "cell_type": "markdown",
      "metadata": {
        "id": "GZKUvVGdLpOQ"
      },
      "source": [
        "##Exercice\n",
        "Dans un nouveau cahier, écrivez le code qui fait ce qui suit :\n",
        "\n",
        "1\\) Lecture de l'image 'sfu.tif'.<br>\n",
        "2\\) Calculer le CCV de l'image (voir exercice du chapitre précédent).<br>\n",
        "3\\) Lire le fichier 'points.shp'. <br>\n",
        "4\\) Extraire la valeur du CCV pour chaque point.<br>\n",
        "5\\) Écrire les résultats sous forme d'un nouveau fichier shapefile.<br>\n",
        "6\\) Ouvrez l'image originale et le nouveau fichier de forme dans QGIS, et vérifiez si les points ayant les grandes valeurs CCV sont ceux situés au-dessus de la végétation.<br>\n"
      ]
    },
    {
      "cell_type": "markdown",
      "metadata": {
        "id": "2ZuRfnkmQk4G"
      },
      "source": [
        "## Extraire des valeurs d'un raster vers un fichier de forme polygonal \n",
        "Il est parfois plus utile de travailler avec des polygones qu'avec des points, et nous pouvons également utiliser Python pour extraire des valeurs à partir de données matricielles vers des fichiers de forme polygonaux. Généralement, cette opération est souvent appelée \"statistiques zonales\". Pour ce faire, nous allons installer et utiliser une autre bibliothèque, appelée \"rasterstats\" :"
      ]
    },
    {
      "cell_type": "code",
      "metadata": {
        "colab": {
          "base_uri": "https://localhost:8080/"
        },
        "id": "VxxglzrPRRmJ",
        "outputId": "a65e888b-026e-428b-b940-91be248ab91d"
      },
      "source": [
        "!pip install rasterstats\n",
        "import rasterstats"
      ],
      "execution_count": null,
      "outputs": [
        {
          "output_type": "stream",
          "text": [
            "Collecting rasterstats\n",
            "  Downloading https://files.pythonhosted.org/packages/9f/52/055b2b736e4aa1126c4619a561b44c3bc30fbe48025e6f3275b92928a0a0/rasterstats-0.15.0-py3-none-any.whl\n",
            "Requirement already satisfied: shapely in /usr/local/lib/python3.6/dist-packages (from rasterstats) (1.7.1)\n",
            "Requirement already satisfied: affine<3.0 in /usr/local/lib/python3.6/dist-packages (from rasterstats) (2.3.0)\n",
            "Requirement already satisfied: cligj>=0.4 in /usr/local/lib/python3.6/dist-packages (from rasterstats) (0.7.1)\n",
            "Requirement already satisfied: rasterio>=1.0 in /usr/local/lib/python3.6/dist-packages (from rasterstats) (1.1.8)\n",
            "Collecting simplejson\n",
            "\u001b[?25l  Downloading https://files.pythonhosted.org/packages/73/96/1e6b19045375890068d7342cbe280dd64ae73fd90b9735b5efb8d1e044a1/simplejson-3.17.2-cp36-cp36m-manylinux2010_x86_64.whl (127kB)\n",
            "\u001b[K     |████████████████████████████████| 133kB 5.9MB/s \n",
            "\u001b[?25hRequirement already satisfied: numpy>=1.9 in /usr/local/lib/python3.6/dist-packages (from rasterstats) (1.19.4)\n",
            "Requirement already satisfied: fiona in /usr/local/lib/python3.6/dist-packages (from rasterstats) (1.8.18)\n",
            "Requirement already satisfied: click<8,>=4.0 in /usr/local/lib/python3.6/dist-packages (from cligj>=0.4->rasterstats) (7.1.2)\n",
            "Requirement already satisfied: attrs in /usr/local/lib/python3.6/dist-packages (from rasterio>=1.0->rasterstats) (20.3.0)\n",
            "Requirement already satisfied: snuggs>=1.4.1 in /usr/local/lib/python3.6/dist-packages (from rasterio>=1.0->rasterstats) (1.4.7)\n",
            "Requirement already satisfied: click-plugins in /usr/local/lib/python3.6/dist-packages (from rasterio>=1.0->rasterstats) (1.1.1)\n",
            "Requirement already satisfied: six>=1.7 in /usr/local/lib/python3.6/dist-packages (from fiona->rasterstats) (1.15.0)\n",
            "Requirement already satisfied: munch in /usr/local/lib/python3.6/dist-packages (from fiona->rasterstats) (2.5.0)\n",
            "Requirement already satisfied: certifi in /usr/local/lib/python3.6/dist-packages (from fiona->rasterstats) (2020.12.5)\n",
            "Requirement already satisfied: pyparsing>=2.1.6 in /usr/local/lib/python3.6/dist-packages (from snuggs>=1.4.1->rasterio>=1.0->rasterstats) (2.4.7)\n",
            "Installing collected packages: simplejson, rasterstats\n",
            "Successfully installed rasterstats-0.15.0 simplejson-3.17.2\n"
          ],
          "name": "stdout"
        }
      ]
    },
    {
      "cell_type": "markdown",
      "metadata": {
        "id": "b-BbSpLGRU7W"
      },
      "source": [
        "Pour le fichier raster, nous pouvons travailler avec l'image 'sfu.tif' qui est déjà chargée. Et pour les données polygonales, nous pouvons travailler avec le nom de fichier 'polygons.shp' :"
      ]
    },
    {
      "cell_type": "code",
      "metadata": {
        "colab": {
          "base_uri": "https://localhost:8080/",
          "height": 176
        },
        "id": "zkCajwyDRree",
        "outputId": "4232b0c6-1eaf-4f1e-b6be-7402ceef01ee"
      },
      "source": [
        "from google.colab import drive\n",
        "drive.mount('/content/drive')\n",
        "\n",
        "myDir = '/content/drive/My Drive/Python files/'\n",
        "\n",
        "import os\n",
        "if os.path.exists(myDir + 'sfu.tif'):\n",
        "  print(\"Drive mounted and directory found\")\n",
        "else:\n",
        "  print(\"No access to the files\")\n",
        "\n",
        "polygonsFilename = myDir + \"polygons.shp\"\n",
        "polys = gpd.read_file(polygonsFilename)  # I often use 'pts' as short for 'points' This is fairly common.\n",
        "polys"
      ],
      "execution_count": null,
      "outputs": [
        {
          "output_type": "stream",
          "text": [
            "Mounted at /content/drive\n",
            "Drive mounted and directory found\n"
          ],
          "name": "stdout"
        },
        {
          "output_type": "execute_result",
          "data": {
            "text/html": [
              "<div>\n",
              "<style scoped>\n",
              "    .dataframe tbody tr th:only-of-type {\n",
              "        vertical-align: middle;\n",
              "    }\n",
              "\n",
              "    .dataframe tbody tr th {\n",
              "        vertical-align: top;\n",
              "    }\n",
              "\n",
              "    .dataframe thead th {\n",
              "        text-align: right;\n",
              "    }\n",
              "</style>\n",
              "<table border=\"1\" class=\"dataframe\">\n",
              "  <thead>\n",
              "    <tr style=\"text-align: right;\">\n",
              "      <th></th>\n",
              "      <th>Type</th>\n",
              "      <th>geometry</th>\n",
              "    </tr>\n",
              "  </thead>\n",
              "  <tbody>\n",
              "    <tr>\n",
              "      <th>0</th>\n",
              "      <td>Soccer field</td>\n",
              "      <td>POLYGON ((506671.880 5458456.306, 506762.150 5...</td>\n",
              "    </tr>\n",
              "    <tr>\n",
              "      <th>1</th>\n",
              "      <td>Roof</td>\n",
              "      <td>POLYGON ((506827.994 5458444.093, 506869.413 5...</td>\n",
              "    </tr>\n",
              "    <tr>\n",
              "      <th>2</th>\n",
              "      <td>Forest</td>\n",
              "      <td>POLYGON ((506963.931 5458670.299, 506975.613 5...</td>\n",
              "    </tr>\n",
              "  </tbody>\n",
              "</table>\n",
              "</div>"
            ],
            "text/plain": [
              "           Type                                           geometry\n",
              "0  Soccer field  POLYGON ((506671.880 5458456.306, 506762.150 5...\n",
              "1          Roof  POLYGON ((506827.994 5458444.093, 506869.413 5...\n",
              "2        Forest  POLYGON ((506963.931 5458670.299, 506975.613 5..."
            ]
          },
          "metadata": {
            "tags": []
          },
          "execution_count": 167
        }
      ]
    },
    {
      "cell_type": "markdown",
      "metadata": {
        "id": "m-lyw74cR6En"
      },
      "source": [
        "Essayons de trouver lequel des trois polygones est le plus lumineux. Pour ce faire, nous devons d'abord calculer la luminosité de l'image :"
      ]
    },
    {
      "cell_type": "code",
      "metadata": {
        "colab": {
          "base_uri": "https://localhost:8080/"
        },
        "id": "g0NIxiZoSHKx",
        "outputId": "b04ab49b-d1c6-4db2-91f2-44e5afee36e1"
      },
      "source": [
        "import numpy as np  # We need NumPy for this\n",
        "\n",
        "# And we need to open the image file again\n",
        "imageFilename = myDir + 'sfu.tif'\n",
        "ds = rasterio.open(imageFilename)  # ds is a commonly used shorthand for 'dataset'\n",
        "\n",
        "band1 = ds.read(1).astype('uint16')\n",
        "band2 = ds.read(2).astype('uint16')\n",
        "band3 = ds.read(3).astype('uint16')\n",
        "brightness = (band1 + band2 + band3) / 3\n",
        "brightness"
      ],
      "execution_count": null,
      "outputs": [
        {
          "output_type": "execute_result",
          "data": {
            "text/plain": [
              "array([[ 43.33333333,  49.33333333,  54.        , ...,  57.66666667,\n",
              "         58.66666667,  56.33333333],\n",
              "       [ 34.66666667,  35.66666667,  47.        , ...,  57.33333333,\n",
              "         53.66666667,  52.        ],\n",
              "       [ 41.66666667,  38.66666667,  40.33333333, ...,  45.        ,\n",
              "         49.        ,  53.        ],\n",
              "       ...,\n",
              "       [ 88.66666667,  90.        , 105.        , ...,  28.        ,\n",
              "         26.33333333,  25.        ],\n",
              "       [ 70.66666667,  76.        ,  99.        , ...,  26.33333333,\n",
              "         24.33333333,  24.        ],\n",
              "       [ 57.66666667,  70.33333333, 100.        , ...,  25.        ,\n",
              "         23.66666667,  24.33333333]])"
            ]
          },
          "metadata": {
            "tags": []
          },
          "execution_count": 173
        }
      ]
    },
    {
      "cell_type": "markdown",
      "metadata": {
        "id": "CraL3UOOfx55"
      },
      "source": [
        "Maintenant, la luminosité est un tableau NumPy, mais il reste deux problèmes :\n",
        "\n",
        "1\\) Les tableaux NumPy ne sont pas associés à des informations de localisation, nous devons donc extraire ces informations des données matricielles. Sinon, il n'y a aucun moyen d'associer les coordonnées de chaque polygone aux lignes et colonnes du tableau NumPy ! Pour ce faire, nous pouvons utiliser les informations de géotransformation de ds, en utilisant 'ds.transform'.\n",
        "\n",
        "2\\) Nous devons également fournir des informations sur la valeur, dans le tableau NumPy, qui est utilisée pour les données manquantes. Il s'agit de la valeur standard \"nan\" utilisée par NumPy.\n",
        "\n",
        "Au final, nous pouvons utiliser la fonction rasterstats zonal_stats comme suit :\n"
      ]
    },
    {
      "cell_type": "code",
      "metadata": {
        "colab": {
          "base_uri": "https://localhost:8080/"
        },
        "id": "-Yj0bfPdgCGy",
        "outputId": "04f9a4e3-9c62-4774-8a3f-8eaa9fecaec5"
      },
      "source": [
        "stats = rasterstats.zonal_stats(polys, band1, nodata=np.nan, affine=ds.transform)  # This works\n",
        "stats"
      ],
      "execution_count": null,
      "outputs": [
        {
          "output_type": "execute_result",
          "data": {
            "text/plain": [
              "[{'count': 480124, 'max': 251.0, 'mean': 140.33809599186876, 'min': 42.0},\n",
              " {'count': 62428, 'max': 237.0, 'mean': 74.28887678605754, 'min': 9.0},\n",
              " {'count': 93533, 'max': 100.0, 'mean': 35.84866303871361, 'min': 7.0}]"
            ]
          },
          "metadata": {
            "tags": []
          },
          "execution_count": 192
        }
      ]
    },
    {
      "cell_type": "markdown",
      "metadata": {
        "id": "jwjPemNTkyot"
      },
      "source": [
        "Notez que la fonction zonal_stats peut également travailler avec des fichiers directement, plutôt qu'avec des objets de données déjà lus dans Python. Voici deux exemples qui donneraient les mêmes résultats que le précédent :"
      ]
    },
    {
      "cell_type": "code",
      "metadata": {
        "id": "h8AKV-7Lk-B-"
      },
      "source": [
        "stats = rasterstats.zonal_stats(polygonsFilename, imageFilename)  # Using files for both vector and raster data\n",
        "stats = rasterstats.zonal_stats(polys, imageFilename)  # Using the 'polys' object with the raster file"
      ],
      "execution_count": null,
      "outputs": []
    },
    {
      "cell_type": "markdown",
      "metadata": {
        "id": "okP8uHWZlI4r"
      },
      "source": [
        "##Exercice\n",
        "Trouvez lequel des trois polygones a la valeur moyenne de CCV la plus élevée."
      ]
    }
  ]
}