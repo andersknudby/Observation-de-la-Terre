{
  "nbformat": 4,
  "nbformat_minor": 0,
  "metadata": {
    "colab": {
      "name": "GEE Labo 3.ipynb",
      "private_outputs": true,
      "provenance": [],
      "collapsed_sections": [],
      "toc_visible": true,
      "include_colab_link": true
    },
    "kernelspec": {
      "name": "python3",
      "display_name": "Python 3"
    }
  },
  "cells": [
    {
      "cell_type": "markdown",
      "metadata": {
        "id": "view-in-github",
        "colab_type": "text"
      },
      "source": [
        "<a href=\"https://colab.research.google.com/github/andersknudby/Teledetection/blob/master/GEE%20Labo%203.ipynb\" target=\"_parent\"><img src=\"https://colab.research.google.com/assets/colab-badge.svg\" alt=\"Open In Colab\"/></a>"
      ]
    },
    {
      "cell_type": "markdown",
      "metadata": {
        "id": "ZrD5e3ItlOSl"
      },
      "source": [
        "#GEE Labo 3 : Séries chronologiques et graphiques avec MODIS"
      ]
    },
    {
      "cell_type": "markdown",
      "metadata": {
        "id": "RSD6EQTqpNfo"
      },
      "source": [
        "## Introduction\n",
        "\n",
        "Dans ce laboratoire, nous allons continuer à travailler avec l'API python de Google Earth Engine dans Google Colab. Nous explorerons les jeux de données MODIS disponibles et créerons une série chronologique de température de surface de la mer (SST) avec MODIS. Nous explorerons également certaines bibliothèques graphiques python pour créer des graphiques interactifs des données du moteur Earth.\n",
        "\n",
        "\n",
        "**Fichiers dont vous avez besoin:** N/A\n",
        "\n",
        "**Préparation:** Rien"
      ]
    },
    {
      "cell_type": "markdown",
      "metadata": {
        "id": "W1Ydjvj8pR4q"
      },
      "source": [
        "## Étapes"
      ]
    },
    {
      "cell_type": "markdown",
      "metadata": {
        "id": "i-birGdTlidg"
      },
      "source": [
        "### 1. Importations, installation, authentification, initialisation\n",
        "\n",
        "Notre première étape est de mettre en place le notebook. Revoyez la description dans le premier laboratoire si vous voulez un rappel sur pourquoi nous devons faire cela !"
      ]
    },
    {
      "cell_type": "code",
      "metadata": {
        "id": "JqloY9sL4SdQ"
      },
      "source": [
        "# Install geemap library so that we can use it to view images on an interactive map\n",
        "## You may get a runtime warning - you can ignore that\n",
        "!pip install geemap"
      ],
      "execution_count": null,
      "outputs": []
    },
    {
      "cell_type": "code",
      "metadata": {
        "id": "BrNt-2X2eSxW"
      },
      "source": [
        "# Import the necessary libraries\n",
        "import ee\n",
        "import numpy as np\n",
        "import geemap.eefolium as geemap\n",
        "import pprint\n",
        "\n",
        "import pandas as pd\n",
        "import altair as alt\n",
        "import folium\n",
        "\n",
        "# Set up a 'pretty printer' to print ...\n",
        "pp = pprint.PrettyPrinter(depth=3)"
      ],
      "execution_count": null,
      "outputs": []
    },
    {
      "cell_type": "code",
      "metadata": {
        "id": "eCgdEO86zQX5"
      },
      "source": [
        "# Authenticate and initialize this instance of GEE in Google Colab\n",
        "## Follow the prompts and fill in authentication code\n",
        "ee.Authenticate()\n",
        "ee.Initialize()"
      ],
      "execution_count": null,
      "outputs": []
    },
    {
      "cell_type": "markdown",
      "metadata": {
        "id": "W-mfqz8w53CR"
      },
      "source": [
        "### 2. MODIS\n",
        "\n",
        "Jusqu'à présent, dans ces laboratoires d'GEE, nous avons presque exclusivement utilisé des données Landsat. Les données Landsat conviennent bien à l'apprentissage de GEE car elles possèdent des produits TOA et de réflectance de surface bien connus qui couvrent une très longue période, ont une bonne résolution spectrale et une résolution spatiale décente pour de nombreuses applications. Pour cette raison, Google et d'autres utilisateurs de GEE disposent d'une documentation abondante sur l'utilisation de l'imagerie Landsat dans GEE. \n",
        "\n",
        "Cependant, l'un des principaux avantages de l'utilisation de GEE est la facilité d'accès à d'énormes quantités de *différents types de données*. GEE combine des collections entières d'images et de produits d'imagerie provenant de divers satellites et organisations et permet de les analyser facilement, sans avoir à télécharger des images individuelles à partir de la source.\n",
        "\n",
        "Ainsi, pour mieux comprendre la puissance de Google Earth Engine, et pour vous exposer à d'autres codes que vous pourrez utiliser à l'avenir, pour ce laboratoire, nous allons examiner des données à résolution spatiale modérée et à haute résolution temporelle avec MODIS."
      ]
    },
    {
      "cell_type": "markdown",
      "metadata": {
        "id": "fJdJvI3FouTs"
      },
      "source": [
        "#### MODIS Info\n",
        "\n",
        "MODIS (ou Moderate Resolution Imaging Spectroradiometer) est un instrument embarqué à bord de deux satellites complémentaires lancés par la NASA : **Terra** et **Aqua**. Combinés, les instruments MODIS Terra et Aqua prennent des images de toute la surface de la Terre tous les 1 à 2 jours, acquérant des données dans 36 bandes spectrales à une résolution de 250 m (bandes 1-2), 500 m (bandes 3-7) et 1000 m (bandes 8-36). \n",
        " \n",
        "Grâce à leur faible résolution spatiale mais à leur haute résolution temporelle, les données MODIS sont utiles pour suivre l'évolution du paysage dans le temps.\n",
        "\n",
        "Comme Landsat, MODIS dispose de produits de données en plus de l'imagerie à 36 bandes à laquelle vous pouvez accéder à partir du catalogue GEE. Consultez toutes les données disponibles dans la [section MODIS du catalogue GEE](https://developers.google.com/earth-engine/datasets/catalog/modis).\n",
        "\n",
        "La structure des données MODIS est un peu plus complexe que ce que nous avons traité jusqu'à présent. Les données de MODIS sont traitées par divers groupes (selon le produit) afin de créer les produits de données disponibles. Contrairement à d'autres données satellitaires, MODIS ne fournit pas de scènes non traitées au grand public."
      ]
    },
    {
      "cell_type": "markdown",
      "metadata": {
        "id": "SORQDynznaf2"
      },
      "source": [
        "#### Utilisation de la réflectance de surface MODIS\n",
        "Pour commencer, nous allons utiliser le produit de données quotidiennes MOD09GA.006 Terra Surface Reflectance Daily Global 1km and 500m. Cette collection a une réflectance de surface disponible à une résolution de 500m, ainsi que des informations sur les bits d'assurance qualité (QA) des pixels à la résolution de 1000m. Ces bits d'assurance qualité contiennent des informations sur la contamination des nuages, ainsi que le nombre d'observations qui composent un pixel donné - n'oubliez pas que ces pixels sont des produits de données*** et qu'ils peuvent donc représenter plus d'une observation.\n",
        "\n",
        "Le masquage des pixels non désirés se fait de la même manière que pour Landsat, en utilisant les bandes QA des pixels MODIS. Dans ce cas, nous allons créer des fonctions pour masquer à la fois les pixels de nuages (à partir de la bande QA `state_1km`) et les pixels sans observations (à partir de la bande `num_observation_1km`). "
      ]
    },
    {
      "cell_type": "code",
      "metadata": {
        "id": "L4-syH_VgLSV"
      },
      "source": [
        "#Calculate how frequently a location is labeled as clear (i.e. non-cloudy)\n",
        "#according to the \"internal cloud algorithm flag\" of the MODIS \"state 1km\"\n",
        "#QA band.\n",
        "\n",
        "# A function to mask out pixels that did not have observations.\n",
        "def maskEmptyPixels(image):\n",
        "  # Find pixels with >0 observations and mask out all other pixels \n",
        "  withObs = image.select('num_observations_1km').gt(0)\n",
        "  return image.updateMask(withObs)\n",
        "\n",
        "# A function to mask out cloudy pixels.\n",
        "def maskClouds(image):\n",
        "  #Select the QA band.\n",
        "  QA = image.select('state_1km')\n",
        "  # Make a mask to get bit 10, the internal_cloud_algorithm_flag bit.\n",
        "  bitMask = 1 << 10\n",
        "  # Return an image masking out cloudy areas.\n",
        "  return image.updateMask(QA.bitwiseAnd(bitMask).eq(0))\n"
      ],
      "execution_count": null,
      "outputs": []
    },
    {
      "cell_type": "markdown",
      "metadata": {
        "id": "c8pkxC_wnB3s"
      },
      "source": [
        "Maintenant, appliquons les fonctions de masquage à une collection et affichons-la sur la carte :"
      ]
    },
    {
      "cell_type": "code",
      "metadata": {
        "id": "P2ecKhTHnAlF"
      },
      "source": [
        "# Start with an image collection for summer 2010 and apply masks\n",
        "summer2010 = ee.ImageCollection('MODIS/006/MOD09GA')\\\n",
        "        .filterDate('2010-04-01', '2010-09-30')\\\n",
        "        .map(maskEmptyPixels)\\\n",
        "        .map(maskClouds)\n",
        "\n",
        "# note that slashes \\ are used in the code above to allow another line of code for \n",
        "# formatting appearance (the code could all be on one long line, if you wanted)\n",
        "# in some cases, code automatically continues to the next line, e.g. when there are commas,\n",
        "# but sometimes we need to tell the code that we are continuing on the next line with a \\\n",
        "\n",
        "# Get the median pixel value for summer 2010\n",
        "# Recall from the last lab that this is a temporal reducer\n",
        "summer2010med = summer2010.median()\n",
        "\n",
        "# Note that true colour for this MODIS dataset is Band 1 in Red, Band 4 in Green, and Band 3 in Blue\n",
        "visParams = {'bands': ['sur_refl_b01', 'sur_refl_b04', 'sur_refl_b03'],\n",
        "     'gain': 0.07,\n",
        "     'gamma': 1.4\n",
        "    }\n",
        "\n",
        "Map = geemap.Map()\n",
        "Map.addLayer(summer2010med,visParams,'Summer 2010 Median SR')\n",
        "Map.addLayerControl()\n",
        "Map.setCenter(41.92,32.36,5)\n",
        "Map"
      ],
      "execution_count": null,
      "outputs": []
    },
    {
      "cell_type": "markdown",
      "metadata": {
        "id": "2hHijI4Lo4Rb"
      },
      "source": [
        "Remarquez que nous n'avons pas filtré les limites de l'image et que nous avons donc créé une médiane pour l'ensemble du globe (où il existe des données pour l'été 2010). Vous pouvez donc faire un panoramique et zoomer sur la zone de votre choix pour voir à quoi ressemblent les données.\n",
        "\n",
        "En raison de la fréquence temporelle élevée de MODIS, l'imagerie résultante est assez grande, car le pixel médian est potentiellement calculé à partir de 182 pixels. C'est-à-dire un pixel par jour pour chaque jour du 1er avril au 30 septembre (182 jours)."
      ]
    },
    {
      "cell_type": "markdown",
      "metadata": {
        "id": "EVAOx0gNtM-2"
      },
      "source": [
        "#### Utilisation d'autres produits de données MODIS\n",
        "\n",
        "En plus des produits de réflectance de surface, MODIS fournit également des produits spéciaux calculés à partir des données. Pour le prochain exemple, nous utiliserons les données MODIS Aqua de l'image cartographique standard de la couleur de l'océan. \n",
        "\n",
        "Ce jeu de données est un produit de niveau 3 qui comprend des données sur la couleur des océans et la biologie des océans par satellite produites par le programme Earth Science Data Systems (ESDS) de la NASA. Il comprend des bandes qui sont utiles pour calculer les données de biologie océanique en raison de leurs longueurs d'onde étroites, ainsi que certaines bandes de données pré-calculées telles que la concentration en chlorophylle-a et la température de surface de la mer (SST).\n",
        "\n",
        "Examinons la bande SST et utilisons-la pour étudier les années El Nino et La Nina. Si vous avez besoin de vous rafraîchir la mémoire, consultez les pages de la NASA consacrées aux sciences de l'enfant pour [El Nino](https://spaceplace.nasa.gov/el-nino/en/) et [La Nina](https://spaceplace.nasa.gov/la-nina/en/)."
      ]
    },
    {
      "cell_type": "code",
      "metadata": {
        "id": "qmdAu8pMA-tN"
      },
      "source": [
        "# Load MODIS Ocean Colour Image Collection\n",
        "modisOceanColor = ee.ImageCollection('NASA/OCEANDATA/MODIS-Aqua/L3SMI');\n",
        "\n",
        "# Create a collection from the SST (sea surface temperature) band\n",
        "sst = modisOceanColor.select(['sst'])\n",
        "\n",
        "# Calculate median SST values for winter 2015/2016 - an El Nino year\n",
        "sstElNino = sst.filterDate('2015-12-01', '2016-02-28').median()\n",
        "\n",
        "# Calculate median SST values for winter 2010/2011 - a La Nina year\n",
        "sstLaNina = sst.filterDate('2010-12-01', '2011-02-28').median()\n"
      ],
      "execution_count": null,
      "outputs": []
    },
    {
      "cell_type": "code",
      "metadata": {
        "id": "oY80LeCwc18S"
      },
      "source": [
        "# Create vis parameters for SST with a palette that goes from blue to red\n",
        "vis = {'min': -4, 'max': 35, 'palette': '#2166AC,#4393C3,#92C5DE,#D1E5F0,#B2182B'};\n",
        "\n",
        "Map = geemap.Map()\n",
        "Map.addLayer(sstElNino,vis,'El Nino')\n",
        "Map.addLayer(sstLaNina,vis,'La Nina')\n",
        "# set the map centre as the middle of the Pacific at a zoom level of two (pretty zoomed out)\n",
        "Map.setCenter(-146.25,0,2)\n",
        "Map.addLayerControl()\n",
        "Map"
      ],
      "execution_count": null,
      "outputs": []
    },
    {
      "cell_type": "markdown",
      "metadata": {
        "id": "nzcOPYxRxJsz"
      },
      "source": [
        "Activez et désactivez les couches pour comparer la température de surface de la mer pour les années El Nino et La Nina. \n",
        "\n",
        "Rappelez-vous de vos cours de climatologie (ou des pages NASA Kids liées ci-dessus) qu'El Nino résulte de vents commerciaux plus faibles se déplaçant d'est en ouest, ce qui entraîne des eaux plus chaudes vers la côte ouest de l'Amérique centrale et du Sud. La Nina se produit les années où les alizés sont plus forts que la normale, ce qui entraîne des eaux plus froides au large de la côte ouest de l'Amérique centrale et du Sud.\n",
        "\n",
        "L'effet d'El Niño-Southern Oscillation (ENSO) est mieux visualisé sous la forme d'une anomalie de température afin de montrer l'effet sur les zones qui ont encore des eaux relativement fraîches, plutôt que sous la forme d'une température absolue qui montre une eau de 10 degrés en bleu clair, indépendamment du fait que 10 degrés soient plus froids ou plus chauds que les conditions normales. Cependant, ces deux couches montrent bien comment MODIS peut être utilisé pour examiner des modèles de données à grande échelle. "
      ]
    },
    {
      "cell_type": "markdown",
      "metadata": {
        "id": "sjpjtw85uzZ1"
      },
      "source": [
        "### 3. Graphiques de séries temporelles avec MODIS\n"
      ]
    },
    {
      "cell_type": "markdown",
      "metadata": {
        "id": "B9yQRxD_LuQv"
      },
      "source": [
        "L'analyse des séries chronologiques consiste à examiner les données dans le temps pour détecter et décrire les changements. Avec l'imagerie, cela peut se faire sous la forme d'une vidéo ou, plus simplement, en extrayant certaines données de l'imagerie et en affichant l'évolution dans le temps sur un graphique.\n",
        "\n",
        "L'éditeur de code du moteur Google Earth dispose d'une bibliothèque graphique intégrée, appelée Chart.UI, qui intègre certaines fonctionnalités du moteur Earth, comme les réducteurs, dans des fonctions graphiques permettant de créer facilement des visualisations de données.\n",
        "\n",
        "Malheureusement, Chart.UI ne fonctionne pas dans l'API python, nous devons donc créer des fonctions de réduction que nous pouvons appliquer aux collections d'images avant de les tracer avec des bibliothèques graphiques python normales. Nous allons examiner deux bibliothèques de graphiques dans ce laboratoire : la simple **matplotlib**, et **Altair**, qui est une bibliothèque utile pour créer de belles cartes interactives."
      ]
    },
    {
      "cell_type": "markdown",
      "metadata": {
        "id": "TcERJY8SMu0L"
      },
      "source": [
        "#### Créer une fonction réductrice\n",
        "\n",
        "Pour créer une analyse de série temporelle, nous pouvons soit examiner l'évolution des valeurs des pixels dans le temps pour un **pixel unique** (à un point défini), soit examiner l'évolution des valeurs dans le temps pour une **région de pixels** (dans une géométrie définie). Dans les deux cas, nous devons utiliser un réducteur pour résumer les valeurs d'une zone avant de tracer la série chronologique. \n",
        "\n",
        "Comme mentionné, la bibliothèque Chart.UI intègre cette capacité de réduction dans ses fonctions graphiques, mais dans l'API Python de colab, nous devons définir les fonctions qui appliqueront un réducteur à une collection d'images avant de tracer la série chronologique. Les fonctions ci-dessous sont tirées directement d'un [GEE Python Charting Tutorial](https://colab.research.google.com/github/google/earthengine-community/blob/master/tutorials/time-series-visualization-with-altair/index.ipynb). \n",
        "\n",
        "La première fonction est en fait utilisée pour créer une fonction dans un petit bout de python. Le code ci-dessous définit une fonction réutilisable qui peut effectuer la tâche de réduction pour différents ensembles de données. La fonction accepte des arguments tels que l'échelle et la méthode de réduction pour paramétrer l'opération pour chaque analyse particulière.\n",
        "\n",
        "Ne vous inquiétez pas trop d'essayer de comprendre *comment* les fonctions fonctionnent. Pour nos besoins, nous avons juste besoin de savoir qu'elles fonctionnent (elles le font) et que nous pouvons les réutiliser pour convertir des collections d'images en tableaux.\n"
      ]
    },
    {
      "cell_type": "code",
      "metadata": {
        "id": "cBTQQxq02bgM"
      },
      "source": [
        "# Define a function (and embedded function) for reducing a region for charting\n",
        "# See the function descriptions defined in red within the functions\n",
        "\n",
        "def create_reduce_region_function(geometry,\n",
        "                                  reducer=ee.Reducer.median(),\n",
        "                                  scale=500,\n",
        "                                  crs='EPSG:4326',\n",
        "                                  bestEffort=True,\n",
        "                                  maxPixels=1e13,\n",
        "                                  tileScale=4):\n",
        "  \"\"\"Creates a region reduction function.\n",
        "\n",
        "  Creates a region reduction function intended to be used as the input function\n",
        "  to ee.ImageCollection.map() for reducing pixels intersecting a provided region\n",
        "  to a statistic for each image in a collection. See ee.Image.reduceRegion()\n",
        "  documentation for more details.\n",
        "\n",
        "  \"\"\"\n",
        "\n",
        "  def reduce_region_function(img):\n",
        "    \"\"\"\n",
        "      Function returns\n",
        "      An ee.Feature that contains properties representing the image region\n",
        "      reduction results per band and the image timestamp formatted as\n",
        "      milliseconds from Unix epoch (included to enable time series plotting).\n",
        "    \"\"\"\n",
        "\n",
        "    stat = img.reduceRegion(\n",
        "        reducer=reducer,\n",
        "        geometry=geometry,\n",
        "        scale=scale,\n",
        "        crs=crs,\n",
        "        bestEffort=bestEffort,\n",
        "        maxPixels=maxPixels,\n",
        "        tileScale=tileScale)\n",
        "\n",
        "    return ee.Feature(geometry, stat).set({'millis': img.date().millis()})\n",
        "  return reduce_region_function\n"
      ],
      "execution_count": null,
      "outputs": []
    },
    {
      "cell_type": "markdown",
      "metadata": {
        "id": "mzSKWE2jaAOx"
      },
      "source": [
        "Maintenant que nous avons défini nos fonctions, nous pouvons les utiliser sur une collection d'images et une région afin d'obtenir un tableau que nous pouvons utiliser comme entrée pour certaines fonctions de la bibliothèque graphique."
      ]
    },
    {
      "cell_type": "code",
      "metadata": {
        "id": "LgG_ky46bCCB"
      },
      "source": [
        "# Load MODIS Ocean Colour Image Collection\n",
        "modisOceanColor = ee.ImageCollection('NASA/OCEANDATA/MODIS-Aqua/L3SMI');\n",
        "\n",
        "# Create a collection from the SST (sea surface temperature) band\n",
        "sst = modisOceanColor.select(['sst'])\n",
        "\n",
        "# Define an area of interest (aoi)\n",
        "# We will look at Lake Erie \n",
        "aoi = ee.Geometry.Polygon([[-83.594,41.326],\n",
        "                           [-78.782,41.326],\n",
        "                           [-78.782,42.972],\n",
        "                           [-83.594,42.972],\n",
        "                           [-83.594,41.326]])\n"
      ],
      "execution_count": null,
      "outputs": []
    },
    {
      "cell_type": "code",
      "metadata": {
        "id": "hCUVO81Oogvb"
      },
      "source": [
        "# Check out the AOI if you want\n",
        "# If you know where Lake Erie is, feel free to skip this cell\n",
        "Map = geemap.Map()\n",
        "Map.addLayer(aoi,{},'AOI')\n",
        "Map"
      ],
      "execution_count": null,
      "outputs": []
    },
    {
      "cell_type": "markdown",
      "metadata": {
        "id": "Q3jLOFWjeVGj"
      },
      "source": [
        "Le prochain morceau de code fait trois choses :\n",
        "1. Assigner la fonction de réduction avec des paramètres spécifiques à la fonction, `reduce_sst`. Cela rendra plus simple le mappage de la fonction à travers la collection d'images.\n",
        "2. Mapper la fonction sur la collection d'images `sst` pour réduire chaque image.\n",
        "3. Filtre toutes les caractéristiques résultantes qui ont des valeurs calculées nulles (se produit lorsque tous les pixels dans un AOI sont masqués)."
      ]
    },
    {
      "cell_type": "code",
      "metadata": {
        "id": "kJsi6sRNbUqL"
      },
      "source": [
        "# Use the above defined function to create a reducing function specific to the SST dataset\n",
        "## We are going to leave most of the arguments as their defaults (see the above code)\n",
        "## except geometry which we set to our aoi, the reducer which we will set as the median\n",
        "reduce_sst = create_reduce_region_function(\n",
        "    geometry=aoi, reducer=ee.Reducer.median())\n",
        "\n",
        "# Convert the image collection to a feature collection with the reducer function\n",
        "## this step just applies the function we created above (reduce_sst), with its defined inputs to our\n",
        "## image collection\n",
        "sst_stat_fc = ee.FeatureCollection(sst.map(reduce_sst))\n",
        "\n",
        "# Filter out null values based on bandnames of the first image in the feature collection\n",
        "sst_stat_fc = sst_stat_fc.filter(\n",
        "    ee.Filter.notNull(sst.first().bandNames()))"
      ],
      "execution_count": null,
      "outputs": []
    },
    {
      "cell_type": "markdown",
      "metadata": {
        "id": "DCgXFZXXfTic"
      },
      "source": [
        "L'étape suivante pour formater les données pour les graphiques est de créer une fonction `fc_to_dict` pour convertir la `ee.FeatureCollection` en `ee.Dictionary`. Ensuite, nous convertissons le `ee.Dictionary` en un dataframe pandas, qui est un format de tableau commun en python.\n",
        "\n",
        "Rappelez-vous que Google Earth Engine fonctionne en envoyant du code entre votre ordinateur dans l'API python et les serveurs de Google pour le calcul. Afin de tracer des graphiques sans le fonctionnement du Chart.UI intégré de Google, nous devons transférer les données du serveur de Google (souvent appelé \"côté serveur\" dans la documentation) vers nos propres ordinateurs (appelés \"côté client\"), ce que nous faisons avec l'appel `.getInfo()`. \n",
        "\n",
        "Ce flux de travail est très utile pour intégrer les données de Google Earth Engine à d'autres bibliothèques python et fonctions de traitement de données, et pas seulement pour la création de graphiques. \n",
        "\n",
        "Mais revenons maintenant aux graphiques..."
      ]
    },
    {
      "cell_type": "code",
      "metadata": {
        "id": "Tm2dR8G82Tqx"
      },
      "source": [
        "# Define a function to transfer feature properties to a dictionary.\n",
        "# We use this to convert our earth engine object (reduced image collection) to a \n",
        "# collection of properties and their values \n",
        "\n",
        "def fc_to_dict(fc):\n",
        "  prop_names = fc.first().propertyNames()\n",
        "  prop_lists = fc.reduceColumns(\n",
        "      reducer=ee.Reducer.toList().repeat(prop_names.size()),\n",
        "      selectors=prop_names).get('list')\n",
        "\n",
        "  return ee.Dictionary.fromLists(prop_names, prop_lists)"
      ],
      "execution_count": null,
      "outputs": []
    },
    {
      "cell_type": "markdown",
      "metadata": {
        "id": "JY7wL2q7M6ir"
      },
      "source": [
        "Nous devons maintenant transférer les données, sous la forme d'un dictionnaire, sur notre propre ordinateur :"
      ]
    },
    {
      "cell_type": "code",
      "metadata": {
        "id": "ev14reOzfemW"
      },
      "source": [
        "# Convert feature collection to dictionary and use .getInfo() to transfer to our own computers\n",
        "sst_dict = fc_to_dict(sst_stat_fc).getInfo()"
      ],
      "execution_count": null,
      "outputs": []
    },
    {
      "cell_type": "markdown",
      "metadata": {
        "id": "3bbzopM-kLLq"
      },
      "source": [
        "Voyons maintenant à quoi ressemble le dictionnaire."
      ]
    },
    {
      "cell_type": "code",
      "metadata": {
        "id": "y_ELWjBGlre1"
      },
      "source": [
        "# print normally\n",
        "print(sst_dict,\"\\n\") # \\n tells it to print a new line\n",
        "\n",
        "# print some of the dictionary with formatting\n",
        "for prop in sst_dict.keys():\n",
        "    print(prop + ':', sst_dict[prop][0:3] + ['...'])"
      ],
      "execution_count": null,
      "outputs": []
    },
    {
      "cell_type": "markdown",
      "metadata": {
        "id": "I6LwMbWDTw2b"
      },
      "source": [
        "Dans le format dictionnaire, les listes de données sont stockées dans des propriétés au format `{property1: [liste de valeurs1], propriété2: [liste de valeurs2], ...}`. Ce format peut facilement être converti en un cadre de données en créant des colonnes à partir des propriétés. Pour ce faire, nous allons utiliser la fonction `.DataFrame()` de la bibliothèque pandas (que nous avons importée sous le nom de pd).\n"
      ]
    },
    {
      "cell_type": "code",
      "metadata": {
        "id": "tXbXDo9ZTufi"
      },
      "source": [
        "# Convert the dictionary to a dataframe to make the information easier to interpret\n",
        "sst_df = pd.DataFrame(sst_dict)"
      ],
      "execution_count": null,
      "outputs": []
    },
    {
      "cell_type": "markdown",
      "metadata": {
        "id": "slq2Bfc-1JK-"
      },
      "source": [
        "Voyons maintenant à quoi ressemble le cadre de données."
      ]
    },
    {
      "cell_type": "code",
      "metadata": {
        "id": "K4QDEaGK1K7D"
      },
      "source": [
        "sst_df"
      ],
      "execution_count": null,
      "outputs": []
    },
    {
      "cell_type": "markdown",
      "metadata": {
        "id": "2w_OD6Fr1SkX"
      },
      "source": [
        "Les données sont plus faciles à lire et à manipuler lorsqu'elles sont dans le format dataframe (tableau). \n",
        "\n",
        "L'étape suivante consiste à nettoyer les données avant de les tracer. La propriété `millis` contient des informations sur la date et l'heure dans un format étrange. Nous allons donc la convertir dans un format plus intuitif, puis créer des variables année, mois, jour et jour de l'année (DOY)."
      ]
    },
    {
      "cell_type": "code",
      "metadata": {
        "id": "_l1Min0cYzz8"
      },
      "source": [
        "# Function to add date variables to DataFrame.\n",
        "# This function just uses pandas functions on the millis column to create date time columns\n",
        "\n",
        "def add_date_info(df):\n",
        "  df['Timestamp'] = pd.to_datetime(df['millis'], unit='ms')\n",
        "  df['Year'] = pd.DatetimeIndex(df['Timestamp']).year\n",
        "  df['Month'] = pd.DatetimeIndex(df['Timestamp']).month\n",
        "  df['Day'] = pd.DatetimeIndex(df['Timestamp']).day\n",
        "  df['DOY'] = pd.DatetimeIndex(df['Timestamp']).dayofyear\n",
        "  return df  "
      ],
      "execution_count": null,
      "outputs": []
    },
    {
      "cell_type": "code",
      "metadata": {
        "id": "fIDeMoqk2DT7"
      },
      "source": [
        "# apply the date info function to the dataframe\n",
        "sst_df = add_date_info(sst_df)\n",
        "\n",
        "# Rename the sst column SST and remove the unnecessary millis and system:index columns\n",
        "sst_df = sst_df.rename(columns={\n",
        "    'sst': 'SST'\n",
        "}).drop(columns=['millis', 'system:index'])"
      ],
      "execution_count": null,
      "outputs": []
    },
    {
      "cell_type": "markdown",
      "metadata": {
        "id": "bazyYvkd3OPQ"
      },
      "source": [
        "Voyons maintenant à quoi ressemble notre cadre de données nettoyé."
      ]
    },
    {
      "cell_type": "code",
      "metadata": {
        "id": "LR4n0SPp3Rq7"
      },
      "source": [
        "sst_df"
      ],
      "execution_count": null,
      "outputs": []
    },
    {
      "cell_type": "markdown",
      "metadata": {
        "id": "ZIoC5HTa4po1"
      },
      "source": [
        "#### Tracer le cadre de données\n",
        "\n",
        "La partie la plus difficile est terminée. Nous disposons maintenant de nos données réduites (c'est-à-dire résumées) sur les moteurs terrestres sous forme de tableau. Si vous le souhaitez, vous pouvez exporter le tableau au format .csv et créer un graphique simple dans Excel. Cependant, une fois que l'on s'y est habitué, la création de graphiques en python est excellente et dispose de tonnes de bibliothèques et de fonctions pour créer de magnifiques graphiques personnalisés. Comme nous travaillons dans un carnet de notes, nous pouvons même les rendre interactifs !\n",
        "\n",
        "Nous n'avons pas filtré notre collection d'images par date, donc notre dataframe `sst_df` contient toutes les données incluses dans le MODIS Ocean Color Dataset, c'est-à-dire les valeurs médianes de SST pour notre Area Of Interest (AOI) depuis le 4 juillet 2002. Ce produit de données n'est pas quotidien, mais il contient quand même beaucoup de données que nous pouvons visualiser.\n",
        "\n",
        "Commençons par créer un nuage de points dans matplotlib, que vous avez peut-être déjà utilisé. "
      ]
    },
    {
      "cell_type": "markdown",
      "metadata": {
        "id": "SSbBsskYrg4K"
      },
      "source": [
        "#### Matplotlib"
      ]
    },
    {
      "cell_type": "code",
      "metadata": {
        "id": "Li9ncRe0nJh6"
      },
      "source": [
        "# import matplotlib\n",
        "import matplotlib.pyplot as plt\n",
        "\n",
        "# Set up the subplots. This is your base.\n",
        "fig, ax = plt.subplots(figsize=(14, 6))\n",
        "\n",
        "# Add scatter plot with blue points that are 20% opaque. Use DOY on the x, and SST on the y axis\n",
        "ax.scatter(sst_df['DOY'], sst_df['SST'],\n",
        "           c='black', alpha=0.2)\n",
        "\n",
        "# Add some parameters.\n",
        "ax.set_title('Lake Erie Surface Temperature Cycle', fontsize=16) # set the title\n",
        "ax.set_xlabel('Date', fontsize=14) # set the x-axis label\n",
        "ax.set_ylabel('Temperature [C]', fontsize=14) # set the y-axis label\n",
        "ax.set_ylim(-4, 30) # set the y-axis range\n",
        "ax.grid(lw=0.2) #set the opacity of the background grid to 20%\n",
        "\n",
        "\n",
        "plt.show()"
      ],
      "execution_count": null,
      "outputs": []
    },
    {
      "cell_type": "markdown",
      "metadata": {
        "id": "MlQatnO8mpFs"
      },
      "source": [
        "Notre graphique nous montre à peu près ce à quoi nous nous attendons pour un lac de l'hémisphère nord ! Il semble y avoir quelques valeurs aberrantes, mais dans l'ensemble, la température de surface du lac suit le même schéma pour tous nos points de données.\n",
        "\n",
        "Matplotlib est un standard qui est très personnalisable (et possède des tonnes de pages d'assistance sur Internet). Cependant, il existe d'autres bibliothèques qui permettent de créer plus facilement de belles visualisations.\n",
        "\n",
        "Pour cet exercice, nous utiliserons Altair, mais si vous êtes intéressé, essayez également de découvrir seaborn ! "
      ]
    },
    {
      "cell_type": "markdown",
      "metadata": {
        "id": "JRd83OPuIyei"
      },
      "source": [
        "#### Altair\n",
        "\n",
        "Le graphique matplotlib que nous avons créé est joli, mais il ne présente qu'une partie des informations dont nous disposons car il ne sépare pas les différentes années. Essayons un autre graphique avec Altair, dans lequel les différentes années sont représentées par des couleurs différentes."
      ]
    },
    {
      "cell_type": "code",
      "metadata": {
        "id": "3mpHso2EsJkJ"
      },
      "source": [
        "# Set the chart base up\n",
        "base = alt.Chart(sst_df).encode(\n",
        "    # set x-axis with DOY (see explanation of Q in comments below)\n",
        "    # the scale specifies the range of our x-axis\n",
        "    x=alt.X('DOY:Q', scale=alt.Scale(domain=[0, 370])),\n",
        "    # set y-axis as SST and set range from -5 to 30\n",
        "    y=alt.Y('SST:Q', scale=alt.Scale(domain=[-5, 30])),\n",
        "    # Change the point colours by Year value using the viridis colour scheme\n",
        "    color=alt.Color('Year:O', scale=alt.Scale(scheme='viridis')))\n",
        "\n",
        "# add the points to the map as circles\n",
        "points = base.mark_circle()\n",
        "\n",
        "# set overall properties\n",
        "(points).properties(width=600, height=350)\n",
        "\n",
        "## Note: Altair uses Q and O to specify the kind of data\n",
        "# Q = quantitative, or continuous data (like SST)\n",
        "# O = ordinal, or categorical data (like Year)"
      ],
      "execution_count": null,
      "outputs": []
    },
    {
      "cell_type": "markdown",
      "metadata": {
        "id": "GEtXyzBvbAow"
      },
      "source": [
        "Ce graphique nous aide maintenant à voir quelles sont les années où se trouvent les valeurs aberrantes. Il semble que les valeurs aberrantes proviennent de nombreuses années différentes - il n'y a pas de tendance évidente à ce qu'une année ait une TSM supérieure ou inférieure à la normale.\n",
        "\n",
        "Comme nous l'avons mentionné, Altair permet également de créer des graphiques interactifs. Nous pouvons maintenant adapter le code ci-dessus pour le rendre interactif. Nous allons également ajouter des lignes qui relient nos points pour chaque année à notre graphique."
      ]
    },
    {
      "cell_type": "code",
      "metadata": {
        "id": "6f-xb0mHFf6U"
      },
      "source": [
        "# Set the highlight parameters\n",
        "# When we hover our mouse over a point, we want all the points that share that year\n",
        "# to be highlighted\n",
        "highlight = alt.selection(\n",
        "    type='single', on='mouseover', fields=['Year'], nearest=True)\n",
        "\n",
        "# Set the base, this is the same as above.\n",
        "base = alt.Chart(sst_df).encode(\n",
        "    x=alt.X('DOY:Q', scale=alt.Scale(domain=[0, 370])),\n",
        "    y=alt.Y('SST:Q', scale=alt.Scale(domain=[-5, 30])),\n",
        "    color=alt.Color('Year:O', scale=alt.Scale(scheme='turbo')))\n",
        "\n",
        "# Add points - change the size based on the highlight condition we set above\n",
        "points = base.mark_circle().encode(\n",
        "    size=alt.condition(~highlight, alt.value(10), alt.value(15)),\n",
        "    tooltip=[\n",
        "        alt.Tooltip('Year:O', title='Year'),\n",
        "        alt.Tooltip('DOY:Q', title='DOY'),\n",
        "        alt.Tooltip('SST:Q', title='SST')\n",
        "    ]).add_selection(highlight)\n",
        "\n",
        "# Add lines - change the size based on the highlight condition\n",
        "lines = base.mark_line().encode(\n",
        "    size=alt.condition(~highlight, alt.value(1), alt.value(4)))\n",
        "\n",
        "# Set the chart properties and add .interactive()\n",
        "(points + lines).properties(width=600, height=350).interactive()"
      ],
      "execution_count": null,
      "outputs": []
    },
    {
      "cell_type": "markdown",
      "metadata": {
        "id": "gMGUR4IBJgRa"
      },
      "source": [
        "Le graphique ci-dessus est interactif - lorsque vous survolez une valeur, il vous donne des informations sur ce point. Vous pouvez également zoomer sur le graphique et le faire glisser vers le haut, le bas, la droite et la gauche.\n",
        "\n",
        "Les cartes et graphiques interactifs sont un excellent moyen d'utiliser la fonctionnalité des ordinateurs portables. "
      ]
    },
    {
      "cell_type": "markdown",
      "metadata": {
        "id": "k40yKnLH4nlh"
      },
      "source": [
        "#### Tracer la tendance de la concentration en Chl-a pour 2015\n",
        "\n",
        "Pour notre dernier exemple, nous allons modifier notre code ci-dessus pour examiner la tendance de la concentration en chlorophylle pour 2015. Il y a eu une grande prolifération d'algues en 2015 dans le lac Érié, ce que nous devrions être en mesure de voir si nous traçons les valeurs. Le code ci-dessous suit la même structure que celle que nous avons utilisée plus haut pour la SST, mais sans tous les commentaires afin que vous puissiez le voir dans un format plus condensé."
      ]
    },
    {
      "cell_type": "code",
      "metadata": {
        "id": "qwSU20MCUsRn"
      },
      "source": [
        "##### SET UP IMAGE COLLECTION AND AOI #####\n",
        "\n",
        "# Create a collection from the chlor_a (Chlorophyll-a concentration) band\n",
        "chla = modisOceanColor.select(['chlor_a'])\n",
        "\n",
        "# Define an area of interest (aoi)\n",
        "aoi = ee.Geometry.Polygon([[-83.594,41.326],\n",
        "                           [-78.782,41.326],\n",
        "                           [-78.782,42.972],\n",
        "                           [-83.594,42.972],\n",
        "                           [-83.594,41.326]])\n"
      ],
      "execution_count": null,
      "outputs": []
    },
    {
      "cell_type": "code",
      "metadata": {
        "id": "z8gsGrh1VJ2N"
      },
      "source": [
        "##### REDUCE IMAGE COLL #####\n",
        "\n",
        "# Create reducer function for mapping across image collection\n",
        "reduce_chla = create_reduce_region_function(\n",
        "    geometry=aoi, reducer=ee.Reducer.median())\n",
        "\n",
        "# Map reducing function across image collection and convert it to feature collection\n",
        "chla_stat_fc = ee.FeatureCollection(chla.map(reduce_chla))\n",
        "\n",
        "# Clean up by removing null values\n",
        "chla_stat_fc = chla_stat_fc.filter(\n",
        "    ee.Filter.notNull(chla.first().bandNames()))"
      ],
      "execution_count": null,
      "outputs": []
    },
    {
      "cell_type": "code",
      "metadata": {
        "id": "jlZviYDCVYFS"
      },
      "source": [
        "##### CONVERT COLLECTION TO TABLE #####\n",
        "\n",
        "# Convert ee feature collection to 'client-side' dictionary\n",
        "chla_dict = fc_to_dict(chla_stat_fc).getInfo()\n",
        "\n",
        "# Convert dictionary to dataframe and add date info\n",
        "chla_df = pd.DataFrame(chla_dict)\n",
        "chla_df = add_date_info(chla_df)\n",
        "\n",
        "# Clean up data columns and remove unnecessary columns\n",
        "chla_df = chla_df.drop(columns=['millis', 'system:index'])"
      ],
      "execution_count": null,
      "outputs": []
    },
    {
      "cell_type": "code",
      "metadata": {
        "id": "2_edoLetGERQ"
      },
      "source": [
        "chla_df"
      ],
      "execution_count": null,
      "outputs": []
    },
    {
      "cell_type": "markdown",
      "metadata": {
        "id": "mFqvt8exWq7J"
      },
      "source": [
        "Jusqu'à présent, la plupart de ce que nous avons fait est exactement la même chose que ce que nous avons fait pour la température de surface de la mer ci-dessus. Nous avons juste changé notre bande pour être `chlor_a` au lieu de `sst` et nous avons changé nos noms de variables pour refléter ce changement. \n",
        "\n",
        "Notre cadre de données contient toutes les données depuis 2002, mais nous ne voulons que les données de 2015. Nous ***aurions pu*** filtrer notre collection d'images au début, comme nous l'avons fait dans les laboratoires précédents, ce qui aurait nécessité moins de données car nous n'aurions pas eu besoin de convertir les valeurs de toutes les autres années en un dictionnaire et un cadre de données. Cependant, nous pouvons également filtrer notre cadre de données, ce qui nous donne un peu plus de flexibilité au cas où nous voudrions représenter d'autres années. Cela nous donne également la possibilité d'utiliser certaines fonctions pandas pour filtrer le tableau/le cadre de données."
      ]
    },
    {
      "cell_type": "code",
      "metadata": {
        "id": "GlJZ6a-4RQuI"
      },
      "source": [
        "# Filter dataframe using loc\n",
        "# This line creates a new dataframe that only include rows from the\n",
        "# original df that have values of 2015 in the Year column\n",
        "\n",
        "chla2015_df = chla_df.loc[chla_df['Year'] == 2015]"
      ],
      "execution_count": null,
      "outputs": []
    },
    {
      "cell_type": "code",
      "metadata": {
        "id": "flnrNcSRRPsH"
      },
      "source": [
        "highlight = alt.selection(\n",
        "    type='single', on='mouseover', fields=['chlor_a'], nearest=True)\n",
        "\n",
        "base = alt.Chart(chla2015_df).encode(\n",
        "    x=alt.X('DOY:Q', scale=alt.Scale(domain=[0, 370]),title = \"Day of the Year\"),\n",
        "    y=alt.Y('chlor_a:Q', scale=alt.Scale(domain=[0,15]),title='Chl-a Concentration'),\n",
        "    # use the goldgreen color scheme and set the variable as Q (continuous)\n",
        "    color=alt.Color('chlor_a:Q', scale=alt.Scale(scheme='goldgreen'))) \n",
        "\n",
        "points = base.mark_circle().encode(\n",
        "    size=alt.condition(~highlight, alt.value(100), alt.value(120)),\n",
        "    tooltip=[\n",
        "        alt.Tooltip('Year:O', title='Year'),\n",
        "        alt.Tooltip('DOY:Q', title='DOY'),\n",
        "        alt.Tooltip('chlor_a:Q', title='Chl-a')\n",
        "    ]).add_selection(highlight)\n",
        "\n",
        "(points).properties(width=600, height=350).interactive()"
      ],
      "execution_count": null,
      "outputs": []
    },
    {
      "cell_type": "markdown",
      "metadata": {
        "id": "Fa4g08gZfIId"
      },
      "source": [
        "Dans le graphique ci-dessus, nous n'avons pas eu besoin de colorer les points en fonction de la concentration en chl-a car cela n'apporte aucune information supplémentaire (nous voyons déjà le modèle de chl-a en fonction de leur position sur le graphique). Cependant, cela peut être un outil de visualisation utile pour mettre l'accent sur le changement des valeurs. Vous pouvez utiliser une seule couleur en modifiant le code ci-dessus pour la base en ceci :\n",
        "\n",
        "```\n",
        "base = alt.Chart(sst2015_df).encode(\n",
        "    x=alt.X('DOY:Q', scale=alt.Scale(domain=[0, 370]),title = \"Jour de l'année\"),\n",
        "    y=alt.Y('chlor_a:Q', scale=alt.Scale(domain=[0,15]),title=\"Concentration de Chl-a\"),\n",
        "    color=alt.value('green')) \n",
        "```\n",
        "\n",
        "Le graphique ci-dessus montre qu'il y a des valeurs de Chl-a assez élevées à la fin de l'été. Voyons maintenant à quoi ressemblent la réflectance de la surface et les valeurs de Chl-a sur une carte !"
      ]
    },
    {
      "cell_type": "code",
      "metadata": {
        "id": "N2AC4OXAfV6B"
      },
      "source": [
        "SR_Aug2015 = ee.ImageCollection('MODIS/006/MOD09GA')\\\n",
        "        .filterDate('2015-08-01', '2015-09-30')\\\n",
        "        .filterBounds(aoi)\\\n",
        "        .map(maskEmptyPixels)\\\n",
        "        .map(maskClouds)\\\n",
        "        .median()\n",
        "\n",
        "SR_May2015 = ee.ImageCollection('MODIS/006/MOD09GA')\\\n",
        "        .filterDate('2015-04-01', '2015-05-31')\\\n",
        "        .filterBounds(aoi)\\\n",
        "        .map(maskEmptyPixels)\\\n",
        "        .map(maskClouds)\\\n",
        "        .median()\n",
        "\n",
        "\n",
        "Chla_Aug2015 = ee.ImageCollection('NASA/OCEANDATA/MODIS-Aqua/L3SMI').select(['chlor_a'])\\\n",
        "        .filterDate('2015-08-01', '2015-09-30')\\\n",
        "        .filterBounds(aoi)\\\n",
        "        .median()\n",
        "\n",
        "Chla_May2015 = ee.ImageCollection('NASA/OCEANDATA/MODIS-Aqua/L3SMI').select(['chlor_a'])\\\n",
        "        .filterDate('2015-04-01', '2015-05-31')\\\n",
        "        .filterBounds(aoi)\\\n",
        "        .median()\n",
        "\n",
        "SRvis = {'bands': ['sur_refl_b01', 'sur_refl_b04', 'sur_refl_b03'],\n",
        "     'gain': 0.07,\n",
        "     'gamma': 1.7\n",
        "    }\n",
        "\n",
        "Chlavis = {'min':0,'max':16,'palette': 'blue,teal,green'};\n",
        "\n",
        "Map = geemap.Map()\n",
        "Map.addLayer(SR_May2015,SRvis,'May 2015 Median SR')\n",
        "Map.addLayer(SR_Aug2015,SRvis,'Aug 2015 Median SR')\n",
        "Map.addLayer(Chla_May2015,Chlavis,'May 2015 Median Chla')\n",
        "Map.addLayer(Chla_Aug2015,Chlavis,'Aug 2015 Median Chla')\n",
        "Map.addLayerControl()\n",
        "Map.centerObject(aoi,8)\n",
        "Map"
      ],
      "execution_count": null,
      "outputs": []
    },
    {
      "cell_type": "markdown",
      "metadata": {
        "id": "n0_5qQpMiOWx"
      },
      "source": [
        "Nous pouvons définitivement voir une différence entre les réflectances de surface pour avril/mai et août/septembre mais les valeurs de Chl-a sont très différentes ! \n",
        "\n",
        "Cela s'explique par le fait que le Chl-a est calculé en utilisant plus que les seules bandes RVB et qu'il présente donc plus de variations que ce que nous pouvons discerner à partir des images en couleurs. "
      ]
    },
    {
      "cell_type": "markdown",
      "metadata": {
        "id": "6KPRy-_lMk6O"
      },
      "source": [
        "## Questions à soumettre\n",
        "\n",
        "[Total des points = 10]\n",
        "\n",
        "Répondez aux questions suivantes dans l'espace prévu à cet effet. N'hésitez pas à ajouter du code et des cellules de texte supplémentaires si nécessaire. Assurez-vous de montrer l'ensemble de votre code.\n",
        "\n",
        "**Dans tous les cas**, si vous utilisez des morceaux de code provenant d'une autre source (ce qui n'est pas une mauvaise chose), veillez à indiquer où vous les avez trouvés."
      ]
    },
    {
      "cell_type": "markdown",
      "metadata": {
        "id": "ChwDTz1iV_w4"
      },
      "source": [
        "### Q1\n",
        "\n",
        "Affichez sur une carte la valeur médiane des TSM de 2018 pour l'ensemble du globe. Utilisez `'palette' : 'navy,blue,turquoise'` dans vos paramètres de visualisation. Assurez-vous que vos valeurs minimales et maximales ont un sens."
      ]
    },
    {
      "cell_type": "code",
      "metadata": {
        "id": "99JY5vjBSNJL"
      },
      "source": [
        "## Montrez votre code ici"
      ],
      "execution_count": null,
      "outputs": []
    },
    {
      "cell_type": "markdown",
      "metadata": {
        "id": "Aapfa7sUSNgZ"
      },
      "source": [
        "### Q2\n",
        "\n",
        "Créez un diagramme de dispersion montrant la médiane de la TSM en 2018 pour une zone de votre choix n'importe où dans le monde (au-dessus de l'eau, bien sûr). Vous pouvez choisir soit un point, soit un rectangle pour définir votre zone. Vous pouvez obtenir les latitudes et longitudes en cliquant sur une carte dans ce cahier ou dans google maps."
      ]
    },
    {
      "cell_type": "code",
      "metadata": {
        "id": "Z1GfsFwlWeWD"
      },
      "source": [
        "## Montrez votre code ici"
      ],
      "execution_count": null,
      "outputs": []
    },
    {
      "cell_type": "markdown",
      "metadata": {
        "id": "gfzX-hPrScJP"
      },
      "source": [
        "### Q3\n",
        "\n",
        "Maintenant que vous avez utilisé le moteur Google Earth, qu'en pensez-vous ? L'avez-vous trouvé utile et/ou intéressant ? Quelles sont ses forces et ses faiblesses ? Y a-t-il des choses que vous avez trouvées particulièrement difficiles ? Y a-t-il des choses que vous avez remarquées et qui sont particulièrement intéressantes ? Décrivez votre expérience en phrases complètes."
      ]
    },
    {
      "cell_type": "markdown",
      "metadata": {
        "id": "Kh0ePD3Mnn-f"
      },
      "source": [
        "// Écrivez votre réponse ici"
      ]
    }
  ]
}
